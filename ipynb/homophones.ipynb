{
 "cells": [
  {
   "cell_type": "markdown",
   "id": "b807bd11",
   "metadata": {},
   "source": [
    "Дан сокращённый словарь транскрипций русских слов в формате .txt (utf-8) по [ссылке](https://pkholyavin.github.io/compsci/prondict_small_nf_cyr.txt). На каждой строчке помещены слово (с указанием ударения) и транскрипция, разделённые знаком табуляции.\n",
    "\n",
    "Задание: найдите все слова, которые пишутся по-разному, но произносятся одинаково.\n",
    "\n",
    "Подсказка: используйте словари."
   ]
  },
  {
   "cell_type": "code",
   "execution_count": null,
   "id": "2c3e6871",
   "metadata": {},
   "outputs": [],
   "source": []
  }
 ],
 "metadata": {
  "language_info": {
   "name": "python"
  }
 },
 "nbformat": 4,
 "nbformat_minor": 5
}
