{
 "cells": [
  {
   "cell_type": "markdown",
   "id": "b807bd11",
   "metadata": {},
   "source": [
    "Дан сокращённый словарь транскрипций русских слов в формате .txt (utf-8) по [ссылке](https://pkholyavin.github.io/compsci/prondict_small_nf_cyr.txt). На каждой строчке помещены слово (с указанием ударения) и транскрипция, разделённые знаком табуляции.\n",
    "\n",
    "### Задание 1\n",
    "Найдите все слова, которые пишутся по-разному, но произносятся одинаково.\n",
    "\n",
    "Подсказка: используйте словари."
   ]
  },
  {
   "cell_type": "code",
   "execution_count": null,
   "id": "2c3e6871",
   "metadata": {},
   "outputs": [],
   "source": []
  },
  {
   "cell_type": "markdown",
   "id": "7fd75f37",
   "metadata": {},
   "source": [
    "### Задание 2\n",
    "\n",
    "Составьте частотный словарь звуков русского языка. Для этого нужно:\n",
    "1. Разбить каждую транскрипцию на звуки так, чтобы знак мягкости (') остался \"приклеенным\" к предыдущему звуку:\n",
    "\n",
    "```\n",
    "\"а́л'ин'к'иj\" -> [\"а́\", \"л'\", \"и\", \"н'\", \"к'\", \"и\", \"j\"]\n",
    "```\n",
    "\n",
    "2. Составить словарь, где ключи - звуки, а значения - сколько раз они встретились. Найдите топ-5 самых часто встречающихся звуков."
   ]
  },
  {
   "cell_type": "code",
   "execution_count": null,
   "id": "f3733220",
   "metadata": {},
   "outputs": [],
   "source": []
  },
  {
   "cell_type": "markdown",
   "id": "41d61345",
   "metadata": {},
   "source": [
    "### Задание 3\n",
    "\n",
    "Постройте график распределения длин слов русского языка (и по буквенным записям, и по транскрипции). Для этого:\n",
    "\n",
    "1. Составьте список всех слов с убранными знаками ударения. Знак основного ударения записывается как `\"\\u0301\"`, знак побочного - как `\"\\u0300\"`. Их нужно заменить на пустую строку с помощью `.replace()`.\n",
    "2. Составьте словарь-счётчик, где ключи - длины слов (целые числа), а значения - количества слов этой длины.\n",
    "3. Постройте графики по одному из вариантов ниже, сравните их.\n",
    "\n",
    "**Построение графика, вариант 1.**\n",
    "\n",
    "1. Установите библиотеку `matplotlib`, набрав в терминале `python -m pip install matplotlib` (или воспользуйтесь Google Colab, где эта библиотека предустановлена)\n",
    "2. Импортируйте её в свой код: первой строчкой программы напишите:\n",
    "\n",
    "```python\n",
    "import matplotlib.pyplot as plt\n",
    "```\n",
    "\n",
    "3. Создайте на основе своего словаря список `x_values`, в котором будут все числа от 1 до максимальной длины слова, и `y_values`, в котором будут количества слов соответствующих длин из `x_values`.\n",
    "4. Используйте `plt` для построения графика."
   ]
  },
  {
   "cell_type": "code",
   "execution_count": null,
   "id": "1d38796b",
   "metadata": {},
   "outputs": [
    {
     "data": {
      "image/png": "[encoded data removed]",
      "text/plain": [
       "<Figure size 640x480 with 1 Axes>"
      ]
     },
     "metadata": {},
     "output_type": "display_data"
    }
   ],
   "source": [
    "# Пример: график квадратичной функции от -10 до 25\n",
    "\n",
    "import matplotlib.pyplot as plt\n",
    "\n",
    "min_value = -10\n",
    "max_value = 25\n",
    "x_values = list(range(min_value, max_value + 1))\n",
    "y_values = [x ** 2 for x in x_values]\n",
    "plt.plot(x_values, y_values)\n",
    "plt.show()"
   ]
  },
  {
   "cell_type": "markdown",
   "id": "b1cdc0e1",
   "metadata": {},
   "source": [
    "Русскоязычное руководство по matplotlib можно найти, например, здесь: https://devpractice.ru/files/books/python/Matplotlib.book.pdf"
   ]
  },
  {
   "cell_type": "markdown",
   "id": "a09f3f26",
   "metadata": {},
   "source": [
    "**Построение графика, вариант 2.**\n",
    "\n",
    "1. Создайте текстовый файл `word_data.csv`, где на каждой строчке поместите длину слова и количество слов этой длины:\n",
    "\n",
    "```\n",
    "1,10\n",
    "2,50\n",
    "3,100\n",
    "4,500\n",
    "....\n",
    "```\n",
    "\n",
    "2. Откройте его с помощью Excel, выбрав в качестве разделителя запятую.\n",
    "\n",
    "3. Выделите колонки в Excel и через графу \"Вставка\" постройте график."
   ]
  },
  {
   "cell_type": "code",
   "execution_count": null,
   "id": "75225245",
   "metadata": {},
   "outputs": [],
   "source": []
  }
 ],
 "metadata": {
  "kernelspec": {
   "display_name": "Python 3",
   "language": "python",
   "name": "python3"
  },
  "language_info": {
   "codemirror_mode": {
    "name": "ipython",
    "version": 3
   },
   "file_extension": ".py",
   "mimetype": "text/x-python",
   "name": "python",
   "nbconvert_exporter": "python",
   "pygments_lexer": "ipython3",
   "version": "3.13.2"
  }
 },
 "nbformat": 4,
 "nbformat_minor": 5
}
