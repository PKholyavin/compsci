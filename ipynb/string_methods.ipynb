{
 "cells": [
  {
   "cell_type": "markdown",
   "metadata": {},
   "source": [
    "### Escape-последовательности\n",
    "\n",
    "`\\n` &ndash; новая строка  \n",
    "`\\r` &ndash; возврат каретки  \n",
    "`\\t` &ndash; табуляция  \n",
    "`\\\\` &ndash; обратный слэш\n",
    "\n",
    "Вместе с пробелом (`' '`) они составляют пробельные символы."
   ]
  },
  {
   "cell_type": "code",
   "execution_count": 1,
   "metadata": {},
   "outputs": [
    {
     "name": "stdout",
     "output_type": "stream",
     "text": [
      "a\n",
      "b\tc\n"
     ]
    }
   ],
   "source": [
    "print(\"a\\nb\\tc\")"
   ]
  },
  {
   "cell_type": "markdown",
   "metadata": {},
   "source": [
    "### Методы для работы со строками\n",
    "\n",
    "Так как строки неизменяемы, методы возвращают новые строки, а старые остаются без изменений.\n",
    "\n",
    "Метод `.split()` позволяет разбить строку на подстроки по какому-нибудь символу-разделителю. Он возвращает список строк. По умолчанию разделитель &ndash; любая последовательность пробельных символов."
   ]
  },
  {
   "cell_type": "code",
   "execution_count": 2,
   "metadata": {},
   "outputs": [
    {
     "name": "stdout",
     "output_type": "stream",
     "text": [
      "['1,', '2,', '3', '4']\n"
     ]
    }
   ],
   "source": [
    "a = \"1, 2, 3\\t4\"\n",
    "a = a.split()\n",
    "print(a)"
   ]
  },
  {
   "cell_type": "code",
   "execution_count": 3,
   "metadata": {},
   "outputs": [
    {
     "name": "stdout",
     "output_type": "stream",
     "text": [
      "['1,', '2,', '3', '4']\n"
     ]
    }
   ],
   "source": [
    "a = \"1, 2, 3\\t   4\"\n",
    "a = a.split()\n",
    "print(a)"
   ]
  },
  {
   "cell_type": "code",
   "execution_count": 4,
   "metadata": {},
   "outputs": [
    {
     "name": "stdout",
     "output_type": "stream",
     "text": [
      "['1', '2', '3']\n"
     ]
    }
   ],
   "source": [
    "a = \"1, 2, 3\"\n",
    "a = a.split(\", \")\n",
    "print(a)"
   ]
  },
  {
   "cell_type": "markdown",
   "metadata": {},
   "source": [
    "Параметр `maxsplit` позволяет указать максимальное количество разбиений."
   ]
  },
  {
   "cell_type": "code",
   "execution_count": 5,
   "metadata": {},
   "outputs": [
    {
     "name": "stdout",
     "output_type": "stream",
     "text": [
      "['1', '2, 3']\n"
     ]
    }
   ],
   "source": [
    "a = \"1, 2, 3\"\n",
    "a = a.split(\", \", maxsplit=1)\n",
    "print(a)"
   ]
  },
  {
   "cell_type": "markdown",
   "metadata": {},
   "source": [
    "Если мы хотим отсчитывать разбиения справа, используем метод `.rsplit()`."
   ]
  },
  {
   "cell_type": "code",
   "execution_count": 6,
   "metadata": {},
   "outputs": [
    {
     "name": "stdout",
     "output_type": "stream",
     "text": [
      "['1, 2', '3']\n"
     ]
    }
   ],
   "source": [
    "a = \"1, 2, 3\"\n",
    "a = a.rsplit(\", \", maxsplit=1)\n",
    "print(a)"
   ]
  },
  {
   "cell_type": "markdown",
   "metadata": {},
   "source": [
    "Метод `.strip()` позволяет обрезать пробельные символы по краям строки. `.lstrip()` делает это только слева, `.rstrip()` &ndash; только справа."
   ]
  },
  {
   "cell_type": "code",
   "execution_count": 7,
   "metadata": {},
   "outputs": [
    {
     "name": "stdout",
     "output_type": "stream",
     "text": [
      "['a', '   a', 'a\\t']\n"
     ]
    }
   ],
   "source": [
    "a = \"   a\\t\"\n",
    "print([a.strip(), a.rstrip(), a.lstrip()])"
   ]
  },
  {
   "cell_type": "markdown",
   "metadata": {},
   "source": [
    "**Задание:** дан список строк, в каждой из которых содержится следующая информация: имя студента, курс и тема курсовой через запятую. При этом тема курсовой может содержать запятые. Постройте список, в котором каждый элемент &ndash; список из этих трёх элементов: `[\"Имя\", \"Курс\", \"Тема\"]`. Используйте `.split()`."
   ]
  },
  {
   "cell_type": "code",
   "execution_count": 1,
   "metadata": {},
   "outputs": [
    {
     "name": "stdout",
     "output_type": "stream",
     "text": [
      "[['Петр Иванов', '2', 'Культура, литература и религия Британских островов'], ['Василий Сидоров', '3', 'Популярная культура как измерение постпостмодернизма: феноменология, теория, критика'], ['Анна Петрова', '3', 'Выражение иронии в речи, жестах и мимике'], ['Валерия Смирнова', '2', 'Региональные варианты русской интонации']]\n"
     ]
    }
   ],
   "source": [
    "data = [\n",
    "    \"Петр Иванов, 2, Культура, литература и религия Британских островов\",\n",
    "    \"Василий Сидоров, 3, Популярная культура как измерение постпостмодернизма: феноменология, теория, критика\",\n",
    "    \"Анна Петрова, 3, Выражение иронии в речи, жестах и мимике\",\n",
    "    \"Валерия Смирнова, 2, Региональные варианты русской интонации\",\n",
    "]\n",
    "\n",
    "data_split = []\n",
    "for row in data:\n",
    "    row = row.split(\", \", maxsplit=2)\n",
    "    data_split.append(row)\n",
    "print(data_split)"
   ]
  },
  {
   "cell_type": "markdown",
   "metadata": {},
   "source": [
    "Метод `.join()` позволяет объединить список строк (или любой другой итерируемый объект, например, строку) с некоторой строкой как разделителем."
   ]
  },
  {
   "cell_type": "code",
   "execution_count": 8,
   "metadata": {},
   "outputs": [
    {
     "name": "stdout",
     "output_type": "stream",
     "text": [
      "1-2-3\n"
     ]
    }
   ],
   "source": [
    "a = [\"1\", \"2\", \"3\"]\n",
    "print(\"-\".join(a))"
   ]
  },
  {
   "cell_type": "code",
   "execution_count": null,
   "metadata": {},
   "outputs": [
    {
     "name": "stdout",
     "output_type": "stream",
     "text": [
      "1-2-3\n"
     ]
    }
   ],
   "source": [
    "a = \"123\"\n",
    "print(\"-\".join(a))"
   ]
  },
  {
   "cell_type": "markdown",
   "metadata": {},
   "source": [
    "Если разделитель не нужен, укажем в качестве него пустую строку."
   ]
  },
  {
   "cell_type": "code",
   "execution_count": null,
   "metadata": {},
   "outputs": [
    {
     "name": "stdout",
     "output_type": "stream",
     "text": [
      "1 2 3\n"
     ]
    }
   ],
   "source": [
    "a = [\"1\", \"2\", \"3\"]\n",
    "print(\"\".join(a))"
   ]
  },
  {
   "cell_type": "markdown",
   "metadata": {},
   "source": [
    "**Задание:** дан список слов. Постройте новый список, где между буквами слов будут знаки `+`."
   ]
  },
  {
   "cell_type": "code",
   "execution_count": 10,
   "metadata": {},
   "outputs": [
    {
     "name": "stdout",
     "output_type": "stream",
     "text": [
      "['с+о+б+а+к+а', 'а+р+б+а', 'к+а+р+а+н+д+а+ш', 'м+а+м+а', 'с+т+о+л']\n"
     ]
    }
   ],
   "source": [
    "words = [\"собака\", \"арба\", \"карандаш\", \"мама\", \"стол\"]\n",
    "newwords = [\"+\".join(w) for w in words]\n",
    "print(newwords)"
   ]
  },
  {
   "cell_type": "markdown",
   "metadata": {},
   "source": [
    "**Задание**: дан список слов. Постройте новый список, где во всех словах гласные буквы будут заменены на нижние подчёркивания.\n",
    "\n",
    "Подсказка: используйте list comprehension с тернарным оператором, а потом используйте `.join()`."
   ]
  },
  {
   "cell_type": "code",
   "execution_count": 3,
   "metadata": {},
   "outputs": [
    {
     "name": "stdout",
     "output_type": "stream",
     "text": [
      "['с_б_к_', '_рб_', 'к_р_нд_ш', 'м_м_', 'ст_л', 'п_р_ш_т', '_н_н_с', 'т_б_р_т', 'ст_р_т_ль']\n"
     ]
    }
   ],
   "source": [
    "words = [\n",
    "    \"собака\", \"арба\", \"карандаш\", \"мама\", \"стол\",\n",
    "    \"парашют\", \"ананас\", \"табурет\", \"старатель\"\n",
    "]\n",
    "\n",
    "newwords = []\n",
    "vowels = \"аяоёуюыиэе\"\n",
    "for word in words:\n",
    "    wordsplit = [\"_\" if c in vowels else c for c in word]\n",
    "    word = \"\".join(wordsplit)\n",
    "    newwords.append(word)\n",
    "print(newwords)"
   ]
  },
  {
   "cell_type": "markdown",
   "metadata": {},
   "source": [
    "Метод `.replace()` позволяет заменить заданные подстроки в строке на что-то другое."
   ]
  },
  {
   "cell_type": "code",
   "execution_count": 10,
   "metadata": {},
   "outputs": [
    {
     "name": "stdout",
     "output_type": "stream",
     "text": [
      "1+2+3+4+5\n"
     ]
    }
   ],
   "source": [
    "a = \"1_2_3_4_5\"\n",
    "print(a.replace(\"_\", \"+\"))"
   ]
  },
  {
   "cell_type": "code",
   "execution_count": 11,
   "metadata": {},
   "outputs": [
    {
     "name": "stdout",
     "output_type": "stream",
     "text": [
      "12345\n"
     ]
    }
   ],
   "source": [
    "a = \"1_2_3_4_5\"\n",
    "print(a.replace(\"_\", \"\"))"
   ]
  },
  {
   "cell_type": "markdown",
   "metadata": {},
   "source": [
    "Перепишем задание про гласные с помощью `.replace()`."
   ]
  },
  {
   "cell_type": "code",
   "execution_count": 1,
   "metadata": {},
   "outputs": [
    {
     "name": "stdout",
     "output_type": "stream",
     "text": [
      "['с_б_к_', '_рб_', 'к_р_нд_ш', 'м_м_', 'ст_л', 'п_р_ш_т', '_н_н_с', 'т_б_р_т', 'ст_р_т_ль']\n"
     ]
    }
   ],
   "source": [
    "words = [\n",
    "    \"собака\", \"арба\", \"карандаш\", \"мама\", \"стол\",\n",
    "    \"парашют\", \"ананас\", \"табурет\", \"старатель\"\n",
    "]\n",
    "\n",
    "newwords = []\n",
    "vowels = \"аяоёуюыиэе\"\n",
    "for word in words:\n",
    "    for v in vowels:\n",
    "        word = word.replace(v, \"_\")\n",
    "        # обратите внимание, что внутренний цикл нужен!\n",
    "        # мы перебираем все гласные и по очереди каждую заменяем на _\n",
    "    newwords.append(word)\n",
    "print(newwords)"
   ]
  },
  {
   "cell_type": "markdown",
   "metadata": {},
   "source": [
    "**Задание**: дан список слов. Создайте новый список, где все буквы \"а\" будут заменены на \"ы\"."
   ]
  },
  {
   "cell_type": "code",
   "execution_count": 11,
   "metadata": {},
   "outputs": [
    {
     "name": "stdout",
     "output_type": "stream",
     "text": [
      "['ыбрикос', 'ырбы', 'ылтын', 'ыбык', 'ыббытство', 'ыркын']\n"
     ]
    }
   ],
   "source": [
    "words = [\"абрикос\", \"арба\", \"алтын\", \"абак\", \"аббатство\", \"аркан\"]\n",
    "y_words = [w.replace(\"а\", \"ы\") for w in words]\n",
    "print(y_words)"
   ]
  },
  {
   "cell_type": "markdown",
   "metadata": {},
   "source": [
    "**Задание**: дан текст. Сделайте так, чтобы после каждой точки был перевод строки."
   ]
  },
  {
   "cell_type": "code",
   "execution_count": 4,
   "metadata": {},
   "outputs": [
    {
     "name": "stdout",
     "output_type": "stream",
     "text": [
      "Text text.\n",
      "Text text text.\n",
      "Text.\n",
      "Text text text\n"
     ]
    }
   ],
   "source": [
    "text = \"Text text.Text text text.Text.Text text text\"\n",
    "print(text.replace(\".\", \".\\n\"))"
   ]
  },
  {
   "cell_type": "markdown",
   "metadata": {},
   "source": [
    "Метод `.startswith()` позволяет определить, начинается ли строка с заданной подстроки (`True`) или нет (`False`). `.endswith()` &ndash; то же самое для конца строки."
   ]
  },
  {
   "cell_type": "code",
   "execution_count": 12,
   "metadata": {},
   "outputs": [
    {
     "name": "stdout",
     "output_type": "stream",
     "text": [
      "True\n"
     ]
    }
   ],
   "source": [
    "a = \"this is a test\"\n",
    "print(a.endswith(\"est\"))"
   ]
  },
  {
   "cell_type": "markdown",
   "metadata": {},
   "source": [
    "**Задание:** дан список слов. Постройте новый список слов, где будут только слова, начинающиеся на \"аб\". Выведите на экран все эти слова через дефис."
   ]
  },
  {
   "cell_type": "code",
   "execution_count": 5,
   "metadata": {},
   "outputs": [
    {
     "name": "stdout",
     "output_type": "stream",
     "text": [
      "['абрикос', 'абак', 'аббатство']\n"
     ]
    }
   ],
   "source": [
    "words = [\"абрикос\", \"арба\", \"алтын\", \"абак\", \"аббатство\", \"аркан\"]\n",
    "ab_words = [w for w in words if w.startswith(\"аб\")]\n",
    "print(ab_words)"
   ]
  },
  {
   "cell_type": "markdown",
   "metadata": {},
   "source": [
    "Методы `.upper()`, `.lower()` и `.capitalize()` управляют регистром строки."
   ]
  },
  {
   "cell_type": "code",
   "execution_count": 13,
   "metadata": {},
   "outputs": [
    {
     "name": "stdout",
     "output_type": "stream",
     "text": [
      "THIS IS A TEST\n",
      "this is a test\n",
      "This is a test\n"
     ]
    }
   ],
   "source": [
    "a = \"tHiS iS a TeSt\"\n",
    "print(a.upper())\n",
    "print(a.lower())\n",
    "print(a.capitalize())"
   ]
  },
  {
   "cell_type": "markdown",
   "metadata": {},
   "source": [
    "С полным списком строковых методов можно ознакомиться в [документации](https://docs.python.org/3/library/stdtypes.html#string-methods)."
   ]
  },
  {
   "cell_type": "markdown",
   "metadata": {},
   "source": [
    "**Задание:** дан список слов. Постройте новый список слов, где все слова будут написаны маленькими буквами."
   ]
  },
  {
   "cell_type": "code",
   "execution_count": 7,
   "metadata": {},
   "outputs": [
    {
     "name": "stdout",
     "output_type": "stream",
     "text": [
      "['python', 'variable', 'string']\n"
     ]
    }
   ],
   "source": [
    "words = [\"pYThon\", \"VARiaBlE\", \"sTrING\"]\n",
    "lowerwords = [w.lower() for w in words]\n",
    "print(lowerwords)"
   ]
  },
  {
   "cell_type": "markdown",
   "metadata": {},
   "source": [
    "**Задание**: дан текст. Уберите из него запятые и точки с помощью `.replace()`, приведите к нижнему регистру и создайте список всех слов, которые начинаются на букву \"т\". Выведите на экран все эти слова через нижнее подчёркнивание."
   ]
  },
  {
   "cell_type": "code",
   "execution_count": 2,
   "metadata": {},
   "outputs": [
    {
     "name": "stdout",
     "output_type": "stream",
     "text": [
      "тихий_тёплый_тучами\n"
     ]
    }
   ],
   "source": [
    "text = (\n",
    "    \"Был тихий серый вечер. Дул ветер, слабый и тёплый. \"\n",
    "    \"Небо было покрыто тучами, сквозь которые едва пробивались лучи \"\n",
    "    \"заходящего солнца.\"\n",
    ")\n",
    "# решение\n",
    "text = text.lower()\n",
    "text = text.replace(\".\", \"\")\n",
    "text = text.replace(\",\", \"\")\n",
    "words = text.split()\n",
    "t_words = [w for w in words if w.startswith(\"т\")]\n",
    "print(\"_\".join(t_words))"
   ]
  },
  {
   "cell_type": "markdown",
   "metadata": {},
   "source": [
    "Можно заменять нужные нам символы в цикле: это актуально, когда их много."
   ]
  },
  {
   "cell_type": "code",
   "execution_count": 3,
   "metadata": {},
   "outputs": [
    {
     "name": "stdout",
     "output_type": "stream",
     "text": [
      "тихий_тёплый_тучами\n"
     ]
    }
   ],
   "source": [
    "text = text.lower()\n",
    "for c in \",.\":\n",
    "    text = text.replace(c, \"\")\n",
    "words = text.split()\n",
    "t_words = [w for w in words if w.startswith(\"т\")]\n",
    "print(\"_\".join(t_words))"
   ]
  },
  {
   "cell_type": "markdown",
   "metadata": {},
   "source": [
    "### Особые типы строк\n",
    "\n",
    "\"Сырые\" строки (r-строки) не учитывают escape-последовательности."
   ]
  },
  {
   "cell_type": "code",
   "execution_count": 14,
   "metadata": {},
   "outputs": [
    {
     "name": "stdout",
     "output_type": "stream",
     "text": [
      "a\tb\n",
      "a\\tb\n"
     ]
    }
   ],
   "source": [
    "a = \"a\\tb\"\n",
    "b = r\"a\\tb\"\n",
    "print(a)\n",
    "print(b)"
   ]
  },
  {
   "cell_type": "markdown",
   "metadata": {},
   "source": [
    "Форматные строки (f-строки) позволяют вставлять в строку значения переменных."
   ]
  },
  {
   "cell_type": "code",
   "execution_count": 15,
   "metadata": {},
   "outputs": [
    {
     "name": "stdout",
     "output_type": "stream",
     "text": [
      "some value: 4,  another value: 1\n"
     ]
    }
   ],
   "source": [
    "a = 4\n",
    "b = \"1\"\n",
    "c = f\"some value: {a},  another value: {b}\"\n",
    "print(c)"
   ]
  },
  {
   "cell_type": "markdown",
   "metadata": {},
   "source": [
    "С названиями переменных:"
   ]
  },
  {
   "cell_type": "code",
   "execution_count": 16,
   "metadata": {},
   "outputs": [
    {
     "name": "stdout",
     "output_type": "stream",
     "text": [
      "some value: a=4,  another value: b='1'\n"
     ]
    }
   ],
   "source": [
    "c = f\"some value: {a=},  another value: {b=}\"\n",
    "print(c)"
   ]
  },
  {
   "cell_type": "markdown",
   "metadata": {},
   "source": [
    "Если хотим \"добить\" нулями до определённой длины:"
   ]
  },
  {
   "cell_type": "code",
   "execution_count": 17,
   "metadata": {},
   "outputs": [
    {
     "name": "stdout",
     "output_type": "stream",
     "text": [
      "0011\n"
     ]
    }
   ],
   "source": [
    "x = 11\n",
    "print(f\"{x:04d}\")"
   ]
  },
  {
   "cell_type": "markdown",
   "metadata": {},
   "source": [
    "**Задание:** напишите программу, которая принимает на вход два целых числа (от 0 до 23 и от 0 до 59) и выводит на экран время в формате `HH:mm`."
   ]
  },
  {
   "cell_type": "code",
   "execution_count": 9,
   "metadata": {},
   "outputs": [
    {
     "name": "stdout",
     "output_type": "stream",
     "text": [
      "01:04\n"
     ]
    }
   ],
   "source": [
    "h = int(input())\n",
    "m = int(input())\n",
    "if not (0 <= h <= 23 or 0 <= m <= 59):\n",
    "    print(\"Invalid time!\")\n",
    "else:\n",
    "    print(f\"{h:02d}:{m:02d}\")"
   ]
  },
  {
   "cell_type": "markdown",
   "metadata": {},
   "source": [
    "Если нужна определённая точность:"
   ]
  },
  {
   "cell_type": "code",
   "execution_count": 18,
   "metadata": {},
   "outputs": [
    {
     "name": "stdout",
     "output_type": "stream",
     "text": [
      "11.1231\n"
     ]
    }
   ],
   "source": [
    "y = 11.123123123123\n",
    "print(f\"{y:.4f}\")"
   ]
  },
  {
   "cell_type": "markdown",
   "metadata": {},
   "source": [
    "Полную спецификацию можно посмотреть в [документации](https://docs.python.org/3/library/string.html#format-specification-mini-language)."
   ]
  },
  {
   "cell_type": "markdown",
   "metadata": {},
   "source": [
    "Многострочные строки:"
   ]
  },
  {
   "cell_type": "code",
   "execution_count": 19,
   "metadata": {},
   "outputs": [
    {
     "name": "stdout",
     "output_type": "stream",
     "text": [
      "Line 1\n",
      "Line 2\n",
      "Line 3\n",
      "Line 4\n"
     ]
    }
   ],
   "source": [
    "text = \"\"\"Line 1\n",
    "Line 2\n",
    "Line 3\n",
    "Line 4\"\"\"\n",
    "print(text)"
   ]
  },
  {
   "cell_type": "markdown",
   "metadata": {},
   "source": [
    "В таких строках часто оформляют документацию (т.н. doc-строки). Обратите внимание, что это не комментарии!"
   ]
  }
 ],
 "metadata": {
  "kernelspec": {
   "display_name": "Python 3",
   "language": "python",
   "name": "python3"
  },
  "language_info": {
   "codemirror_mode": {
    "name": "ipython",
    "version": 3
   },
   "file_extension": ".py",
   "mimetype": "text/x-python",
   "name": "python",
   "nbconvert_exporter": "python",
   "pygments_lexer": "ipython3",
   "version": "3.13.1"
  }
 },
 "nbformat": 4,
 "nbformat_minor": 2
}
