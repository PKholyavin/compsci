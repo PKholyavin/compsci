{
 "cells": [
  {
   "cell_type": "markdown",
   "id": "6d0e45c1",
   "metadata": {},
   "source": [
    "### Задание 1\n",
    "\n",
    "Дан список предметов. Для каждого предмета X в списке спросите пользователя, сколько у него этих предметов, и выведите предложение \"You have N Xs\". После конца цикла выведите общее количество предметов. Если оно больше 25, выведите сообщение об этом.\n",
    "\n",
    "Не забудьте использовать функцию `int()`, чтобы переделать полученный от пользователя текст в число."
   ]
  },
  {
   "cell_type": "code",
   "execution_count": null,
   "id": "44716500",
   "metadata": {},
   "outputs": [],
   "source": [
    "inventory_items = [\n",
    "    \"oxygen tank\",\n",
    "    \"energy cell\",\n",
    "    \"medkit\",\n",
    "    \"ration pack\",\n",
    "    \"data chip\",\n",
    "    \"tool kit\",\n",
    "    \"flare\",\n",
    "    \"tranq dart\",\n",
    "    \"grapple hook\",\n",
    "    \"shield node\"\n",
    "]"
   ]
  },
  {
   "cell_type": "markdown",
   "id": "c2bde4e9",
   "metadata": {},
   "source": [
    "### Задание 2\n",
    "\n",
    "Вы собираете инвентарь. Заведите пустой список и в бесконечном цикле спрашивайте пользователя, что он хочет сделать. Если он отвечает \"add\", пусть введёт название предмета, который хочет добавить. Тогда добавьте его в список. Если отвечает \"remove\", проверьте, есть ли такой предмет в списке (оператор вхождения `in`). Если есть, уберите его с помощью метода `.remove()`. Если отвечает \"show\", напечатайте список на экран. Если отвечает \"exit\", остановите цикл."
   ]
  },
  {
   "cell_type": "code",
   "execution_count": null,
   "id": "b5c2f870",
   "metadata": {},
   "outputs": [],
   "source": []
  },
  {
   "cell_type": "markdown",
   "id": "47e3ce72",
   "metadata": {},
   "source": [
    "### Задание 3\n",
    "\n"
   ]
  },
  {
   "cell_type": "markdown",
   "id": "1340525e",
   "metadata": {},
   "source": [
    "Дан список квестовых предметов. Измените код так, чтобы предметы из этого списка нельзя было убрать из инвентаря или добавить больше одного раза."
   ]
  },
  {
   "cell_type": "code",
   "execution_count": 2,
   "id": "0526a000",
   "metadata": {},
   "outputs": [],
   "source": [
    "quest_items = [\n",
    "    \"warp crystal\",\n",
    "    \"alien relic\",\n",
    "    \"fusion core\",\n",
    "    \"neural interface\",\n",
    "    \"quantum cipher\"\n",
    "]"
   ]
  }
 ],
 "metadata": {
  "kernelspec": {
   "display_name": "Python 3",
   "language": "python",
   "name": "python3"
  },
  "language_info": {
   "codemirror_mode": {
    "name": "ipython",
    "version": 3
   },
   "file_extension": ".py",
   "mimetype": "text/x-python",
   "name": "python",
   "nbconvert_exporter": "python",
   "pygments_lexer": "ipython3",
   "version": "3.13.2"
  }
 },
 "nbformat": 4,
 "nbformat_minor": 5
}
