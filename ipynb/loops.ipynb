{
 "cells": [
  {
   "cell_type": "markdown",
   "metadata": {},
   "source": [
    "### Повторение\n",
    "\n",
    "Что выведет код? Почему?"
   ]
  },
  {
   "cell_type": "code",
   "execution_count": 1,
   "metadata": {},
   "outputs": [
    {
     "name": "stdout",
     "output_type": "stream",
     "text": [
      "['1', '.', '2', '3']\n"
     ]
    }
   ],
   "source": [
    "a = \"1.23\"\n",
    "print(list(a))"
   ]
  },
  {
   "cell_type": "markdown",
   "metadata": {},
   "source": [
    "Ответ: код сделает из строки (последовательности символом) список, в котором каждый элемент &ndash; один символ исходной строки."
   ]
  },
  {
   "cell_type": "markdown",
   "metadata": {},
   "source": [
    "**Важный принцип программирования**: не повторяйте себя! (Don't Repeat Yourself - DRY)"
   ]
  },
  {
   "cell_type": "code",
   "execution_count": null,
   "metadata": {},
   "outputs": [],
   "source": [
    "data = \"123\"\n",
    "if int(data) >= 0 and int(data) <= 200:\n",
    "    pass"
   ]
  },
  {
   "cell_type": "markdown",
   "metadata": {},
   "source": [
    "Чтобы не делать преобразование в целое число (`int()`) два раза, сделаем его один раз заранее:"
   ]
  },
  {
   "cell_type": "code",
   "execution_count": null,
   "metadata": {},
   "outputs": [],
   "source": [
    "data = \"123\"\n",
    "data = int(data)\n",
    "if data >= 0 and data <= 200:\n",
    "    pass"
   ]
  },
  {
   "cell_type": "markdown",
   "metadata": {},
   "source": [
    "Что выведет код?"
   ]
  },
  {
   "cell_type": "code",
   "execution_count": 2,
   "metadata": {},
   "outputs": [
    {
     "name": "stdout",
     "output_type": "stream",
     "text": [
      "number: 2\n"
     ]
    }
   ],
   "source": [
    "a = 1\n",
    "if a == 1:\n",
    "    output = \"number: \"\n",
    "    output += str(a + 1)\n",
    "    print(output)\n",
    "elif a == 2:\n",
    "    output = \"number: \"\n",
    "    output += str(a * 2)\n",
    "    print(output)\n",
    "elif a == 3:\n",
    "    output = \"number: \"\n",
    "    output += str(a - 2)\n",
    "    print(output)"
   ]
  },
  {
   "cell_type": "markdown",
   "metadata": {},
   "source": [
    "Напишем короче: всё, что выполняется в каждой ветке условия, вынесем за его пределы."
   ]
  },
  {
   "cell_type": "code",
   "execution_count": null,
   "metadata": {},
   "outputs": [],
   "source": [
    "a = 1\n",
    "output = \"number: \"\n",
    "if a == 1:\n",
    "    output += str(a + 1)\n",
    "elif a == 2:\n",
    "    output += str(a * 2)\n",
    "elif a == 3:\n",
    "    output += str(a - 2)\n",
    "print(output)"
   ]
  },
  {
   "cell_type": "markdown",
   "metadata": {},
   "source": [
    "### Циклы"
   ]
  },
  {
   "cell_type": "markdown",
   "metadata": {},
   "source": [
    "### Цикл `for`"
   ]
  },
  {
   "cell_type": "markdown",
   "metadata": {},
   "source": [
    "`for` позволяет перебрать по очереди все элементы в последовательности (списке или строке). Всё то, что находится после `for` и написано с отступом (не забывайте про отступы!), будет выполняться один раз для каждого элемента последовательности. Один шаг цикла называется **итерацией**.\n",
    "\n",
    "*Примечание: в других языках такие циклы называются* `foreach`.\n",
    "\n",
    "После первой строчки цикла (перед началом отступов) обязательно двоеточие."
   ]
  },
  {
   "cell_type": "markdown",
   "metadata": {},
   "source": [
    "Дан список целых чисел. Переберём все числа и выведем квадрат каждого."
   ]
  },
  {
   "cell_type": "code",
   "execution_count": 3,
   "metadata": {},
   "outputs": [
    {
     "name": "stdout",
     "output_type": "stream",
     "text": [
      "36\n",
      "25\n",
      "16\n",
      "9\n",
      "4\n",
      "1\n",
      "done\n"
     ]
    }
   ],
   "source": [
    "numbers = [6, 5, 4, 3, 2, 1]\n",
    "for num in numbers:\n",
    "    print(num ** 2)\n",
    "    num = 10  # эта строчка ни на что не влияет! На следующей итерации num будет следующим по порядку элементом списка numbers\n",
    "print(\"done\")"
   ]
  },
  {
   "cell_type": "markdown",
   "metadata": {},
   "source": [
    "Дана строка. Напечатаем отдельно каждый символ этой строки:"
   ]
  },
  {
   "cell_type": "code",
   "execution_count": 26,
   "metadata": {},
   "outputs": [
    {
     "name": "stdout",
     "output_type": "stream",
     "text": [
      "a\n",
      "b\n",
      "c\n",
      "d\n",
      "e\n",
      "f\n"
     ]
    }
   ],
   "source": [
    "letters = \"abcdef\"\n",
    "for let in letters:\n",
    "    print(let)"
   ]
  },
  {
   "cell_type": "markdown",
   "metadata": {},
   "source": [
    "`list`, `str` &ndash; это iterable (итерируемый объект &ndash; по ним можно итерировать, то есть ходить циклом)."
   ]
  },
  {
   "cell_type": "markdown",
   "metadata": {},
   "source": [
    "### `range()` vs `enumerate()`"
   ]
  },
  {
   "cell_type": "markdown",
   "metadata": {},
   "source": [
    "Функция `range()` генерирует последовательность целых чисел.\n",
    "\n",
    "Выведем все целые числа от 0 до 5 (не включая!)"
   ]
  },
  {
   "cell_type": "code",
   "execution_count": null,
   "metadata": {},
   "outputs": [
    {
     "name": "stdout",
     "output_type": "stream",
     "text": [
      "0\n",
      "1\n",
      "2\n",
      "3\n",
      "4\n"
     ]
    }
   ],
   "source": [
    "for i in range(5):  # передали конец\n",
    "    print(i)"
   ]
  },
  {
   "cell_type": "markdown",
   "metadata": {},
   "source": [
    "Выведем все целые числа от 2 до 10 (не включая!)"
   ]
  },
  {
   "cell_type": "code",
   "execution_count": null,
   "metadata": {},
   "outputs": [
    {
     "name": "stdout",
     "output_type": "stream",
     "text": [
      "2\n",
      "3\n",
      "4\n",
      "5\n",
      "6\n",
      "7\n",
      "8\n",
      "9\n"
     ]
    }
   ],
   "source": [
    "for i in range(2, 10):  # передали начало и конец\n",
    "    print(i)"
   ]
  },
  {
   "cell_type": "markdown",
   "metadata": {},
   "source": [
    "Выведем каждое третье число от 2 до 12 (не включая!)"
   ]
  },
  {
   "cell_type": "code",
   "execution_count": null,
   "metadata": {},
   "outputs": [],
   "source": [
    "for i in range(2, 12, 3):  # передали начало, конец и шаг\n",
    "    print(i)"
   ]
  },
  {
   "cell_type": "markdown",
   "metadata": {},
   "source": [
    "Если в функцию `range()` передать длину списка, она сгенерирует последовательность индексов этого списка.\n",
    "\n",
    "Если в списке `N` элементов, то его индексы &ndash; `0, 1, 2, ..., N - 2, N - 1`.\n",
    "\n",
    "Теперь мы можем перебрать все **индексы** списка и обратиться через них к элементам этого списка."
   ]
  },
  {
   "cell_type": "code",
   "execution_count": null,
   "metadata": {},
   "outputs": [
    {
     "name": "stdout",
     "output_type": "stream",
     "text": [
      "0 36\n",
      "1 25\n",
      "2 16\n",
      "3 9\n",
      "4 4\n",
      "5 1\n"
     ]
    }
   ],
   "source": [
    "numbers = [6, 5, 4, 3, 2, 1]\n",
    "for i in range(len(numbers)):\n",
    "    print(i, numbers[i] ** 2)\n",
    "    # печатаем индекс и квадрат элемента по этому индексу"
   ]
  },
  {
   "cell_type": "markdown",
   "metadata": {},
   "source": [
    "Чуть более удобно использовать функцию `enumerate()`. Если передать в неё список (или строку), она сгенерирует последовательность парочек (индекс, значение). Чтобы они записались у нас в разные переменные, перечислим обе через запятую."
   ]
  },
  {
   "cell_type": "code",
   "execution_count": null,
   "metadata": {},
   "outputs": [
    {
     "name": "stdout",
     "output_type": "stream",
     "text": [
      "0 36\n",
      "1 25\n",
      "2 16\n",
      "3 9\n",
      "4 4\n",
      "5 1\n"
     ]
    }
   ],
   "source": [
    "numbers = [6, 5, 4, 3, 2, 1]\n",
    "for i, num in enumerate(numbers):\n",
    "    print(i, num ** 2)\n",
    "    # печатаем индекс и квадрат элемента по этому индексу"
   ]
  },
  {
   "cell_type": "markdown",
   "metadata": {},
   "source": [
    "Это может пригодиться, если нам на каждом шаге нужно смотреть не только на текущий элемент, но и на его соседей. В этом случае нужно не забыть проверить, что соседние индексы существуют (иначе на первом и последнем индексах могут возникнуть ошибки!)"
   ]
  },
  {
   "cell_type": "code",
   "execution_count": null,
   "metadata": {},
   "outputs": [
    {
     "name": "stdout",
     "output_type": "stream",
     "text": [
      "0 36\n",
      "1 25\n",
      "2 16\n",
      "wow\n",
      "3 9\n",
      "4 4\n",
      "5 1\n"
     ]
    }
   ],
   "source": [
    "numbers = [6, 5, 4, 3, 2, 1]\n",
    "for i, num in enumerate(numbers):\n",
    "    print(i, num ** 2)\n",
    "    if i < len(numbers) - 1 and numbers[i + 1] == 3:\n",
    "        # если i + 1 не вылезает за пределы списка И элемент по индексу i + 1 равен 3\n",
    "        print(\"wow\")"
   ]
  },
  {
   "cell_type": "markdown",
   "metadata": {},
   "source": [
    "### `zip()`"
   ]
  },
  {
   "cell_type": "markdown",
   "metadata": {},
   "source": [
    "Эта функция позволяет итерировать сразу по нескольким спискам. Например:"
   ]
  },
  {
   "cell_type": "code",
   "execution_count": 1,
   "metadata": {},
   "outputs": [
    {
     "name": "stdout",
     "output_type": "stream",
     "text": [
      "John Smith 5\n",
      "Jack Jones 4\n",
      "Jill Banks 5\n"
     ]
    }
   ],
   "source": [
    "names_list = [\"John\", \"Jack\", \"Jill\"]\n",
    "last_names_list = [\"Smith\", \"Jones\", \"Banks\"]\n",
    "grades_list = [5, 4, 5]\n",
    "for name, last_name, grade in zip(names_list, last_names_list, grades_list):\n",
    "    print(name, last_name, grade)"
   ]
  },
  {
   "cell_type": "markdown",
   "metadata": {},
   "source": [
    "Или:"
   ]
  },
  {
   "cell_type": "code",
   "execution_count": 35,
   "metadata": {},
   "outputs": [
    {
     "name": "stdout",
     "output_type": "stream",
     "text": [
      "('John', 5)\n",
      "('Jack', 4)\n",
      "('Jill', 5)\n"
     ]
    }
   ],
   "source": [
    "names_list = [\"John\", \"Jack\", \"Jill\"]\n",
    "grades_list = [5, 4, 5]\n",
    "for item in zip(names_list, grades_list):\n",
    "    print(item)"
   ]
  },
  {
   "cell_type": "markdown",
   "metadata": {},
   "source": [
    "Если списки неравной длины, то цикл закончится, когда закончится более короткий список:"
   ]
  },
  {
   "cell_type": "code",
   "execution_count": null,
   "metadata": {},
   "outputs": [],
   "source": [
    "list_a = [1, 2, 3, 4, 5, 6, 7, 8]\n",
    "list_b = [5, 6, 7, 8, 9]\n",
    "for i, j in zip(list_a, list_b):\n",
    "    print(i, j)"
   ]
  },
  {
   "cell_type": "markdown",
   "metadata": {},
   "source": [
    "### Цикл `while`\n",
    "\n",
    "Цикл `while`, или цикл с предусловием, будет выполняться до тех пор, пока выполняется условие в его шапке. После условия обязательно двоеточие."
   ]
  },
  {
   "cell_type": "code",
   "execution_count": 36,
   "metadata": {},
   "outputs": [
    {
     "name": "stdout",
     "output_type": "stream",
     "text": [
      "9\n",
      "8\n",
      "7\n",
      "6\n",
      "5\n",
      "4\n",
      "3\n",
      "2\n",
      "1\n",
      "0\n"
     ]
    }
   ],
   "source": [
    "num = 10\n",
    "while num > 0:\n",
    "    num -= 1\n",
    "    print(num)"
   ]
  },
  {
   "cell_type": "markdown",
   "metadata": {},
   "source": [
    "С помощью `while` легко случайно создать бесконечный цикл. Например:"
   ]
  },
  {
   "cell_type": "code",
   "execution_count": null,
   "metadata": {},
   "outputs": [],
   "source": [
    "num = 10\n",
    "while num > 0:\n",
    "    num += 1  # num всегда увеличивается и никогда не будет равно 0!\n",
    "    print(num)"
   ]
  },
  {
   "cell_type": "markdown",
   "metadata": {},
   "source": [
    "**Задание для выполнения в классе:**\n",
    "\n",
    "Вывести на экран все числа от 1 до 100. Если число делится на 3, вместо него написать Fizz. Если число делится на 5, вместо него написать Buzz. Если число делится и на 3, и на 5, вместо него написать FizzBuzz. \n",
    "\n",
    "`a % 3 == 0` -> Fizz  \n",
    "`a % 5 == 0` -> Buzz  \n",
    "`a % 3 == 0 and a % 5 == 0` -> FizzBuzz  "
   ]
  },
  {
   "cell_type": "code",
   "execution_count": null,
   "metadata": {},
   "outputs": [],
   "source": [
    "for i in range(1, 101):\n",
    "    if i % 15 == 0:\n",
    "        print(\"FizzBuzz\")\n",
    "    elif i % 3 == 0:\n",
    "        print(\"Fizz\")\n",
    "    elif i % 5 == 0:\n",
    "        print(\"Buzz\")\n",
    "    else:\n",
    "        print(i)"
   ]
  },
  {
   "cell_type": "markdown",
   "metadata": {},
   "source": [
    "Короче:"
   ]
  },
  {
   "cell_type": "code",
   "execution_count": null,
   "metadata": {},
   "outputs": [],
   "source": [
    "for i in range(1, 101):\n",
    "    res = \"\"  # заведём пустую строку\n",
    "    if i % 3 == 0:\n",
    "        res += \"Fizz\"  # если число делится на 3, приделаем к строке Fizz\n",
    "    if i % 5 == 0:\n",
    "        res += \"Buzz\"  # если число делится на 5, приделаем к строке Buzz\n",
    "    print(res or i)  # если строка res осталась пустой (ложная), то выведется i, иначе выведется эта строка!"
   ]
  }
 ],
 "metadata": {
  "kernelspec": {
   "display_name": "Python 3",
   "language": "python",
   "name": "python3"
  },
  "language_info": {
   "codemirror_mode": {
    "name": "ipython",
    "version": 3
   },
   "file_extension": ".py",
   "mimetype": "text/x-python",
   "name": "python",
   "nbconvert_exporter": "python",
   "pygments_lexer": "ipython3",
   "version": "3.13.1"
  }
 },
 "nbformat": 4,
 "nbformat_minor": 2
}
