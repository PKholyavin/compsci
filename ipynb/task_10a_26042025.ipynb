{
 "cells": [
  {
   "cell_type": "markdown",
   "id": "0d7806a1",
   "metadata": {},
   "source": [
    "Дан список имён пользователей и строка с доменом. Создайте список e-mail адресов вида username@domain.\n",
    "\n",
    "Используйте list comprehension и сложение строк."
   ]
  },
  {
   "cell_type": "code",
   "execution_count": null,
   "id": "0c43b501",
   "metadata": {},
   "outputs": [],
   "source": [
    "usernames = [\n",
    "    \"twilight.sparkle\",\n",
    "    \"rainbow_dash_92\",\n",
    "    \"flutter.shy\",\n",
    "    \"applejack_rider\",\n",
    "    \"pinkie.pie.party\",\n",
    "    \"rarity_glam\"\n",
    "]\n",
    "domain = \"equestria.com\"\n",
    "\n",
    "emails = []"
   ]
  },
  {
   "cell_type": "markdown",
   "id": "1adf58e0",
   "metadata": {},
   "source": [
    "Вычислите объём памяти, который нужен, чтобы хранить эти адреса, если известно, что на каждый символ уходит 1 байт и на каждый адрес дополнительно уходит 32 байта."
   ]
  },
  {
   "cell_type": "code",
   "execution_count": null,
   "id": "1749eb32",
   "metadata": {},
   "outputs": [],
   "source": []
  },
  {
   "cell_type": "markdown",
   "id": "d6590f77",
   "metadata": {},
   "source": [
    "Составьте новый список, где будут только адреса, в которых нет нижнего подчёркивания. Используйте оператор вхождения:"
   ]
  },
  {
   "cell_type": "code",
   "execution_count": null,
   "id": "f0b5bb4a",
   "metadata": {},
   "outputs": [],
   "source": [
    "# пример использования оператора вхождения\n",
    "text = input(\"Введите текст\")\n",
    "if \"ы\" in text:\n",
    "    print(\"Текст содержит букву ы\")\n",
    "else:\n",
    "    print(\"Текст не содержит букву ы\")"
   ]
  },
  {
   "cell_type": "code",
   "execution_count": null,
   "id": "68708a66",
   "metadata": {},
   "outputs": [],
   "source": []
  }
 ],
 "metadata": {
  "kernelspec": {
   "display_name": "Python 3",
   "language": "python",
   "name": "python3"
  },
  "language_info": {
   "codemirror_mode": {
    "name": "ipython",
    "version": 3
   },
   "file_extension": ".py",
   "mimetype": "text/x-python",
   "name": "python",
   "nbconvert_exporter": "python",
   "pygments_lexer": "ipython3",
   "version": "3.13.2"
  }
 },
 "nbformat": 4,
 "nbformat_minor": 5
}
