{
 "cells": [
  {
   "cell_type": "markdown",
   "metadata": {},
   "source": [
    "### Разбор ДЗ\n",
    "\n",
    "1. Дан список целых чисел. Создать новый список, в котором будут только числа, первая цифра которых &ndash; 8. Используйте list comprehension и преобразование чисел в строки (с помощью функции `str()`)."
   ]
  },
  {
   "cell_type": "code",
   "execution_count": 1,
   "metadata": {},
   "outputs": [],
   "source": [
    "numbers = [85, 234, 48, 841, 3, 8, 902, 8563, 4, 0, 800000]"
   ]
  },
  {
   "cell_type": "markdown",
   "metadata": {},
   "source": [
    "Решение:"
   ]
  },
  {
   "cell_type": "code",
   "execution_count": 3,
   "metadata": {},
   "outputs": [
    {
     "name": "stdout",
     "output_type": "stream",
     "text": [
      "[85, 841, 8, 8563, 800000]\n"
     ]
    }
   ],
   "source": [
    "numbers8 = [num for num in numbers if str(num)[0] == \"8\"]\n",
    "# каждый элемент сделаем строкой, возьмём первый символ и сравним с \"8\"\n",
    "# если True, берём в новый список\n",
    "print(numbers8)"
   ]
  },
  {
   "cell_type": "markdown",
   "metadata": {},
   "source": [
    "2. Дан список строк. Напишите программу, которая для каждой строки в списке:\n",
    "* если она пустая, выводит сообщение об этом\n",
    "* если она не пустая, проверяет, равна ли первая буква последней, и выводит сообщение об этом\n",
    "* если первая буква равна последней, добавляет строку в новый список\n",
    "\n",
    "Получившийся список нужно вывести на экран. После этого выведите сообщение, в котором укажите, сколько таких слов получилось."
   ]
  },
  {
   "cell_type": "markdown",
   "metadata": {},
   "source": [
    "Алгоритм:\n",
    "1. Создадим пустой список, в который будем добавлять подходящие слова.\n",
    "2. Начнём цикл, в котором будем перебирать все слова из списка.\n",
    "3. На каждом шаге заведём условный оператор с тремя ветками.\n",
    "4. Сначала проверим, является ли строка пустой. Если да, то выводим сообщение.\n",
    "5. Если нет, то проверяем (`elif`), равна ли первая буква последней. Если да, то выводим сообщение и добавляем (`.append()`) в новый список.\n",
    "6. Если нет (`else`), то просто выводим сообщение.\n",
    "7. После конца цикла напечатаем новый список.\n",
    "8. Напечатаем также длину списка."
   ]
  },
  {
   "cell_type": "code",
   "execution_count": null,
   "metadata": {},
   "outputs": [
    {
     "name": "stdout",
     "output_type": "stream",
     "text": [
      "Первая буква не равна последней!\n",
      "Пустая строка!\n",
      "Первая буква равна последней!\n",
      "Первая буква равна последней!\n",
      "Первая буква не равна последней!\n",
      "Пустая строка!\n",
      "Первая буква равна последней!\n",
      "Первая буква не равна последней!\n",
      "Пустая строка!\n",
      "Первая буква равна последней!\n",
      "['боб', 'арка', 'соус', 'ротор']\n",
      "4 слова\n"
     ]
    }
   ],
   "source": [
    "words = [\"глаз\", \"\", \"боб\", \"арка\", \"стол\", \"\", \"соус\", \"ложка\", \"\", \"ротор\"]\n",
    "\n",
    "newwords = []\n",
    "for word in words:\n",
    "    if word == \"\":\n",
    "    # иначе: if not word:\n",
    "    # (т.к. пустая строка - всегда ложь, непустая - всегда истина)\n",
    "        print(\"Пустая строка!\")\n",
    "    elif word[0] == word[-1]:\n",
    "        print(\"Первая буква равна последней!\")\n",
    "        newwords.append(word)\n",
    "    else:\n",
    "        print(\"Первая буква не равна последней!\")\n",
    "print(newwords)\n",
    "print(len(newwords), \"слова\")"
   ]
  },
  {
   "cell_type": "markdown",
   "metadata": {},
   "source": [
    "### Практика"
   ]
  },
  {
   "cell_type": "markdown",
   "metadata": {},
   "source": [
    "1. Пусть программа принимает на вход целое число `N`. Создайте список длины `N` такого вида: `[\"a\", \"aa\", \"aaa\", ...]`.\n",
    "\n",
    "Подсказка: используйте `range()` и list comprehension. Помните, что если строку умножить на целое число, она повторится это число раз:"
   ]
  },
  {
   "cell_type": "code",
   "execution_count": null,
   "metadata": {},
   "outputs": [
    {
     "name": "stdout",
     "output_type": "stream",
     "text": [
      "aaa\n"
     ]
    }
   ],
   "source": [
    "a = \"a\"\n",
    "b = a * 3\n",
    "print(b)"
   ]
  },
  {
   "cell_type": "code",
   "execution_count": 7,
   "metadata": {},
   "outputs": [
    {
     "name": "stdout",
     "output_type": "stream",
     "text": [
      "['a', 'aa', 'aaa', 'aaaa', 'aaaaa', 'aaaaaa']\n"
     ]
    }
   ],
   "source": [
    "# решение:\n",
    "N = int(input())\n",
    "alist = [\"a\" * i for i in range(1, N + 1)]\n",
    "print(alist)"
   ]
  },
  {
   "cell_type": "markdown",
   "metadata": {},
   "source": [
    "2. Даны список имён людей и список их возрастов. Для каждого человека выведите на экран текст: `\"NAME is AGE years old\"`."
   ]
  },
  {
   "cell_type": "code",
   "execution_count": 5,
   "metadata": {},
   "outputs": [
    {
     "name": "stdout",
     "output_type": "stream",
     "text": [
      "Решение 1\n",
      "John is 23 years old\n",
      "Bill is 25 years old\n",
      "Jane is 19 years old\n",
      "Kate is 34 years old\n",
      "Mary is 29 years old\n",
      "Решение 2\n",
      "John is 23 years old\n",
      "Bill is 25 years old\n",
      "Jane is 19 years old\n",
      "Kate is 34 years old\n",
      "Mary is 29 years old\n"
     ]
    }
   ],
   "source": [
    "names = [\"John\", \"Bill\", \"Jane\", \"Kate\", \"Mary\"]\n",
    "ages = [23, 25, 19, 34, 29]\n",
    "\n",
    "# решение 1\n",
    "print(\"Решение 1\")\n",
    "for i, name in enumerate(names):\n",
    "    print(name, \"is\", ages[i], \"years old\")\n",
    "\n",
    "# решение 2\n",
    "print(\"Решение 2\")\n",
    "for name, age in zip(names, ages):\n",
    "    print(name, \"is\", age, \"years old\")"
   ]
  },
  {
   "cell_type": "markdown",
   "metadata": {},
   "source": [
    "3. Напишите программу, которая принимает на вход целое число H от 0 до 24, и выводит на экран текст `\"Сейчас H часов\"`. При этом слово \"час\" должно стоять в нужной форме. Если число некорректно, выведите сообщение об ошибке. Используйте условный оператор."
   ]
  },
  {
   "cell_type": "code",
   "execution_count": 3,
   "metadata": {},
   "outputs": [
    {
     "name": "stdout",
     "output_type": "stream",
     "text": [
      "Сейчас 21 час\n"
     ]
    }
   ],
   "source": [
    "# решение:\n",
    "H = int(input())\n",
    "if H < 0 or H >= 24:\n",
    "    print(\"Ошибка!\")\n",
    "elif H == 1 or H == 21:\n",
    "    print(\"Сейчас\", H, \"час\")\n",
    "elif H == 2 or H == 3 or H == 4 or H == 22 or H == 23:\n",
    "    print(\"Сейчас\", H, \"часа\")\n",
    "else:\n",
    "    print(\"Сейчас\", H, \"часов\")"
   ]
  },
  {
   "cell_type": "markdown",
   "metadata": {},
   "source": [
    "4. Дано логическое выражение:\n",
    "\n",
    "$$ X = \\overline{A \\cdot B} + C $$\n",
    "\n",
    "С помощью вложенных циклов `for` постройте его таблицу истинности. Каждый цикл должен проходить две итерации: на первой переменная должна быть равна 0, на второй &ndash; 1."
   ]
  },
  {
   "cell_type": "code",
   "execution_count": 2,
   "metadata": {},
   "outputs": [
    {
     "name": "stdout",
     "output_type": "stream",
     "text": [
      "A B C X\n",
      "0 0 0 1\n",
      "0 0 1 1\n",
      "0 1 0 1\n",
      "0 1 1 1\n",
      "1 0 0 1\n",
      "1 0 1 1\n",
      "1 1 0 0\n",
      "1 1 1 1\n"
     ]
    }
   ],
   "source": [
    "# решение\n",
    "print(\"A B C X\")\n",
    "for a in [0, 1]:\n",
    "    for b in [0, 1]:\n",
    "        for c in [0, 1]:\n",
    "            print(a, b, c, int(not (a and b) or c))\n",
    "            # переделаем результат в целое число, чтобы вместо True и False\n",
    "            # было 1 и 0"
   ]
  },
  {
   "cell_type": "markdown",
   "metadata": {},
   "source": [
    "Альтернативное решение (со звёздочкой) с использованием [декартова произведения](https://ru.wikipedia.org/wiki/%D0%9F%D1%80%D1%8F%D0%BC%D0%BE%D0%B5_%D0%BF%D1%80%D0%BE%D0%B8%D0%B7%D0%B2%D0%B5%D0%B4%D0%B5%D0%BD%D0%B8%D0%B5):"
   ]
  },
  {
   "cell_type": "code",
   "execution_count": 10,
   "metadata": {},
   "outputs": [
    {
     "name": "stdout",
     "output_type": "stream",
     "text": [
      "A B C X\n",
      "0 0 0 1\n",
      "0 0 1 1\n",
      "0 1 0 1\n",
      "0 1 1 1\n",
      "1 0 0 1\n",
      "1 0 1 1\n",
      "1 1 0 0\n",
      "1 1 1 1\n"
     ]
    }
   ],
   "source": [
    "from itertools import product\n",
    "# импортируем специальную функцию product(),\n",
    "# которая заменит нам вложенные циклы\n",
    "# она перебирает все возможные комбинации элементов\n",
    "print(\"A B C X\")\n",
    "for a, b, c in product([0, 1], repeat=3):\n",
    "    print(a, b, c, int(not (a and b) or c))"
   ]
  },
  {
   "cell_type": "markdown",
   "metadata": {},
   "source": [
    "5. Дано логическое уравнение:\n",
    "\n",
    "$$ \\overline{(A + B)} + B \\cdot C \\cdot D = 1 $$\n",
    "\n",
    "Найдите все его решения. Для этого:\n",
    "1. Создайте пустой список `solutions`\n",
    "2. Задайте четыре вложенных цикла по переменным `a, b, c` и `d`.\n",
    "3. Для каждой комбинации `a, b, c, d` вычислите значение выражения\n",
    "4. Если выражение равно 1, добавьте в список `solutions` список `[a, b, c, d]`.\n",
    "5. Выведите список `solutions` на экран построчно."
   ]
  },
  {
   "cell_type": "code",
   "execution_count": 6,
   "metadata": {},
   "outputs": [
    {
     "name": "stdout",
     "output_type": "stream",
     "text": [
      "[0, 0, 0, 0]\n",
      "[0, 0, 0, 1]\n",
      "[0, 0, 1, 0]\n",
      "[0, 0, 1, 1]\n",
      "[0, 1, 1, 1]\n",
      "[1, 1, 1, 1]\n"
     ]
    }
   ],
   "source": [
    "# решение:\n",
    "solutions = []\n",
    "for a in [0, 1]:\n",
    "    for b in [0, 1]:\n",
    "        for c in [0, 1]:\n",
    "            for d in [0, 1]:\n",
    "                if not (a or b) or b and c and d:\n",
    "                    solutions.append([a, b, c, d])\n",
    "for row in solutions:\n",
    "    print(row)"
   ]
  },
  {
   "cell_type": "markdown",
   "metadata": {},
   "source": [
    "Альтернативное решение (со звёздочкой) с использованием [декартова произведения](https://ru.wikipedia.org/wiki/%D0%9F%D1%80%D1%8F%D0%BC%D0%BE%D0%B5_%D0%BF%D1%80%D0%BE%D0%B8%D0%B7%D0%B2%D0%B5%D0%B4%D0%B5%D0%BD%D0%B8%D0%B5):"
   ]
  },
  {
   "cell_type": "code",
   "execution_count": null,
   "metadata": {},
   "outputs": [
    {
     "name": "stdout",
     "output_type": "stream",
     "text": [
      "[0, 0, 0, 0]\n",
      "[0, 0, 0, 1]\n",
      "[0, 0, 1, 0]\n",
      "[0, 0, 1, 1]\n",
      "[0, 1, 1, 1]\n",
      "[1, 1, 1, 1]\n"
     ]
    }
   ],
   "source": [
    "from itertools import product\n",
    "# импортируем специальную функцию product(),\n",
    "# которая заменит нам вложенные циклы\n",
    "# она перебирает все возможные комбинации элементов\n",
    "solutions = []\n",
    "for a, b, c, d in product([0, 1], repeat=4):\n",
    "    if not (a or b) or b and c and d:\n",
    "        solutions.append([a, b, c, d])\n",
    "for row in solutions:\n",
    "    print(row)"
   ]
  },
  {
   "cell_type": "markdown",
   "metadata": {},
   "source": [
    "6*. Расстояние Хэмминга. Напишите программу, которая принимает на вход две строки. Если строки неравной длины, нужно вывести ошибку. Если они равной ддины, нужно вывести количество позиций, на которых стоят разные символы. Например: у слов \"стол\" и \"стул\" разные символы стоят только на третьей позиции."
   ]
  }
 ],
 "metadata": {
  "kernelspec": {
   "display_name": "Python 3",
   "language": "python",
   "name": "python3"
  },
  "language_info": {
   "codemirror_mode": {
    "name": "ipython",
    "version": 3
   },
   "file_extension": ".py",
   "mimetype": "text/x-python",
   "name": "python",
   "nbconvert_exporter": "python",
   "pygments_lexer": "ipython3",
   "version": "3.13.1"
  }
 },
 "nbformat": 4,
 "nbformat_minor": 2
}
