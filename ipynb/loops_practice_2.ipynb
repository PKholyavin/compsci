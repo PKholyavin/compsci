{
 "cells": [
  {
   "cell_type": "markdown",
   "metadata": {},
   "source": [
    "7. Дан список целых чисел. Создать новый список, в котором будут только числа, первая цифра которых &ndash; 8. Используйте list comprehension и преобразование чисел в строки (с помощью функции `str()`)"
   ]
  },
  {
   "cell_type": "code",
   "execution_count": null,
   "metadata": {},
   "outputs": [],
   "source": [
    "numbers = [85, 234, 48, 841, 3, 8, 902, 8563, 4, 0, 800000]"
   ]
  },
  {
   "cell_type": "markdown",
   "metadata": {},
   "source": [
    "8. Дано логическое выражение:\n",
    "\n",
    "$$ \\overline{A \\cdot B} + C $$\n",
    "\n",
    "С помощью вложенных циклов `for` постройте его таблицу истинности. Каждый цикл должен проходить две итерации: на первой переменная должна быть равна 0, на второй &ndash; 1."
   ]
  },
  {
   "cell_type": "code",
   "execution_count": null,
   "metadata": {},
   "outputs": [],
   "source": []
  },
  {
   "cell_type": "markdown",
   "metadata": {},
   "source": [
    "**Задание для самостоятельного выполнения:**  \n",
    "Найдите все решения логического уравнения\n",
    "\n",
    "$$ (A + B + C) \\cdot \\overline{B} \\cdot \\overline{C} \\cdot D = 1$$\n",
    "\n",
    "Для этого:\n",
    "1. Создайте пустой список `solutions`\n",
    "2. Задайте четыре вложенных цикла по переменным `a, b, c` и `d`.\n",
    "3. Для каждой комбинации `a, b, c, d` вычислите значение выражения\n",
    "4. Если выражение равно 1, добавьте в список `solutions` список `[a, b, c, d]`.\n",
    "5. Выведите список `solutions` на экран."
   ]
  }
 ],
 "metadata": {
  "language_info": {
   "name": "python"
  }
 },
 "nbformat": 4,
 "nbformat_minor": 2
}
