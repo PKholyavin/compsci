{
 "cells": [
  {
   "cell_type": "markdown",
   "metadata": {},
   "source": [
    "1. Дан список целых чисел. Создать новый список, в котором будут только числа, первая цифра которых &ndash; 8. Используйте list comprehension и преобразование чисел в строки (с помощью функции `str()`)"
   ]
  },
  {
   "cell_type": "code",
   "execution_count": null,
   "metadata": {},
   "outputs": [],
   "source": [
    "numbers = [85, 234, 48, 841, 3, 8, 902, 8563, 4, 0, 800000]"
   ]
  },
  {
   "cell_type": "markdown",
   "metadata": {},
   "source": [
    "2. Даны список имён людей и список их возрастов. Для каждого человека выведите на экран текст: `\"NAME is AGE years old\"`."
   ]
  },
  {
   "cell_type": "code",
   "execution_count": 2,
   "metadata": {},
   "outputs": [],
   "source": [
    "names = [\"John\", \"Bill\", \"Jane\", \"Kate\", \"Mary\"]\n",
    "ages = [23, 25, 19, 34, 29]"
   ]
  },
  {
   "cell_type": "markdown",
   "metadata": {},
   "source": [
    "3. Напишите программу, которая принимает на вход целое число H от 0 до 24, и выводит на экран текст `\"Сейчас H часов\"`. При этом слово \"час\" должно стоять в нужной форме. Если число некорректно, выведите сообщение об ошибке. Используйте условный оператор."
   ]
  },
  {
   "cell_type": "code",
   "execution_count": null,
   "metadata": {},
   "outputs": [],
   "source": []
  },
  {
   "cell_type": "markdown",
   "metadata": {},
   "source": [
    "4. Дано логическое выражение:\n",
    "\n",
    "$$ \\overline{A \\cdot B} + C $$\n",
    "\n",
    "С помощью вложенных циклов `for` постройте его таблицу истинности. Каждый цикл должен проходить две итерации: на первой переменная должна быть равна 0, на второй &ndash; 1."
   ]
  },
  {
   "cell_type": "code",
   "execution_count": null,
   "metadata": {},
   "outputs": [],
   "source": []
  },
  {
   "cell_type": "markdown",
   "metadata": {},
   "source": [
    "5. Напишите программу, которая принимает на вход через стандартный ввод натуральное число и проверяет, является ли оно простым. Для этого в цикле проверьте, делится ли оно нацело (нужен оператор остаток от деления `%`) на все числа от 2 до квадратного корня из этого числа (квадратный корень от `x` можно вычислить как `x ** 0.5`). Используйте оператор `break`: как только мы нашли делитель, значит, число составное и можно заканчивать цикл досрочно (`break`). Если цикл отработал полностью (`else`), то число простое."
   ]
  },
  {
   "cell_type": "code",
   "execution_count": null,
   "metadata": {},
   "outputs": [],
   "source": []
  }
 ],
 "metadata": {
  "kernelspec": {
   "display_name": "Python 3",
   "language": "python",
   "name": "python3"
  },
  "language_info": {
   "codemirror_mode": {
    "name": "ipython",
    "version": 3
   },
   "file_extension": ".py",
   "mimetype": "text/x-python",
   "name": "python",
   "nbconvert_exporter": "python",
   "pygments_lexer": "ipython3",
   "version": "3.13.1"
  }
 },
 "nbformat": 4,
 "nbformat_minor": 2
}
