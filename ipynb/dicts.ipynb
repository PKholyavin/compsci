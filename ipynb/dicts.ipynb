{
 "cells": [
  {
   "cell_type": "markdown",
   "metadata": {},
   "source": [
    "### Словари (dict)"
   ]
  },
  {
   "cell_type": "markdown",
   "metadata": {},
   "source": [
    "Словарь &ndash; это набор пар ключ &ndash; значение (key &ndash; value). Словари являются изменяемыми объектами (mutable). Значениями могут быть объекты любых типов (в том числе списки и словари), ключами &ndash; **только неизменяемых** (immutable: `str`, `int`, `float`, ...)."
   ]
  },
  {
   "cell_type": "markdown",
   "metadata": {},
   "source": [
    "Задать пустой словарь можно с помощью функции `dict()` или фигурных скобок."
   ]
  },
  {
   "cell_type": "code",
   "execution_count": null,
   "metadata": {},
   "outputs": [],
   "source": [
    "d = {}\n",
    "d = dict()"
   ]
  },
  {
   "cell_type": "markdown",
   "metadata": {},
   "source": [
    "Чтобы задать непустой словарь, нужно перечислить пары ключ &ndash; значение через запятую, разделив каждую двоеточием."
   ]
  },
  {
   "cell_type": "code",
   "execution_count": 1,
   "metadata": {},
   "outputs": [],
   "source": [
    "d = {\"1\": 5, \"2\": 7}"
   ]
  },
  {
   "cell_type": "markdown",
   "metadata": {},
   "source": [
    "Если каждое значение задаётся длинным выражением, можно каждое записать на своей строчке:"
   ]
  },
  {
   "cell_type": "code",
   "execution_count": null,
   "metadata": {},
   "outputs": [],
   "source": [
    "addresses = {\n",
    "    \"Jack Smith\": \"Sometown, Example St, 101\",\n",
    "    \"John Doe\": \"Othertown, Default St, 202\",\n",
    "    \"Mary Jones\": \"Thirdtown, Whatever St, 303\",  # запятые нужны везде, кроме \n",
    "    # последнего пункта, где она опциональна\n",
    "}"
   ]
  },
  {
   "cell_type": "markdown",
   "metadata": {},
   "source": [
    "Доступ к значению по ключу:"
   ]
  },
  {
   "cell_type": "code",
   "execution_count": 2,
   "metadata": {},
   "outputs": [
    {
     "name": "stdout",
     "output_type": "stream",
     "text": [
      "5\n"
     ]
    }
   ],
   "source": [
    "print(d[\"1\"])"
   ]
  },
  {
   "cell_type": "markdown",
   "metadata": {},
   "source": [
    "А если ключа не существует?"
   ]
  },
  {
   "cell_type": "code",
   "execution_count": 3,
   "metadata": {},
   "outputs": [
    {
     "ename": "KeyError",
     "evalue": "'42'",
     "output_type": "error",
     "traceback": [
      "\u001b[1;31m---------------------------------------------------------------------------\u001b[0m",
      "\u001b[1;31mKeyError\u001b[0m                                  Traceback (most recent call last)",
      "Cell \u001b[1;32mIn[3], line 1\u001b[0m\n\u001b[1;32m----> 1\u001b[0m \u001b[38;5;28mprint\u001b[39m(\u001b[43md\u001b[49m\u001b[43m[\u001b[49m\u001b[38;5;124;43m\"\u001b[39;49m\u001b[38;5;124;43m42\u001b[39;49m\u001b[38;5;124;43m\"\u001b[39;49m\u001b[43m]\u001b[49m)  \u001b[38;5;66;03m# Ошибка!\u001b[39;00m\n",
      "\u001b[1;31mKeyError\u001b[0m: '42'"
     ]
    }
   ],
   "source": [
    "print(d[\"42\"])  # Ошибка!"
   ]
  },
  {
   "cell_type": "markdown",
   "metadata": {},
   "source": [
    "Можно использовать метод `.get()`."
   ]
  },
  {
   "cell_type": "code",
   "execution_count": 4,
   "metadata": {},
   "outputs": [
    {
     "name": "stdout",
     "output_type": "stream",
     "text": [
      "7\n"
     ]
    }
   ],
   "source": [
    "print(d.get(\"2\", \"Not found\"))\n",
    "# второй параметр - то, что вернётся, если такого ключа нет"
   ]
  },
  {
   "cell_type": "markdown",
   "metadata": {},
   "source": [
    "Убрать значение по ключу:"
   ]
  },
  {
   "cell_type": "code",
   "execution_count": 5,
   "metadata": {},
   "outputs": [
    {
     "name": "stdout",
     "output_type": "stream",
     "text": [
      "{'2': 7}\n"
     ]
    }
   ],
   "source": [
    "d.pop(\"1\")\n",
    "print(d)"
   ]
  },
  {
   "cell_type": "markdown",
   "metadata": {},
   "source": [
    "Добавить ключ или перезаписать значение по существующему ключу:"
   ]
  },
  {
   "cell_type": "code",
   "execution_count": 6,
   "metadata": {},
   "outputs": [
    {
     "name": "stdout",
     "output_type": "stream",
     "text": [
      "{'2': 8, '3': 10}\n"
     ]
    }
   ],
   "source": [
    "d[\"2\"] = 8\n",
    "d[\"3\"] = 10\n",
    "print(d)"
   ]
  },
  {
   "cell_type": "code",
   "execution_count": 7,
   "metadata": {},
   "outputs": [
    {
     "name": "stdout",
     "output_type": "stream",
     "text": [
      "{'2': 9, '3': 10}\n"
     ]
    }
   ],
   "source": [
    "d[\"2\"] += 1\n",
    "print(d)"
   ]
  },
  {
   "cell_type": "markdown",
   "metadata": {},
   "source": [
    "Dictionary comprehension: очень похоже на list comprehension. Тоже есть цикл `for`, но в самом начале нам нужно указать и ключ, и значение. Например: составим словарь, ключи которого &ndash; строковые представления чисел от 0 до 9, а значения &ndash; квадраты этих чисел (как целые числа)."
   ]
  },
  {
   "cell_type": "code",
   "execution_count": 8,
   "metadata": {},
   "outputs": [
    {
     "name": "stdout",
     "output_type": "stream",
     "text": [
      "{'0': 0, '1': 1, '2': 4, '3': 9, '4': 16, '5': 25, '6': 36, '7': 49, '8': 64, '9': 81}\n"
     ]
    }
   ],
   "source": [
    "d1 = {str(a): a ** 2 for a in range(10)}\n",
    "print(d1)"
   ]
  },
  {
   "cell_type": "markdown",
   "metadata": {},
   "source": [
    "Создание словаря из пар (ключ, значение)"
   ]
  },
  {
   "cell_type": "code",
   "execution_count": 12,
   "metadata": {},
   "outputs": [
    {
     "name": "stdout",
     "output_type": "stream",
     "text": [
      "{'1': 2, '3': 4, '5': 6}\n"
     ]
    }
   ],
   "source": [
    "d2 = dict([(\"1\", 2), (\"3\", 4), (\"5\", 6)])\n",
    "print(d2)"
   ]
  },
  {
   "cell_type": "code",
   "execution_count": 11,
   "metadata": {},
   "outputs": [
    {
     "name": "stdout",
     "output_type": "stream",
     "text": [
      "{'a': 1, 'b': 2, 'c': 3}\n"
     ]
    }
   ],
   "source": [
    "d3 = dict(a=1, b=2, c=3)\n",
    "print(d3)\n",
    "# в этом случае ключами становятся строки a, b, c\n",
    "# то есть так можно создать только словарь, ключи которого - строки,\n",
    "# подходящие под правила названия переменных"
   ]
  },
  {
   "cell_type": "markdown",
   "metadata": {},
   "source": [
    "Если у нас есть два списка сопоставленных друг другу значений, можно быстро свернуть их в словарь с помощью `zip()`."
   ]
  },
  {
   "cell_type": "code",
   "execution_count": 10,
   "metadata": {},
   "outputs": [
    {
     "name": "stdout",
     "output_type": "stream",
     "text": [
      "{'1': 3, '2': 2, '3': 1}\n"
     ]
    }
   ],
   "source": [
    "keys = [\"1\", \"2\", \"3\"]\n",
    "values = [3, 2, 1]\n",
    "d4 = dict(zip(keys, values))\n",
    "print(d4)"
   ]
  },
  {
   "cell_type": "markdown",
   "metadata": {},
   "source": [
    "Например:"
   ]
  },
  {
   "cell_type": "code",
   "execution_count": 9,
   "metadata": {},
   "outputs": [
    {
     "name": "stdout",
     "output_type": "stream",
     "text": [
      "{'John': 5, 'Jane': 4, 'Jill': 5}\n"
     ]
    }
   ],
   "source": [
    "names = [\"John\", \"Jane\", \"Jill\"]\n",
    "grades = [5, 4, 5]\n",
    "grades_dict = dict(zip(names, grades))\n",
    "print(grades_dict)"
   ]
  },
  {
   "cell_type": "markdown",
   "metadata": {},
   "source": [
    "Проверка на вхождения **ключа** в словарь:"
   ]
  },
  {
   "cell_type": "code",
   "execution_count": 13,
   "metadata": {},
   "outputs": [
    {
     "name": "stdout",
     "output_type": "stream",
     "text": [
      "True\n",
      "False\n"
     ]
    }
   ],
   "source": [
    "print(\"1\" in d2)\n",
    "print(2 in d2)"
   ]
  },
  {
   "cell_type": "markdown",
   "metadata": {},
   "source": [
    "Если мы хотим, чтобы у каждого ключа было много значений, то мы можем сделать значениями списки, которые мы сможем пополнять по мере надобности."
   ]
  },
  {
   "cell_type": "code",
   "execution_count": null,
   "metadata": {},
   "outputs": [],
   "source": [
    "data = {}\n",
    "key = \"some_key\"\n",
    "value = \"some_value\"\n",
    "if key not in data:\n",
    "    # если такой ключ ещё не встретился,\n",
    "    # добавляем его и назначаем по нему пустой список\n",
    "    data[key] = []\n",
    "# добавляем значение в список, который лежит в словаре по ключу\n",
    "data[key].append(value)"
   ]
  },
  {
   "cell_type": "markdown",
   "metadata": {},
   "source": [
    "**Задание**: дан список пар (имя, оценка). Имена могут повторяться. Создайте словарь, в котором ключами будут имена, а значениями &ndash; списки оценок учеников. Используйте цикл `for` и проверку на вхождение ключа."
   ]
  },
  {
   "cell_type": "code",
   "execution_count": null,
   "metadata": {},
   "outputs": [],
   "source": [
    "grades = [\n",
    "    [\"John\", 5],\n",
    "    [\"John\", 4],\n",
    "    [\"Jill\", 4],\n",
    "    [\"Jack\", 3],\n",
    "    [\"Jill\", 5], \n",
    "    [\"John\", 5], \n",
    "    [\"Jack\", 4],\n",
    "]"
   ]
  },
  {
   "cell_type": "markdown",
   "metadata": {},
   "source": [
    "Итерация по словарю:\n",
    "\n",
    "1. Перебираем ключи; тогда значение можно получить через квадратные скобки."
   ]
  },
  {
   "cell_type": "code",
   "execution_count": 21,
   "metadata": {},
   "outputs": [
    {
     "name": "stdout",
     "output_type": "stream",
     "text": [
      "1 2\n",
      "3 4\n",
      "5 6\n"
     ]
    }
   ],
   "source": [
    "for key in d2:\n",
    "    print(key, d2[key])"
   ]
  },
  {
   "cell_type": "code",
   "execution_count": 22,
   "metadata": {},
   "outputs": [
    {
     "name": "stdout",
     "output_type": "stream",
     "text": [
      "1 2\n",
      "3 4\n",
      "5 6\n"
     ]
    }
   ],
   "source": [
    "for key in d2.keys():\n",
    "    print(key, d2[key])"
   ]
  },
  {
   "cell_type": "markdown",
   "metadata": {},
   "source": [
    "2. Перебираем пары (ключ, значение):"
   ]
  },
  {
   "cell_type": "code",
   "execution_count": 23,
   "metadata": {},
   "outputs": [
    {
     "name": "stdout",
     "output_type": "stream",
     "text": [
      "1 2\n",
      "3 4\n",
      "5 6\n"
     ]
    }
   ],
   "source": [
    "for key, value in d2.items():\n",
    "    print(key, value)"
   ]
  },
  {
   "cell_type": "markdown",
   "metadata": {},
   "source": [
    "3. Перебираем только значения:"
   ]
  },
  {
   "cell_type": "code",
   "execution_count": 24,
   "metadata": {},
   "outputs": [
    {
     "name": "stdout",
     "output_type": "stream",
     "text": [
      "2\n",
      "4\n",
      "6\n"
     ]
    }
   ],
   "source": [
    "for value in d2.values():\n",
    "    print(value)"
   ]
  },
  {
   "cell_type": "markdown",
   "metadata": {},
   "source": [
    "Сделать из словаря списки:\n",
    "1. Список ключей:"
   ]
  },
  {
   "cell_type": "code",
   "execution_count": null,
   "metadata": {},
   "outputs": [
    {
     "name": "stdout",
     "output_type": "stream",
     "text": [
      "['1', '3', '5']\n",
      "['1', '3', '5']\n"
     ]
    }
   ],
   "source": [
    "print(list(d2))\n",
    "print(list(d2.keys()))  # одно и то же"
   ]
  },
  {
   "cell_type": "markdown",
   "metadata": {},
   "source": [
    "2. Список значений:"
   ]
  },
  {
   "cell_type": "code",
   "execution_count": 17,
   "metadata": {},
   "outputs": [
    {
     "name": "stdout",
     "output_type": "stream",
     "text": [
      "[2, 4, 6]\n"
     ]
    }
   ],
   "source": [
    "print(list(d2.values()))"
   ]
  },
  {
   "cell_type": "markdown",
   "metadata": {},
   "source": [
    "3. Список пар (ключ, значение):"
   ]
  },
  {
   "cell_type": "code",
   "execution_count": 18,
   "metadata": {},
   "outputs": [
    {
     "name": "stdout",
     "output_type": "stream",
     "text": [
      "[('1', 2), ('3', 4), ('5', 6)]\n"
     ]
    }
   ],
   "source": [
    "print(list(d2.items()))"
   ]
  },
  {
   "cell_type": "markdown",
   "metadata": {},
   "source": [
    "Объединение словарей:"
   ]
  },
  {
   "cell_type": "code",
   "execution_count": 19,
   "metadata": {},
   "outputs": [
    {
     "name": "stdout",
     "output_type": "stream",
     "text": [
      "{'1': 2, '3': 5, '6': 7}\n"
     ]
    }
   ],
   "source": [
    "d4 = {\"1\": 2, \"3\": 4}\n",
    "d5 = {\"3\": 5, \"6\": 7}\n",
    "d4.update(d5)\n",
    "print(d4)"
   ]
  },
  {
   "cell_type": "code",
   "execution_count": 20,
   "metadata": {},
   "outputs": [
    {
     "name": "stdout",
     "output_type": "stream",
     "text": [
      "{'1': 2, '3': 5, '6': 7}\n"
     ]
    }
   ],
   "source": [
    "d4 = {\"1\": 2, \"3\": 4}\n",
    "d5 = {\"3\": 5, \"6\": 7}\n",
    "d6 = d4 | d5  # Python 3.9 и выше\n",
    "print(d6)"
   ]
  },
  {
   "cell_type": "markdown",
   "metadata": {},
   "source": [
    "**Задание для выполнения в классе**: дан список слов. Создать словарь, где каждому слову будет сопоставлена его длина. Необходимо уложиться в одну строчку."
   ]
  },
  {
   "cell_type": "code",
   "execution_count": null,
   "metadata": {},
   "outputs": [],
   "source": [
    "words = [\"apple\", \"banana\", \"orange\", \"pear\", \"pineapple\"]\n",
    "# words_dict = \n",
    "# print(words_dict)"
   ]
  }
 ],
 "metadata": {
  "kernelspec": {
   "display_name": "Python 3",
   "language": "python",
   "name": "python3"
  },
  "language_info": {
   "codemirror_mode": {
    "name": "ipython",
    "version": 3
   },
   "file_extension": ".py",
   "mimetype": "text/x-python",
   "name": "python",
   "nbconvert_exporter": "python",
   "pygments_lexer": "ipython3",
   "version": "3.13.1"
  }
 },
 "nbformat": 4,
 "nbformat_minor": 2
}
