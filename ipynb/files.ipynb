{
 "cells": [
  {
   "cell_type": "markdown",
   "metadata": {},
   "source": [
    "### Работа с текстовыми файлами"
   ]
  },
  {
   "cell_type": "markdown",
   "metadata": {},
   "source": [
    "Чтобы работать с файлом, его нужно открыть. Для этого есть функция `open()`. В неё передаётся два аргумента:\n",
    "* имя файла (или путь к нему) в виде строки &ndash; полностью, вместе с расширением\n",
    "* специальная строка, которая показывает, в каком режиме будет открыт файл: `\"r\"` &ndash; режим чтения, `\"w\"` &ndash; режим записи, `\"a\"` &ndash; режим дописывания в конец существующего файла.\n",
    "\n",
    "Функция возвращает специальный объект, через который можно получать доступ к файлу с помощью специальных методов."
   ]
  },
  {
   "cell_type": "markdown",
   "metadata": {},
   "source": [
    "1. Чтение\n",
    "\n",
    "Файл будет читаться из текущей директории! Если такого файла нет, возникнет ошибка."
   ]
  },
  {
   "cell_type": "code",
   "execution_count": null,
   "metadata": {},
   "outputs": [],
   "source": [
    "!wget https://pkholyavin.github.io/compsci/test.txt"
   ]
  },
  {
   "cell_type": "code",
   "execution_count": null,
   "metadata": {},
   "outputs": [
    {
     "name": "stdout",
     "output_type": "stream",
     "text": [
      "Был тихий серый вечер.\n",
      "Дул ветер, слабый и тёплый.\n",
      "Небо было покрыто тучами, сквозь которые иногда прорывались лучи заходящего солнца.\n",
      "\n"
     ]
    }
   ],
   "source": [
    "f = open(\"test.txt\", \"r\")\n",
    "text = f.read()  # считываем весь текст одной строкой\n",
    "f.close()\n",
    "print(text)"
   ]
  },
  {
   "cell_type": "code",
   "execution_count": null,
   "metadata": {},
   "outputs": [
    {
     "name": "stdout",
     "output_type": "stream",
     "text": [
      "['Был тихий серый вечер.\\n', 'Дул ветер, слабый и тёплый.\\n', 'Небо было покрыто тучами, сквозь которые иногда прорывались лучи заходящего солнца.\\n']\n"
     ]
    }
   ],
   "source": [
    "f = open(\"test.txt\", \"r\")\n",
    "lines = f.readlines()  # считываем весь текст построчно, получаем список строк\n",
    "f.close()\n",
    "print(lines)"
   ]
  },
  {
   "cell_type": "markdown",
   "metadata": {},
   "source": [
    "Принято использовать т.н. context manager, чтобы файл закрывался автоматически:"
   ]
  },
  {
   "cell_type": "code",
   "execution_count": null,
   "metadata": {},
   "outputs": [],
   "source": [
    "with open(\"test.txt\", \"r\") as f:\n",
    "    lines = f.readlines()\n",
    "print(lines)"
   ]
  },
  {
   "cell_type": "markdown",
   "metadata": {},
   "source": [
    "2. Запись\n",
    "\n",
    "Если файла с таким названием не существует, он будет создан. Существующий файл будет перезаписан."
   ]
  },
  {
   "cell_type": "code",
   "execution_count": null,
   "metadata": {},
   "outputs": [],
   "source": [
    "with open(\"test_out.txt\", \"w\") as f:\n",
    "    f.write(\"test\")"
   ]
  },
  {
   "cell_type": "markdown",
   "metadata": {},
   "source": [
    "3. Добавление в существующий файл\n",
    "\n",
    "Если файла с таким названием не существует, он будет создан."
   ]
  },
  {
   "cell_type": "code",
   "execution_count": 1,
   "metadata": {},
   "outputs": [],
   "source": [
    "with open(\"test_out.txt\", \"a\") as f:\n",
    "    f.write(\"test\")"
   ]
  },
  {
   "cell_type": "markdown",
   "metadata": {},
   "source": [
    "Также можно задать путь к файлу, относительный или абсолютный."
   ]
  },
  {
   "cell_type": "markdown",
   "metadata": {},
   "source": [
    "### Задание 1\n",
    "\n",
    "Скачайте текстовый файл `grades.txt` и поместите его в свою рабочую директорию.\n",
    "\n",
    "https://pkholyavin.github.io/compsci/grades.txt\n",
    "\n",
    "На каждой строчке содержатся: имя, фамилия, список оценок. По очереди для каждого ученика выведите текст:\n",
    "\n",
    "```\n",
    "Имя: (имя)\n",
    "Фамилия: (фамилия)\n",
    "Средняя оценка: X\n",
    "Максимальная оценка: X\n",
    "Минимальная оценка: X\n",
    "```\n",
    "\n",
    "Используйте метод `split()`."
   ]
  },
  {
   "cell_type": "code",
   "execution_count": null,
   "metadata": {},
   "outputs": [],
   "source": [
    "!wget https://pkholyavin.github.io/compsci/grades.txt"
   ]
  },
  {
   "cell_type": "code",
   "execution_count": null,
   "metadata": {},
   "outputs": [],
   "source": []
  },
  {
   "cell_type": "markdown",
   "metadata": {},
   "source": [
    "### Задание 2\n",
    "\n",
    "Измените код так, чтобы информация не выводилась на экран, а записывалась в файлы, называющиеся по имени и фамилии. Вместо пробела в названии файла сделайте нижнее подчёркивание."
   ]
  },
  {
   "cell_type": "code",
   "execution_count": null,
   "metadata": {},
   "outputs": [],
   "source": []
  }
 ],
 "metadata": {
  "kernelspec": {
   "display_name": "Python 3",
   "language": "python",
   "name": "python3"
  },
  "language_info": {
   "codemirror_mode": {
    "name": "ipython",
    "version": 3
   },
   "file_extension": ".py",
   "mimetype": "text/x-python",
   "name": "python",
   "nbconvert_exporter": "python",
   "pygments_lexer": "ipython3",
   "version": "3.13.1"
  },
  "orig_nbformat": 4
 },
 "nbformat": 4,
 "nbformat_minor": 2
}
