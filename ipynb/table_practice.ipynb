{
 "cells": [
  {
   "cell_type": "markdown",
   "id": "86ff8819",
   "metadata": {},
   "source": [
    "### Задание 1\n",
    "\n",
    "1. Скачайте текстовый файл по [ссылке](https://pkholyavin.github.io/speechtechhse/fpt.txt).\n",
    "\n",
    "2. Составьте список всех возможных двухбуквенных сочетаний русского языка, используя вложенные циклы.\n",
    "\n",
    "3. Прочитайте файл в память компьютера (см. [соответствующий ноутбук](https://colab.research.google.com/github/PKholyavin/compsci/blob/main/ipynb/files.ipynb)).\n",
    "\n",
    "4. Для каждого буквосочетания определите, сколько раз оно встретилось в тексте (нужно, чтобы считались и заглавные буквы, и строчные). Если оно встретилось хотя бы раз, выведите количество на экран. Вспомните методы строк в соответствующем [ноутбуке](https://colab.research.google.com/github/PKholyavin/compsci/blob/main/ipynb/string_methods.ipynb). Для подсчёта можно использовать метод `.count()`:\n",
    "```python\n",
    "text = \"мамамылараму\"\n",
    "print(text.count(\"ам\"))\n",
    "```\n",
    "```\n",
    "3\n",
    "```\n",
    "\n",
    "5. (*) Найдите 10 самых часто встречающихся сочетаний, используя словарь и сортировку:\n",
    "\n",
    "```python\n",
    "sorted_values = sorted(data, key=data.get)\n",
    "```"
   ]
  },
  {
   "cell_type": "code",
   "execution_count": null,
   "id": "08a8603b",
   "metadata": {},
   "outputs": [],
   "source": []
  },
  {
   "cell_type": "markdown",
   "id": "67fc2ce2",
   "metadata": {},
   "source": [
    "### Задание 2\n",
    "\n",
    "1. Скачайте таблицу по [ссылке](https://raw.githubusercontent.com/reisanar/datasets/refs/heads/master/HollywoodMovies.csv).\n",
    "\n",
    "2. Откройте её любым редактором и изучите названия столбцов.\n",
    "\n",
    "3. Создайте список словарей, каждый из которых будет содержать данные из одной строки таблицы (см. [соответствующий ноутбук](https://colab.research.google.com/github/PKholyavin/compsci/blob/main/ipynb/csv_reading.ipynb)).\n",
    "\n",
    "4. Найдите фильм с самым большим рейтингом Rotten Tomatoes и выведите его название на экран.\n",
    "\n",
    "5. Определите средний бюджет комедий 2008 года.\n",
    "\n",
    "6. Составьте рейтинг по Audience Score Rotten Tomatoes всех фильмов, в названии которых есть цифра 3. Выведите его на экран."
   ]
  },
  {
   "cell_type": "code",
   "execution_count": null,
   "id": "c8bc3512",
   "metadata": {},
   "outputs": [],
   "source": []
  }
 ],
 "metadata": {
  "language_info": {
   "name": "python"
  }
 },
 "nbformat": 4,
 "nbformat_minor": 5
}
