{
 "cells": [
  {
   "cell_type": "markdown",
   "metadata": {},
   "source": [
    "**Разбор ДЗ**\n",
    "\n",
    "1. Напишите программу, которая считывает с клавиатуры целое число от 1 до 12 и выводит на экран название соответствующего месяца. Если число меньше 1 или больше 12, выведите на экран, что такого месяца не существует.\n",
    "\n",
    "Подсказка: создайте список, содержащий названия всех месяцев в строковом представлении. Помните, что индексация списков в Python начинается с 0!"
   ]
  },
  {
   "cell_type": "code",
   "execution_count": null,
   "metadata": {},
   "outputs": [],
   "source": [
    "months = [\n",
    "    \"January\", \"February\", \"March\", \"April\", \"May\", \"June\",\n",
    "    \"July\", \"August\", \"September\", \"October\", \"November\", \"December\"\n",
    "]\n",
    "num = int(input())\n",
    "if num < 1 or num > 12:\n",
    "    print(\"No such month\")\n",
    "else:\n",
    "    # чтобы был правильный индекс\n",
    "    # (для первого месяца - 0, для второго - 1, ...), вычтем 1\n",
    "    print(months[num - 1])"
   ]
  },
  {
   "cell_type": "markdown",
   "metadata": {},
   "source": [
    "Напишите программу, которая считывает с клавиатуры два целых числа M и N и создаёт список, в котором будут частные от деления на N всех чисел от 0 до M. Если число N равно 0 или число M меньше или равно 0, выведите на экран текст, сообщающий об этом.\n",
    "\n",
    "Подсказка: используйте `range()` и list comprehension."
   ]
  },
  {
   "cell_type": "code",
   "execution_count": null,
   "metadata": {},
   "outputs": [],
   "source": [
    "m = int(input())\n",
    "n = int(input())\n",
    "if n == 0 or m <= 0:\n",
    "    print(\"Error\")\n",
    "else:\n",
    "    newlist = [i / n for i in range(m + 1)]"
   ]
  },
  {
   "cell_type": "markdown",
   "metadata": {},
   "source": [
    "1. Задача: дан список строк, каждая из которых содержит число. Необходимо сгенерировать список, содержащий квадраты чисел в строковом представлении.\n",
    "\n",
    "Какой код это выполнит? (возможно более одного варианта ответа)"
   ]
  },
  {
   "cell_type": "code",
   "execution_count": null,
   "metadata": {},
   "outputs": [],
   "source": [
    "a = [\"4\", \"4.5\", \"5\", \"6.5\", \"7\"]\n",
    "b = [str(float(a ** 2))]"
   ]
  },
  {
   "cell_type": "markdown",
   "metadata": {},
   "source": [
    "Результат: ошибка! Список нельзя возвести в степень."
   ]
  },
  {
   "cell_type": "code",
   "execution_count": null,
   "metadata": {},
   "outputs": [],
   "source": [
    "a = [\"4\", \"4.5\", \"5\", \"6.5\", \"7\"]\n",
    "b = [int(i) ** 2 for i in a]"
   ]
  },
  {
   "cell_type": "markdown",
   "metadata": {},
   "source": [
    "Результат: ошибка! Из `\"4.5\"` нельзя сделать целое число."
   ]
  },
  {
   "cell_type": "code",
   "execution_count": null,
   "metadata": {},
   "outputs": [],
   "source": [
    "a = [\"4\", \"4.5\", \"5\", \"6.5\", \"7\"]\n",
    "b = [str(int(a) ** 2) for i in a]"
   ]
  },
  {
   "cell_type": "markdown",
   "metadata": {},
   "source": [
    "Результат: ошибка! Из `\"4.5\"` нельзя сделать целое число."
   ]
  },
  {
   "cell_type": "code",
   "execution_count": null,
   "metadata": {},
   "outputs": [],
   "source": [
    "a = [\"4\", \"4.5\", \"5\", \"6.5\", \"7\"]\n",
    "b = [str(float(i) ** 2) for i in a]"
   ]
  },
  {
   "cell_type": "markdown",
   "metadata": {},
   "source": [
    "Результат: всё хорошо!"
   ]
  },
  {
   "cell_type": "code",
   "execution_count": null,
   "metadata": {},
   "outputs": [],
   "source": [
    "a = [\"4\", \"4.5\", \"5\", \"6.5\", \"7\"]\n",
    "b = [float(i) ** 2 for i in a]"
   ]
  },
  {
   "cell_type": "markdown",
   "metadata": {},
   "source": [
    "Результат: всё хорошо, но не хватает перевода в строку (`str()`)."
   ]
  },
  {
   "cell_type": "code",
   "execution_count": null,
   "metadata": {},
   "outputs": [],
   "source": [
    "a = [\"4\", \"4.5\", \"5\", \"6.5\", \"7\"]\n",
    "b = [str(int(i)) ** 2 for i in a]"
   ]
  },
  {
   "cell_type": "markdown",
   "metadata": {},
   "source": [
    "Результат: ошибка! Из `\"4.5\"` нельзя сделать целое число."
   ]
  },
  {
   "cell_type": "code",
   "execution_count": null,
   "metadata": {},
   "outputs": [],
   "source": [
    "a = [\"4\", \"4.5\", \"5\", \"6.5\", \"7\"]\n",
    "b = [str(float(i) * float(i)) for i in a]"
   ]
  },
  {
   "cell_type": "markdown",
   "metadata": {},
   "source": [
    "Результат: всё хорошо!"
   ]
  },
  {
   "cell_type": "markdown",
   "metadata": {},
   "source": [
    "2. Дан список слов. Создать новый список, где каждым элементом будет длина слова из первого списка.\n",
    "\n",
    "а) С помощью цикла `for`"
   ]
  },
  {
   "cell_type": "code",
   "execution_count": null,
   "metadata": {},
   "outputs": [],
   "source": [
    "words = [\"apple\", \"banana\", \"orange\", \"pear\", \"pineapple\"]\n",
    "word_lengths = []\n",
    "# короткоживущие переменные внутри циклов можно называть кратко\n",
    "for wd in words:\n",
    "    word_lengths.append(len(wd))\n",
    "print(word_lengths)"
   ]
  },
  {
   "cell_type": "markdown",
   "metadata": {},
   "source": [
    "б) с помощью list comprehension"
   ]
  },
  {
   "cell_type": "code",
   "execution_count": null,
   "metadata": {},
   "outputs": [],
   "source": [
    "words = [\"apple\", \"banana\", \"orange\", \"pear\", \"pineapple\"]\n",
    "word_lengths = [len(wd) for wd in words]"
   ]
  },
  {
   "cell_type": "markdown",
   "metadata": {},
   "source": [
    "3. Дана переменная, содержащая фамилию, и список, содержащий имена. Создать новый список, где каждым элементом будет полное имя (имя и фамилия)."
   ]
  },
  {
   "cell_type": "code",
   "execution_count": null,
   "metadata": {},
   "outputs": [],
   "source": [
    "lastname = \"Smith\"\n",
    "firstnames = [\"John\", \"Mary\", \"Peter\", \"Aerith\", \"Bob\"]\n",
    "# не забудем поставить между фамилией и именем пробел\n",
    "fullnames = [lastname + ' ' + firstname for firstname in firstnames]\n",
    "print(fullnames)"
   ]
  },
  {
   "cell_type": "markdown",
   "metadata": {},
   "source": [
    "4. Из списка полных имён создать новый, в котором будут только те, длина которых не превышает 10 символов."
   ]
  },
  {
   "cell_type": "code",
   "execution_count": null,
   "metadata": {},
   "outputs": [],
   "source": [
    "short_names = [fullname for fullname in fullnames if len(fullname) <= 10]\n",
    "print(short_names)"
   ]
  },
  {
   "cell_type": "markdown",
   "metadata": {},
   "source": [
    "5. Используя цикл `for`, вычислить суммарную длину всех имён."
   ]
  },
  {
   "cell_type": "code",
   "execution_count": null,
   "metadata": {},
   "outputs": [],
   "source": [
    "# заводим переменную-счётчик, которая изначально равна 0\n",
    "total_length = 0\n",
    "for name in fullnames:\n",
    "    # на каждом шаге прибавляем к нашему счётчику длину имени\n",
    "    total_length += len(name)\n",
    "    # эквивалентная запись: total_length = total_length + len(name)\n",
    "print(total_length)"
   ]
  },
  {
   "cell_type": "markdown",
   "metadata": {},
   "source": [
    "6. Написать программу, которая принимает на вход через `input()` целое число `n` и выводит на экран \"ёлочку\" из звёздочек высотой `n`."
   ]
  },
  {
   "cell_type": "markdown",
   "metadata": {},
   "source": [
    "```\n",
    "         *         \n",
    "        ***        \n",
    "       *****       \n",
    "      *******      \n",
    "     *********     \n",
    "    ***********    \n",
    "   *************   \n",
    "  ***************  \n",
    " ***************** \n",
    "*******************\n",
    "```"
   ]
  },
  {
   "cell_type": "markdown",
   "metadata": {},
   "source": [
    "Подсказка: чтобы получить строку из `n` одинаковых символов, достаточно умножить строку с этим символом на `n`."
   ]
  },
  {
   "cell_type": "code",
   "execution_count": null,
   "metadata": {},
   "outputs": [],
   "source": [
    "foo = \"0\" * 5\n",
    "print(foo)"
   ]
  },
  {
   "cell_type": "code",
   "execution_count": null,
   "metadata": {},
   "outputs": [],
   "source": [
    "n = int(input())\n",
    "for i in range(n):\n",
    "    num_spaces = n - 1 - i\n",
    "    num_stars = 2 * i + 1\n",
    "    print(' ' * num_spaces + '*' * num_stars)"
   ]
  },
  {
   "cell_type": "markdown",
   "metadata": {},
   "source": [
    "Посидите с ручкой и бумажкой и удостоверьтесь, что вы понимаете, почему количество пробелов и звёздочек в каждой строчке вычисляется именно по этим формулам. Не забудьте, что `range()` выдаёт числа, начиная с 0!"
   ]
  }
 ],
 "metadata": {
  "kernelspec": {
   "display_name": "Python 3",
   "language": "python",
   "name": "python3"
  },
  "language_info": {
   "codemirror_mode": {
    "name": "ipython",
    "version": 3
   },
   "file_extension": ".py",
   "mimetype": "text/x-python",
   "name": "python",
   "nbconvert_exporter": "python",
   "pygments_lexer": "ipython3",
   "version": "3.13.1"
  }
 },
 "nbformat": 4,
 "nbformat_minor": 2
}
