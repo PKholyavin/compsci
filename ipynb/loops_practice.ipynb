{
 "cells": [
  {
   "cell_type": "markdown",
   "metadata": {},
   "source": [
    "1. Задача: дан список строк, каждая из которых содержит число. Необходимо сгенерировать список, содержащий квадраты чисел в строковом представлении.\n",
    "\n",
    "Какой код это выполнит? (возможно более одного варианта ответа)"
   ]
  },
  {
   "cell_type": "code",
   "execution_count": null,
   "metadata": {},
   "outputs": [],
   "source": [
    "a = [\"4\", \"4.5\", \"5\", \"6.5\", \"7\"]\n",
    "b = [str(float(a ** 2))]"
   ]
  },
  {
   "cell_type": "code",
   "execution_count": null,
   "metadata": {},
   "outputs": [],
   "source": [
    "a = [\"4\", \"4.5\", \"5\", \"6.5\", \"7\"]\n",
    "b = [int(i) ** 2 for i in a]"
   ]
  },
  {
   "cell_type": "code",
   "execution_count": null,
   "metadata": {},
   "outputs": [],
   "source": [
    "a = [\"4\", \"4.5\", \"5\", \"6.5\", \"7\"]\n",
    "b = [str(int(a) ** 2) for i in a]"
   ]
  },
  {
   "cell_type": "code",
   "execution_count": null,
   "metadata": {},
   "outputs": [],
   "source": [
    "a = [\"4\", \"4.5\", \"5\", \"6.5\", \"7\"]\n",
    "b = [str(float(i) ** 2) for i in a]"
   ]
  },
  {
   "cell_type": "code",
   "execution_count": null,
   "metadata": {},
   "outputs": [],
   "source": [
    "a = [\"4\", \"4.5\", \"5\", \"6.5\", \"7\"]\n",
    "b = [float(i) ** 2 for i in a]"
   ]
  },
  {
   "cell_type": "code",
   "execution_count": null,
   "metadata": {},
   "outputs": [],
   "source": [
    "a = [\"4\", \"4.5\", \"5\", \"6.5\", \"7\"]\n",
    "b = [str(int(i)) ** 2 for i in a]"
   ]
  },
  {
   "cell_type": "code",
   "execution_count": null,
   "metadata": {},
   "outputs": [],
   "source": [
    "a = [\"4\", \"4.5\", \"5\", \"6.5\", \"7\"]\n",
    "b = [str(float(i) * float(i)) for i in a]"
   ]
  },
  {
   "cell_type": "markdown",
   "metadata": {},
   "source": [
    "2. Дан список слов. Создать новый список, где каждым элементом будет длина слова из первого списка.\n",
    "\n",
    "а) С помощью цикла `for`"
   ]
  },
  {
   "cell_type": "code",
   "execution_count": null,
   "metadata": {},
   "outputs": [],
   "source": [
    "words = [\"apple\", \"banana\", \"orange\", \"pear\", \"pineapple\"]"
   ]
  },
  {
   "cell_type": "markdown",
   "metadata": {},
   "source": [
    "б) с помощью list comprehension"
   ]
  },
  {
   "cell_type": "code",
   "execution_count": null,
   "metadata": {},
   "outputs": [],
   "source": [
    "words = [\"apple\", \"banana\", \"orange\", \"pear\", \"pineapple\"]"
   ]
  },
  {
   "cell_type": "markdown",
   "metadata": {},
   "source": [
    "3. Дана переменная, содержащая фамилию, и список, содержащий имена. Создать новый список, где каждым элементом будет полное имя (имя и фамилия)."
   ]
  },
  {
   "cell_type": "code",
   "execution_count": null,
   "metadata": {},
   "outputs": [],
   "source": [
    "lastname = \"Smith\"\n",
    "firstnames = [\"John\", \"Mary\", \"Peter\", \"Aerith\", \"Bob\"]"
   ]
  },
  {
   "cell_type": "markdown",
   "metadata": {},
   "source": [
    "4. Из списка полных имён создать новый, в котором будут только те, длина которых не превышает 10 символов."
   ]
  },
  {
   "cell_type": "code",
   "execution_count": null,
   "metadata": {},
   "outputs": [],
   "source": []
  },
  {
   "cell_type": "markdown",
   "metadata": {},
   "source": [
    "5. Используя цикл `for`, вычислить суммарную длину всех имён."
   ]
  },
  {
   "cell_type": "code",
   "execution_count": null,
   "metadata": {},
   "outputs": [],
   "source": []
  },
  {
   "cell_type": "markdown",
   "metadata": {},
   "source": [
    "6. Написать программу, которая принимает на вход через `input()` целое число `n` и выводит на экран \"ёлочку\" из звёздочек высотой `n`."
   ]
  },
  {
   "cell_type": "markdown",
   "metadata": {},
   "source": [
    "```\n",
    "         *         \n",
    "        ***        \n",
    "       *****       \n",
    "      *******      \n",
    "     *********     \n",
    "    ***********    \n",
    "   *************   \n",
    "  ***************  \n",
    " ***************** \n",
    "*******************\n",
    "```"
   ]
  },
  {
   "cell_type": "markdown",
   "metadata": {},
   "source": [
    "Подсказка: чтобы получить строку из `n` одинаковых символов, достаточно умножить строку с этим символом на `n`."
   ]
  },
  {
   "cell_type": "code",
   "execution_count": null,
   "metadata": {},
   "outputs": [],
   "source": [
    "foo = \"0\" * 5\n",
    "print(foo)"
   ]
  },
  {
   "cell_type": "code",
   "execution_count": null,
   "metadata": {},
   "outputs": [],
   "source": []
  },
  {
   "cell_type": "markdown",
   "metadata": {},
   "source": [
    "7. Дан список целых чисел. Создать новый список, в котором будут только числа, первая цифра которых &ndash; 8. Используйте list comprehension и преобразование чисел в строки (с помощью функции `str()`)"
   ]
  },
  {
   "cell_type": "code",
   "execution_count": null,
   "metadata": {},
   "outputs": [],
   "source": [
    "numbers = [85, 234, 48, 841, 3, 8, 902, 8563, 4, 0, 800000]"
   ]
  },
  {
   "cell_type": "markdown",
   "metadata": {},
   "source": [
    "Дано логическое выражение:\n",
    "\n",
    "$$ \\overline{A \\cdot B} + C $$\n",
    "\n",
    "С помощью вложенных циклов `for` постройте его таблицу истинности. Каждый цикл должен проходить две итерации: на первой переменная должна быть равна 0, на второй &ndash; 1."
   ]
  },
  {
   "cell_type": "code",
   "execution_count": null,
   "metadata": {},
   "outputs": [],
   "source": []
  },
  {
   "cell_type": "markdown",
   "metadata": {},
   "source": [
    "**Задание для самостоятельного выполнения:**  \n",
    "Найдите все решения логического уравнения\n",
    "\n",
    "$$ (A + B + C) \\cdot \\overline{B} \\cdot \\overline{C} \\cdot D = 1$$\n",
    "\n",
    "Для этого:\n",
    "1. Создайте пустой список solutions\n",
    "2. Задайте четыре вложенных цикла по переменным a, b, c и d.\n",
    "3. Для каждой комбинации a, b, c, d вычислите значение выражения\n",
    "4. Если выражение равно 1, добавьте в список solutions список [a, b, c, d].\n",
    "5. Выведите список solutions на экран."
   ]
  }
 ],
 "metadata": {
  "kernelspec": {
   "display_name": "Python 3",
   "language": "python",
   "name": "python3"
  },
  "language_info": {
   "codemirror_mode": {
    "name": "ipython",
    "version": 3
   },
   "file_extension": ".py",
   "mimetype": "text/x-python",
   "name": "python",
   "nbconvert_exporter": "python",
   "pygments_lexer": "ipython3",
   "version": "3.13.1"
  }
 },
 "nbformat": 4,
 "nbformat_minor": 2
}
