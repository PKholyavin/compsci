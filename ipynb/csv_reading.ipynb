{
 "cells": [
  {
   "cell_type": "markdown",
   "metadata": {},
   "source": [
    "### Чтение файлов .csv"
   ]
  },
  {
   "cell_type": "markdown",
   "metadata": {},
   "source": [
    "Самый простой способ хранения табличных данных &ndash; файлы .csv. По сути, это всё те же текстовые файлы. В каждой строке такого файла хранится одна строка таблицы, её ячейки разделены специальным символом-разделителем (delimiter). По умолчанию этот символ &ndash; запятая (именно поэтому формат называется .csv &ndash; comma-separated values). Если в роли разделителя выступает другой символ, могут использоваться другие расширения, например, .tsv (tab-separated values)."
   ]
  },
  {
   "cell_type": "markdown",
   "metadata": {},
   "source": [
    "**Задание для совместного выполнения:** напишем программу, которая открывает файл **work_types.csv** и строит словарь, в котором ключи &ndash; типы работ, а значения &ndash; соответствующие им веса оценок (в числовом представлении).\n",
    "\n",
    "https://pkholyavin.github.io/compsci/data/work_types.csv"
   ]
  },
  {
   "cell_type": "code",
   "execution_count": null,
   "metadata": {},
   "outputs": [],
   "source": [
    "!wget https://pkholyavin.github.io/compsci/data/work_types.csv"
   ]
  },
  {
   "cell_type": "code",
   "execution_count": null,
   "metadata": {},
   "outputs": [],
   "source": []
  },
  {
   "cell_type": "markdown",
   "metadata": {},
   "source": [
    "**Задание для совместного выполнения:** напишем программу, которая открывает файл **student_marks.csv** и строит список словарей, в которых ключи &ndash; названия столбцов, а значения &ndash; содержимое ячеек. Каждой строке таблицы должен соответствовать один словарь.\n",
    "\n",
    "Подсказка: вспомним функцию `zip()`, которая позволяет перебирать элементы двух последовательностей сразу.\n",
    "\n",
    "https://pkholyavin.github.io/compsci/data/student_marks.csv"
   ]
  },
  {
   "cell_type": "code",
   "execution_count": null,
   "metadata": {},
   "outputs": [],
   "source": [
    "!wget https://pkholyavin.github.io/compsci/data/student_marks.csv"
   ]
  },
  {
   "cell_type": "code",
   "execution_count": null,
   "metadata": {},
   "outputs": [],
   "source": []
  },
  {
   "cell_type": "markdown",
   "metadata": {},
   "source": [
    "### Сортировка: продвинутый уровень"
   ]
  },
  {
   "cell_type": "markdown",
   "metadata": {},
   "source": [
    "Чтобы задать сложный принцип сортировки, можно использовать т.н. лямбда-функции:"
   ]
  },
  {
   "cell_type": "code",
   "execution_count": 1,
   "metadata": {},
   "outputs": [
    {
     "name": "stdout",
     "output_type": "stream",
     "text": [
      "[3, 2, 1, 4, 6, 7]\n"
     ]
    }
   ],
   "source": [
    "a = [1, 3, 4, 2, 6, 7]\n",
    "print(sorted(a, key=lambda x: x ** 2 - 5 * x))"
   ]
  },
  {
   "cell_type": "markdown",
   "metadata": {},
   "source": [
    "Синтаксис такой:\n",
    "\n",
    "`key=lambda x: выражение с x, по которому будем сравнивать сортируемые элементы`"
   ]
  },
  {
   "cell_type": "code",
   "execution_count": 2,
   "metadata": {},
   "outputs": [
    {
     "name": "stdout",
     "output_type": "stream",
     "text": [
      "[['Jane', 24, 175], ['Jill', 22, 177], ['John', 20, 170]]\n",
      "[['John', 20, 170], ['Jill', 22, 177], ['Jane', 24, 175]]\n",
      "[['John', 20, 170], ['Jane', 24, 175], ['Jill', 22, 177]]\n"
     ]
    }
   ],
   "source": [
    "names = [\n",
    "    [\"John\", 20, 170], # имя, возраст, рост\n",
    "    [\"Jane\", 24, 175],\n",
    "    [\"Jill\", 22, 177],\n",
    "]\n",
    "print(sorted(names, key=lambda x: x[0])) # сортируем по имени\n",
    "print(sorted(names, key=lambda x: x[1])) # сортируем по возрасту\n",
    "print(sorted(names, key=lambda x: x[2])) # сортируем по росту"
   ]
  },
  {
   "cell_type": "markdown",
   "metadata": {},
   "source": [
    "Если табличные данные заданы как список словарей:"
   ]
  },
  {
   "cell_type": "code",
   "execution_count": 3,
   "metadata": {},
   "outputs": [
    {
     "name": "stdout",
     "output_type": "stream",
     "text": [
      "[{'name': 'Jane', 'age': 24, 'height': 175}, {'name': 'Jill', 'age': 22, 'height': 177}, {'name': 'John', 'age': 20, 'height': 170}]\n",
      "[{'name': 'John', 'age': 20, 'height': 170}, {'name': 'Jill', 'age': 22, 'height': 177}, {'name': 'Jane', 'age': 24, 'height': 175}]\n",
      "[{'name': 'John', 'age': 20, 'height': 170}, {'name': 'Jane', 'age': 24, 'height': 175}, {'name': 'Jill', 'age': 22, 'height': 177}]\n"
     ]
    }
   ],
   "source": [
    "names = [\n",
    "    {\"name\": \"John\", \"age\": 20, \"height\": 170},\n",
    "    {\"name\": \"Jane\", \"age\": 24, \"height\": 175},\n",
    "    {\"name\": \"Jill\", \"age\": 22, \"height\": 177},\n",
    "]\n",
    "print(sorted(names, key=lambda x: x[\"name\"]))\n",
    "print(sorted(names, key=lambda x: x[\"age\"]))\n",
    "print(sorted(names, key=lambda x: x[\"height\"]))"
   ]
  },
  {
   "cell_type": "markdown",
   "metadata": {},
   "source": [
    "Сортировка по двум параметрам (сначала по одному, потом по другому):"
   ]
  },
  {
   "cell_type": "code",
   "execution_count": 4,
   "metadata": {},
   "outputs": [
    {
     "name": "stdout",
     "output_type": "stream",
     "text": [
      "[{'name': 'John', 'age': 20, 'height': 170}, {'name': 'Jill', 'age': 22, 'height': 175}, {'name': 'Jack', 'age': 22, 'height': 177}, {'name': 'Jane', 'age': 24, 'height': 175}]\n"
     ]
    }
   ],
   "source": [
    "names = [\n",
    "    {\"name\": \"John\", \"age\": 20, \"height\": 170},\n",
    "    {\"name\": \"Jane\", \"age\": 24, \"height\": 175},\n",
    "    {\"name\": \"Jill\", \"age\": 22, \"height\": 175},\n",
    "    {\"name\": \"Jack\", \"age\": 22, \"height\": 177},\n",
    "]\n",
    "print(sorted(names, key=lambda x: (x[\"age\"], x[\"height\"])))"
   ]
  },
  {
   "cell_type": "code",
   "execution_count": 5,
   "metadata": {},
   "outputs": [
    {
     "name": "stdout",
     "output_type": "stream",
     "text": [
      "['word1', 'word2', 'word3', 'word4']\n",
      "['word3', 'word2', 'word4', 'word1']\n"
     ]
    }
   ],
   "source": [
    "word_frequencies = {\"word1\": 10, \"word2\": 4, \"word4\": 8, \"word3\": 3}\n",
    "print(sorted(word_frequencies))\n",
    "print(sorted(word_frequencies, key=lambda x: word_frequencies[x]))"
   ]
  },
  {
   "cell_type": "markdown",
   "metadata": {},
   "source": [
    "### Задания"
   ]
  },
  {
   "cell_type": "markdown",
   "metadata": {},
   "source": [
    "**Задания для самостоятельного выполнения:**\n",
    "\n",
    "1. Определите количество учеников в классе и составьте алфавитный список.\n",
    "\n",
    "2. Определите, для каких предметов есть данные об оценках.\n",
    "\n",
    "3. Для каждого ученика определите средний балл по каждому предмету.\n",
    "\n",
    "4. Улучшите данные о среднем балле, используя значения весов из первой таблицы.\n",
    "\n",
    "5. Найдите ученика с максимальным средним баллом по информатике."
   ]
  },
  {
   "cell_type": "code",
   "execution_count": null,
   "metadata": {},
   "outputs": [],
   "source": []
  },
  {
   "cell_type": "markdown",
   "metadata": {},
   "source": [
    "**Дополнительное задание:** файл **messages.csv** содержит данные о сообщениях в некотором чате. Доступна информация: имя пользователя, дата сообщения, количество слов. Найдите среднее, максимальное и минимальное количество слов в сообщениях каждого пользователя. Найдите пользователя с самым длинным сообщением, отправленным после 18:00.\n",
    "\n",
    "https://pkholyavin.github.io/compsci/data/messages.csv"
   ]
  },
  {
   "cell_type": "code",
   "execution_count": null,
   "metadata": {},
   "outputs": [],
   "source": [
    "!wget https://pkholyavin.github.io/compsci/data/messages.csv"
   ]
  }
 ],
 "metadata": {
  "kernelspec": {
   "display_name": "Python 3",
   "language": "python",
   "name": "python3"
  },
  "language_info": {
   "codemirror_mode": {
    "name": "ipython",
    "version": 3
   },
   "file_extension": ".py",
   "mimetype": "text/x-python",
   "name": "python",
   "nbconvert_exporter": "python",
   "pygments_lexer": "ipython3",
   "version": "3.13.1"
  }
 },
 "nbformat": 4,
 "nbformat_minor": 2
}
