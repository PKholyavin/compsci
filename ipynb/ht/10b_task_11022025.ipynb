{
 "cells": [
  {
   "cell_type": "markdown",
   "metadata": {},
   "source": [
    "### Разбор домашнего задания"
   ]
  },
  {
   "cell_type": "markdown",
   "metadata": {},
   "source": [
    "### Задание 1\n",
    "\n",
    "Дан список слов. Найдите все слова, в которых буквы “а” стоят только на чётных позициях."
   ]
  },
  {
   "cell_type": "code",
   "execution_count": 2,
   "metadata": {},
   "outputs": [
    {
     "name": "stdout",
     "output_type": "stream",
     "text": [
      "['собака', 'мама', 'парашют', 'табурет']\n"
     ]
    }
   ],
   "source": [
    "words = [\"собака\", \"арба\", \"карандаш\", \"мама\", \"стол\", \"парашют\", \"ананас\", \"табурет\", \"старатель\"]\n",
    "even_a_words = [w for w in words if \"а\" in w and w[::2].count(\"а\") == 0]\n",
    "print(even_a_words)"
   ]
  },
  {
   "cell_type": "markdown",
   "metadata": {},
   "source": [
    "*Комментарий: поскольку не указано, что именно понималось под позицией, иожно было понять её как индекс, а можно как \"человеческий\" номер (начинающийся с единицы).*"
   ]
  },
  {
   "cell_type": "markdown",
   "metadata": {},
   "source": [
    "Как **не будет** работать:"
   ]
  },
  {
   "cell_type": "code",
   "execution_count": 8,
   "metadata": {},
   "outputs": [
    {
     "name": "stdout",
     "output_type": "stream",
     "text": [
      "['собака', 'собака', 'арба', 'карандаш', 'карандаш', 'мама', 'мама', 'парашют', 'парашют', 'табурет']\n"
     ]
    }
   ],
   "source": [
    "words = [\"собака\", \"арба\", \"карандаш\", \"мама\", \"стол\", \"парашют\", \"ананас\", \"табурет\", \"старатель\"]\n",
    "\n",
    "result = [word for word in words for i, letter in enumerate(word, start=1) if letter == \"а\" and i % 2 == 0]\n",
    "\n",
    "print(result)"
   ]
  },
  {
   "cell_type": "markdown",
   "metadata": {},
   "source": [
    "Почему? Что происходит?\n",
    "\n",
    "У нас здесь **два** цикла!\n",
    "\n",
    "В первом мы перебираем все слова. Во втором мы перебираем все чётные буквы \"а\" в этом слове. Поэтому каждое слово выводится столько раз, сколько было букв \"а\" на чётных местах в этом слове.\n",
    "\n",
    "Эквивалент того, что написано, без list comprehension:"
   ]
  },
  {
   "cell_type": "code",
   "execution_count": 10,
   "metadata": {},
   "outputs": [
    {
     "name": "stdout",
     "output_type": "stream",
     "text": [
      "['собака', 'собака', 'арба', 'карандаш', 'карандаш', 'мама', 'мама', 'парашют', 'парашют', 'табурет']\n"
     ]
    }
   ],
   "source": [
    "words = [\"собака\", \"арба\", \"карандаш\", \"мама\", \"стол\", \"парашют\", \"ананас\", \"табурет\", \"старатель\"]\n",
    "\n",
    "result = []\n",
    "\n",
    "for word in words:\n",
    "    for i, letter in enumerate(word, start=1):\n",
    "        if letter == \"а\" and i % 2 == 0:\n",
    "            result.append(word)\n",
    "\n",
    "print(result)"
   ]
  },
  {
   "cell_type": "markdown",
   "metadata": {},
   "source": [
    "### Задание 2\n",
    "\n",
    "Определите сумму всех чисел от 1 до 1000, в которых есть цифры 7 или 8."
   ]
  },
  {
   "cell_type": "code",
   "execution_count": 3,
   "metadata": {},
   "outputs": [
    {
     "name": "stdout",
     "output_type": "stream",
     "text": [
      "286380\n"
     ]
    }
   ],
   "source": [
    "print(sum(i for i in range(1, 1001) if \"7\" in str(i) or \"8\" in str(i)))"
   ]
  },
  {
   "cell_type": "markdown",
   "metadata": {},
   "source": [
    "Как **не будет** работать:"
   ]
  },
  {
   "cell_type": "code",
   "execution_count": 5,
   "metadata": {},
   "outputs": [
    {
     "ename": "TypeError",
     "evalue": "argument of type 'int' is not iterable",
     "output_type": "error",
     "traceback": [
      "\u001b[1;31m---------------------------------------------------------------------------\u001b[0m",
      "\u001b[1;31mTypeError\u001b[0m                                 Traceback (most recent call last)",
      "Cell \u001b[1;32mIn[5], line 1\u001b[0m\n\u001b[1;32m----> 1\u001b[0m result \u001b[38;5;241m=\u001b[39m \u001b[38;5;28msum\u001b[39m([i \u001b[38;5;28;01mfor\u001b[39;00m i \u001b[38;5;129;01min\u001b[39;00m \u001b[38;5;28mrange\u001b[39m(\u001b[38;5;241m1\u001b[39m, \u001b[38;5;241m1001\u001b[39m) \u001b[38;5;28;01mif\u001b[39;00m \u001b[43m(\u001b[49m\u001b[38;5;241;43m7\u001b[39;49m\u001b[43m \u001b[49m\u001b[38;5;129;43;01mor\u001b[39;49;00m\u001b[43m \u001b[49m\u001b[38;5;241;43m8\u001b[39;49m\u001b[43m)\u001b[49m\u001b[43m \u001b[49m\u001b[38;5;129;43;01min\u001b[39;49;00m\u001b[43m \u001b[49m\u001b[43mi\u001b[49m])\n\u001b[0;32m      3\u001b[0m \u001b[38;5;28mprint\u001b[39m(result)\n",
      "\u001b[1;31mTypeError\u001b[0m: argument of type 'int' is not iterable"
     ]
    }
   ],
   "source": [
    "result = sum([i for i in range(1, 1001) if (7 or 8) in i])\n",
    "\n",
    "print(result)"
   ]
  },
  {
   "cell_type": "markdown",
   "metadata": {},
   "source": [
    "Что не так?\n",
    "1. Чтобы проверить, есть ли цифра в числе, придётся использовать оператор вхождения подстроки &ndash; то есть сделать перевод в строки! Исправим:"
   ]
  },
  {
   "cell_type": "code",
   "execution_count": 6,
   "metadata": {},
   "outputs": [
    {
     "name": "stdout",
     "output_type": "stream",
     "text": [
      "157842\n"
     ]
    }
   ],
   "source": [
    "result = sum([i for i in range(1, 1001) if (\"7\" or \"8\") in str(i)])\n",
    "\n",
    "print(result)"
   ]
  },
  {
   "cell_type": "markdown",
   "metadata": {},
   "source": [
    "2. Получилось не то число! Почему?\n",
    "\n",
    "У нас написано: считаем число, если выполняется условие `(\"7\" or \"8\") in str(i)`. То, что в скобках, всегда будет равно `7`. Поэтому на `8` мы не проверяем вообще!"
   ]
  },
  {
   "cell_type": "code",
   "execution_count": 7,
   "metadata": {},
   "outputs": [
    {
     "name": "stdout",
     "output_type": "stream",
     "text": [
      "286380\n"
     ]
    }
   ],
   "source": [
    "result = sum([i for i in range(1, 1001) if \"7\" in str(i) or \"8\" in str(i)])\n",
    "\n",
    "print(result)"
   ]
  },
  {
   "cell_type": "markdown",
   "metadata": {},
   "source": [
    "### Задание 3\n",
    "\n",
    "Напишите программу, которая:\n",
    "\n",
    "1. Принимает на вход три целых положительных числа\n",
    "2. Вычисляет их произведение, выводит его на экран\n",
    "3. Для каждой цифры от 0 до 9 определяет, есть ли она в этом числе, и, если есть, выводит на экран позицию, на которой она встретилась в первый раз. Например:\n",
    "\n",
    "Ввод:\n",
    "\n",
    "```\n",
    "121\n",
    "32\n",
    "56\n",
    "```\n",
    "\n",
    "Вывод:\n",
    "\n",
    "```\n",
    "216832\n",
    "0 не встречается\n",
    "1 2\n",
    "2 1\n",
    "3 5\n",
    "4 не встречается\n",
    "5 не встречается\n",
    "6 3\n",
    "7 не встречается\n",
    "8 4\n",
    "9 не встречается\n",
    "```"
   ]
  },
  {
   "cell_type": "code",
   "execution_count": 4,
   "metadata": {},
   "outputs": [
    {
     "name": "stdout",
     "output_type": "stream",
     "text": [
      "216832\n",
      "0 не встречается\n",
      "1 2\n",
      "2 1\n",
      "3 5\n",
      "4 не встречается\n",
      "5 не встречается\n",
      "6 3\n",
      "7 не встречается\n",
      "8 4\n",
      "9 не встречается\n"
     ]
    }
   ],
   "source": [
    "a = int(input())\n",
    "b = int(input())\n",
    "c = int(input())\n",
    "prod = str(a * b * c)\n",
    "print(prod)\n",
    "for d in \"0123456789\":\n",
    "    if d not in prod:\n",
    "        print(d, \"не встречается\")\n",
    "    else:\n",
    "        print(d, prod.index(d) + 1)"
   ]
  }
 ],
 "metadata": {
  "kernelspec": {
   "display_name": "Python 3",
   "language": "python",
   "name": "python3"
  },
  "language_info": {
   "codemirror_mode": {
    "name": "ipython",
    "version": 3
   },
   "file_extension": ".py",
   "mimetype": "text/x-python",
   "name": "python",
   "nbconvert_exporter": "python",
   "pygments_lexer": "ipython3",
   "version": "3.13.1"
  }
 },
 "nbformat": 4,
 "nbformat_minor": 2
}
