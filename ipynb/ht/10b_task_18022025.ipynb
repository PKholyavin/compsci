{
 "cells": [
  {
   "cell_type": "markdown",
   "metadata": {},
   "source": [
    "### Задание 1\n",
    "\n",
    "Дан текст. Разбейте текст на слова (убрав точки и запятые), найдите пять самых длинных слов и выведите на экран. Используйте срезы и сортировку."
   ]
  },
  {
   "cell_type": "code",
   "execution_count": 1,
   "metadata": {},
   "outputs": [
    {
     "name": "stdout",
     "output_type": "stream",
     "text": [
      "['reprehenderit', 'exercitation', 'consectetur', 'adipiscing', 'incididunt']\n"
     ]
    }
   ],
   "source": [
    "text = \"Lorem ipsum dolor sit amet, consectetur adipiscing elit, sed do eiusmod tempor incididunt ut labore et dolore magna aliqua. Ut enim ad minim veniam, quis nostrud exercitation ullamco laboris nisi ut aliquip ex ea commodo consequat. Duis aute irure dolor in reprehenderit in voluptate velit esse cillum dolore eu fugiat nulla pariatur. Excepteur sint occaecat cupidatat non proident, sunt in culpa qui officia deserunt mollit anim id est laborum.\"\n",
    "\n",
    "text = text.replace(\".\", \"\").replace(\",\", \"\")\n",
    "words = sorted(text.split(), key=len, reverse=True)\n",
    "print(words[:5])"
   ]
  },
  {
   "cell_type": "markdown",
   "metadata": {},
   "source": [
    "### Задание 2\n",
    "\n",
    "Напишите программу, которая принимает на вход слово на русском языке и заменяет в нём каждую букву на её номер в алфавите. Номера нужно вывести на экран, соединённые дефисом. Например: \"мама\" -> \"14-1-14-1\"\n",
    "\n",
    "Подсказка: создайте строку с алфавитом и используйте метод `.index()` или `.find()`."
   ]
  },
  {
   "cell_type": "code",
   "execution_count": 2,
   "metadata": {},
   "outputs": [
    {
     "name": "stdout",
     "output_type": "stream",
     "text": [
      "17-10-20-16-15\n"
     ]
    }
   ],
   "source": [
    "alphabet = \"абвгдеёжзийклмнопрстуфхцчшщъыьэюя\"\n",
    "\n",
    "word = input(\"Введите слово: \").lower()\n",
    "\n",
    "nums = [str(alphabet.index(c) + 1) for c in word if c in alphabet]\n",
    "print(\"-\".join(nums))"
   ]
  },
  {
   "cell_type": "markdown",
   "metadata": {},
   "source": [
    "### Задание 3\n",
    "\n",
    "Дан текст на русском языке. Определите количество слогов в каждом предложении (количество слогов определите по количеству гласных)."
   ]
  },
  {
   "cell_type": "code",
   "execution_count": 3,
   "metadata": {},
   "outputs": [
    {
     "name": "stdout",
     "output_type": "stream",
     "text": [
      "В предложении 1 7 слогов\n",
      "В предложении 2 8 слогов\n",
      "В предложении 3 31 слогов\n"
     ]
    }
   ],
   "source": [
    "text = \"Был тихий серый вечер. Дул ветер, слабый и теплый. Небо было покрыто тучами, сквозь которые иногда прорывались лучи заходящего солнца.\"\n",
    "\n",
    "vowels = \"аяоёуюыиэе\"\n",
    "sentences = text.split(\". \")\n",
    "for i, sent in enumerate(sentences):\n",
    "    syllables = sum(1 for i in sent if i.lower() in vowels)\n",
    "    print(f\"В предложении {i + 1} {syllables} слогов\")"
   ]
  }
 ],
 "metadata": {
  "kernelspec": {
   "display_name": "Python 3",
   "language": "python",
   "name": "python3"
  },
  "language_info": {
   "codemirror_mode": {
    "name": "ipython",
    "version": 3
   },
   "file_extension": ".py",
   "mimetype": "text/x-python",
   "name": "python",
   "nbconvert_exporter": "python",
   "pygments_lexer": "ipython3",
   "version": "3.13.1"
  }
 },
 "nbformat": 4,
 "nbformat_minor": 2
}
