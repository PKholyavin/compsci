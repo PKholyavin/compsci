{
 "cells": [
  {
   "cell_type": "markdown",
   "id": "0d7806a1",
   "metadata": {},
   "source": [
    "Дана переменная, содержащая список существительных. Создайте список предложений вида \"I found a {noun} today.\"\n",
    "\n",
    "Используйте list comprehension и сложение строк."
   ]
  },
  {
   "cell_type": "code",
   "execution_count": null,
   "id": "0c43b501",
   "metadata": {},
   "outputs": [],
   "source": [
    "words = [\n",
    "    \"television\",\n",
    "    \"refrigerator\",\n",
    "    \"calculator\",\n",
    "    \"thermostat\",\n",
    "    \"keyboard\",\n",
    "    \"toothbrush\",\n",
    "    \"microwave\",\n",
    "    \"flashlight\",\n",
    "    \"backpack\",\n",
    "    \"mirror\",\n",
    "    \"bottle\",\n",
    "    \"pillow\"\n",
    "]\n",
    "\n",
    "sentences = []"
   ]
  },
  {
   "cell_type": "markdown",
   "id": "1adf58e0",
   "metadata": {},
   "source": [
    "Вычислите среднюю длину предложения в списке."
   ]
  },
  {
   "cell_type": "code",
   "execution_count": null,
   "id": "1749eb32",
   "metadata": {},
   "outputs": [],
   "source": []
  },
  {
   "cell_type": "markdown",
   "id": "d6590f77",
   "metadata": {},
   "source": [
    "Составьте новый список, где будут только предложения, в которых больше 25 символов."
   ]
  },
  {
   "cell_type": "code",
   "execution_count": null,
   "id": "68708a66",
   "metadata": {},
   "outputs": [],
   "source": []
  }
 ],
 "metadata": {
  "kernelspec": {
   "display_name": "Python 3",
   "language": "python",
   "name": "python3"
  },
  "language_info": {
   "codemirror_mode": {
    "name": "ipython",
    "version": 3
   },
   "file_extension": ".py",
   "mimetype": "text/x-python",
   "name": "python",
   "nbconvert_exporter": "python",
   "pygments_lexer": "ipython3",
   "version": "3.13.2"
  }
 },
 "nbformat": 4,
 "nbformat_minor": 5
}
