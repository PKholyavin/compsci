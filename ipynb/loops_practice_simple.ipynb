{
 "cells": [
  {
   "cell_type": "markdown",
   "metadata": {},
   "source": [
    "### Практические задания на цикл for"
   ]
  },
  {
   "cell_type": "markdown",
   "metadata": {},
   "source": [
    "1. Пусть пользователь вводит с клавиатуры число N. Найти все его делители и вывести на экран.\n",
    "\n",
    "Идея: перебрать в цикле все числа от 1 до N. Если N делится на это число без остатка, вывести число на экран."
   ]
  },
  {
   "cell_type": "code",
   "execution_count": 1,
   "metadata": {},
   "outputs": [
    {
     "name": "stdout",
     "output_type": "stream",
     "text": [
      "1\n",
      "2\n",
      "3\n",
      "4\n",
      "6\n",
      "12\n"
     ]
    }
   ],
   "source": [
    "N = int(input(\"Введите число: \"))\n",
    "for d in range(1, N + 1):\n",
    "    if N % d == 0:\n",
    "        print(d)"
   ]
  },
  {
   "cell_type": "markdown",
   "metadata": {},
   "source": [
    "2. Выведите на экран все числа от 1 до 100 со следующими условиями:\n",
    "\n",
    "* если число является квадратом, вывести на экран слово Square\n",
    "* если число является кубом, вывести на экран слово Cube\n",
    "* если число является квадратом и кубом, вывести на экран слово SquareCube\n",
    "\n",
    "Как проверить, что число является квадратом? Нужно извлечь из него квадратный корень. Если он равен целой части от самого себя (используйте функцию `int()`), тогда это число &ndash; квадрат. Аналогично для куба.\n",
    "\n",
    "Чтобы извлечь квадратный и кубический корень, используйте функции `sqrt()` и `cbrt()` из модуля `math`."
   ]
  },
  {
   "cell_type": "code",
   "execution_count": null,
   "metadata": {},
   "outputs": [
    {
     "name": "stdout",
     "output_type": "stream",
     "text": [
      "SquareCube\n",
      "2\n",
      "3\n",
      "Square\n",
      "5\n",
      "6\n",
      "7\n",
      "Cube\n",
      "Square\n",
      "10\n",
      "11\n",
      "12\n",
      "13\n",
      "14\n",
      "15\n",
      "Square\n",
      "17\n",
      "18\n",
      "19\n",
      "20\n",
      "21\n",
      "22\n",
      "23\n",
      "24\n",
      "Square\n",
      "26\n",
      "Cube\n",
      "28\n",
      "29\n",
      "30\n",
      "31\n",
      "32\n",
      "33\n",
      "34\n",
      "35\n",
      "Square\n",
      "37\n",
      "38\n",
      "39\n",
      "40\n",
      "41\n",
      "42\n",
      "43\n",
      "44\n",
      "45\n",
      "46\n",
      "47\n",
      "48\n",
      "Square\n",
      "50\n",
      "51\n",
      "52\n",
      "53\n",
      "54\n",
      "55\n",
      "56\n",
      "57\n",
      "58\n",
      "59\n",
      "60\n",
      "61\n",
      "62\n",
      "63\n",
      "SquareCube\n",
      "65\n",
      "66\n",
      "67\n",
      "68\n",
      "69\n",
      "70\n",
      "71\n",
      "72\n",
      "73\n",
      "74\n",
      "75\n",
      "76\n",
      "77\n",
      "78\n",
      "79\n",
      "80\n",
      "Square\n",
      "82\n",
      "83\n",
      "84\n",
      "85\n",
      "86\n",
      "87\n",
      "88\n",
      "89\n",
      "90\n",
      "91\n",
      "92\n",
      "93\n",
      "94\n",
      "95\n",
      "96\n",
      "97\n",
      "98\n",
      "99\n",
      "Square\n"
     ]
    }
   ],
   "source": [
    "from math import sqrt, cbrt\n",
    "\n",
    "# переберём все числа от 1 до 100 с помощью range()\n",
    "for num in range(1, 101):\n",
    "    # заведём переменные, хранящие квадратный и кубический корень числа\n",
    "    square_root = sqrt(num)\n",
    "    cube_root = cbrt(num)\n",
    "    # если кубический корень равен своей целой части, то он целый и число\n",
    "    # было кубом\n",
    "    if cube_root == int(cube_root) and square_root == int(square_root):\n",
    "        print(\"SquareCube\")\n",
    "    elif cube_root == int(cube_root):\n",
    "        print(\"Cube\")\n",
    "    elif square_root == int(square_root):\n",
    "        print(\"Square\")\n",
    "    else:\n",
    "        print(num)"
   ]
  },
  {
   "cell_type": "markdown",
   "metadata": {},
   "source": [
    "3. Пусть пользователь вводит с клавиатуры строку. С помощью цикла `for` переберите все символы в этой строке и определите, совпадает ли количество открывающих и закрывающих скобок.\n",
    "\n",
    "Идея: до цикла заведём специальный счётчик, равный 0. Каждый раз, когда будем встречать символ `(`, будем увеличивать счётчик на 1, когда будем встречать `)` &ndash; уменьшать. Если после конца цикла счётчик равен 0, выведем текст \"Количество ( и ) совпадает\", если больше 0 &ndash; \"( больше, чем )\", если меньше 0 &ndash; \"( меньше, чем )\"."
   ]
  },
  {
   "cell_type": "code",
   "execution_count": null,
   "metadata": {},
   "outputs": [
    {
     "name": "stdout",
     "output_type": "stream",
     "text": [
      "( меньше, чем )\n"
     ]
    }
   ],
   "source": [
    "text = input(\"Введите текст: \")\n",
    "# заведём счётчик скобок - переменную, равную 0\n",
    "# будем увеличивать её на 1, когда встретим (\n",
    "# и вычитать 1, когда встретим )\n",
    "parenth_counter = 0\n",
    "for char in text:\n",
    "    if char == \"(\":\n",
    "        parenth_counter += 1\n",
    "    elif char == \")\":\n",
    "        parenth_counter -= 1\n",
    "\n",
    "if parenth_counter == 0:\n",
    "    print(\"Количество ( и ) совпадает\")\n",
    "elif parenth_counter > 0:\n",
    "    print(\"( больше, чем )\")\n",
    "else:\n",
    "    print(\"( меньше, чем )\")"
   ]
  },
  {
   "cell_type": "markdown",
   "metadata": {},
   "source": [
    "4. Пусть пользователь вводит с клавиатуры число. Определить сумму его цифр.\n",
    "\n",
    "Идея: завести переменную, в которой будем хранить сумму. С помощью цикла `for` перебрать все символы в строковом представлении числа, каждую цифру переделать в число с помощью `int()` и прибавить к переменной с суммой."
   ]
  },
  {
   "cell_type": "code",
   "execution_count": null,
   "metadata": {},
   "outputs": [
    {
     "name": "stdout",
     "output_type": "stream",
     "text": [
      "6\n"
     ]
    }
   ],
   "source": [
    "num_str = input(\"Введите число: \")\n",
    "sum_digits = 0\n",
    "# переберём все цифры в числе\n",
    "# мы можем это делать, т.к. не сделали int()\n",
    "# наше число - строка\n",
    "# его цифры - символы этой строки\n",
    "for digit in num_str:\n",
    "    # каждую цифру переделаем в int()\n",
    "    # и прибавим в сумму\n",
    "    sum_digits += int(digit)\n",
    "print(sum_digits)"
   ]
  }
 ],
 "metadata": {
  "kernelspec": {
   "display_name": "Python 3",
   "language": "python",
   "name": "python3"
  },
  "language_info": {
   "codemirror_mode": {
    "name": "ipython",
    "version": 3
   },
   "file_extension": ".py",
   "mimetype": "text/x-python",
   "name": "python",
   "nbconvert_exporter": "python",
   "pygments_lexer": "ipython3",
   "version": "3.13.1"
  }
 },
 "nbformat": 4,
 "nbformat_minor": 2
}
