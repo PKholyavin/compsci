{
 "cells": [
  {
   "cell_type": "markdown",
   "metadata": {},
   "source": [
    "1. Программа делит одно число на другое, если деление возможно. В противном случае выводится сообщение об ошибке."
   ]
  },
  {
   "cell_type": "code",
   "execution_count": null,
   "metadata": {},
   "outputs": [],
   "source": [
    "a = int(input(\"Введите число A: \"))\n",
    "b = int(input(\"Введите число B: \"))\n",
    "if b == 0:\n",
    "    print(\"Ошибка! Делить на 0 нельзя\")\n",
    "else:\n",
    "    print(a / b)"
   ]
  },
  {
   "cell_type": "markdown",
   "metadata": {},
   "source": [
    "2. Пользователь вводит цену товара и процент скидки. Программа должна вычислить итоговую стоимость товара после применения скидки."
   ]
  },
  {
   "cell_type": "code",
   "execution_count": null,
   "metadata": {},
   "outputs": [],
   "source": [
    "price = float(input(\"Введите цену: \"))\n",
    "discount = float(input(\"Введите скидку: \"))\n",
    "reduced_price = price * (1 - discount / 100)\n",
    "print(reduced_price)"
   ]
  },
  {
   "cell_type": "markdown",
   "metadata": {},
   "source": [
    "3. Запрашивается координата точки (x, y). Программа определяет, в какой четверти она находится (или на оси)."
   ]
  },
  {
   "cell_type": "code",
   "execution_count": null,
   "metadata": {},
   "outputs": [],
   "source": [
    "x = float(input(\"Введите координату X: \"))\n",
    "y = float(input(\"Введите координату Y: \"))\n",
    "if x > 0 and y > 0:\n",
    "    print(\"I четверть\")\n",
    "elif x < 0 and y > 0:\n",
    "    print(\"II четверть\")\n",
    "elif x < 0 and y < 0:\n",
    "    print(\"III четверть\")\n",
    "elif x > 0 and y < 0:\n",
    "    print(\"IV четверть\")\n",
    "elif x == 0 and y != 0:\n",
    "    print(\"Ось Y\")\n",
    "elif x != 0 and y == 0:\n",
    "    print(\"Ось X\")\n",
    "elif x == 0 and y == 0:\n",
    "    print(\"Начало координат\")\n"
   ]
  },
  {
   "cell_type": "markdown",
   "metadata": {},
   "source": [
    "4. Пользователь вводит длины трёх сторон треугольника. Программа классифицирует его как равносторонний, равнобедренный или разносторонний."
   ]
  },
  {
   "cell_type": "code",
   "execution_count": null,
   "metadata": {},
   "outputs": [],
   "source": [
    "a = float(input(\"Сторона A: \"))\n",
    "b = float(input(\"Сторона B: \"))\n",
    "c = float(input(\"Сторона C: \"))\n",
    "if a == b == c:\n",
    "    print(\"Треугольник равносторонний\")\n",
    "elif a == b or a == c or b == c:\n",
    "    print(\"Треугольник равнобедренный\")\n",
    "else:\n",
    "    print(\"Треугольник равносторонний\")"
   ]
  }
 ],
 "metadata": {
  "kernelspec": {
   "display_name": "Python 3",
   "language": "python",
   "name": "python3"
  },
  "language_info": {
   "codemirror_mode": {
    "name": "ipython",
    "version": 3
   },
   "file_extension": ".py",
   "mimetype": "text/x-python",
   "name": "python",
   "nbconvert_exporter": "python",
   "pygments_lexer": "ipython3",
   "version": "3.13.1"
  }
 },
 "nbformat": 4,
 "nbformat_minor": 2
}
