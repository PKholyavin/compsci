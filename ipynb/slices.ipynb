{
 "cells": [
  {
   "cell_type": "markdown",
   "metadata": {},
   "source": [
    "### Срезы (slice)\n",
    "\n",
    "Мы помним, что к интересующему нас элементу списка можно обратиться по индексу:"
   ]
  },
  {
   "cell_type": "code",
   "execution_count": 6,
   "metadata": {},
   "outputs": [
    {
     "name": "stdout",
     "output_type": "stream",
     "text": [
      "0.2\n",
      "0.9\n"
     ]
    }
   ],
   "source": [
    "a = [0.1, 0.2, 0.3, 0.4, 0.5, 0.6, 0.7, 0.8, 0.9, 1]\n",
    "print(a[1]) # второй с начала\n",
    "print(a[-2]) # второй с конца"
   ]
  },
  {
   "cell_type": "markdown",
   "metadata": {},
   "source": [
    "Кроме этого, мы можем получать подпоследовательности элементов (они будут новыми списками):"
   ]
  },
  {
   "cell_type": "code",
   "execution_count": null,
   "metadata": {},
   "outputs": [
    {
     "name": "stdout",
     "output_type": "stream",
     "text": [
      "[0.1, 0.2, 0.3, 0.4, 0.5, 0.6, 0.7, 0.8]\n",
      "[0.2, 0.3, 0.4, 0.5, 0.6, 0.7, 0.8, 0.9, 1]\n",
      "[0.2, 0.3, 0.4, 0.5, 0.6, 0.7, 0.8]\n"
     ]
    }
   ],
   "source": [
    "print(a[:-2])  # все до второго с конца (не включая)\n",
    "print(a[1:])  # все, начиная с первого с начала\n",
    "print(a[1:-2])  # все, начиная с первого с начала и до второго с конца\n",
    "# (не включая)"
   ]
  },
  {
   "cell_type": "code",
   "execution_count": null,
   "metadata": {},
   "outputs": [
    {
     "name": "stdout",
     "output_type": "stream",
     "text": [
      "[0.2, 0.4, 0.6, 0.8, 1]\n",
      "[0.1, 0.3, 0.5, 0.7]\n",
      "[0.2, 0.4, 0.6, 0.8]\n"
     ]
    }
   ],
   "source": [
    "print(a[1::2]) # все, начиная с первого с начала и до самого конца\n",
    "# но берём каждый второй\n",
    "print(a[:-2:2]) # все до второго с конца (не включая)\n",
    "# но берём каждый второй\n",
    "print(a[1:-2:2]) # все, начиная с первого с начала и до второго с конца\n",
    "# (не включая)\n",
    "# но берём каждый второй"
   ]
  },
  {
   "cell_type": "markdown",
   "metadata": {},
   "source": [
    "Общий синтаксис такой:\n",
    "```\n",
    "a[start:]\n",
    "a[:stop]\n",
    "a[start:stop]\n",
    "a[::step]\n",
    "a[start::step]\n",
    "a[:stop:step]\n",
    "a[start:stop:step]\n",
    "```"
   ]
  },
  {
   "cell_type": "markdown",
   "metadata": {},
   "source": [
    "Можно задать отрицательный шаг: тогда будем двигаться в обратную сторону!"
   ]
  },
  {
   "cell_type": "code",
   "execution_count": 9,
   "metadata": {},
   "outputs": [
    {
     "name": "stdout",
     "output_type": "stream",
     "text": [
      "[1, 0.9, 0.8, 0.7, 0.6, 0.5, 0.4, 0.3, 0.2, 0.1]\n"
     ]
    }
   ],
   "source": [
    "print(a[::-1])"
   ]
  },
  {
   "cell_type": "markdown",
   "metadata": {},
   "source": [
    "**Задание**: используя функцию `range()` и list comprehension, постройте список всех целых чисел от 1 до 100. Затем сделайте из него новый список, в котором будут все числа от 7 до 84 с шагом 3."
   ]
  },
  {
   "cell_type": "code",
   "execution_count": null,
   "metadata": {},
   "outputs": [
    {
     "name": "stdout",
     "output_type": "stream",
     "text": [
      "[7, 10, 13, 16, 19, 22, 25, 28, 31, 34, 37, 40, 43, 46, 49, 52, 55, 58, 61, 64, 67, 70, 73, 76, 79, 82]\n"
     ]
    }
   ],
   "source": [
    "# решение\n",
    "newlist = [i for i in range(1, 101)]\n",
    "newlist_2 = newlist[6:84:3]  # помните, что индексация начинается с 0!\n",
    "print(newlist_2)"
   ]
  },
  {
   "cell_type": "markdown",
   "metadata": {},
   "source": [
    "**Задание**: в землю вбито N колышков. Координаты колышков хранятся в списке `stakes`. Создать новый список, в котором будут храниться расстояния между каждой парой соседних колышков.\n",
    "\n",
    "Подсказка: используйте функцию `zip()`, которая позволяет итерировать по двум (или более) спискам сразу:"
   ]
  },
  {
   "cell_type": "code",
   "execution_count": 10,
   "metadata": {},
   "outputs": [
    {
     "name": "stdout",
     "output_type": "stream",
     "text": [
      "1 5\n",
      "2 6\n",
      "3 7\n",
      "4 8\n",
      "5 9\n"
     ]
    }
   ],
   "source": [
    "list_a = [1, 2, 3, 4, 5]\n",
    "list_b = [5, 6, 7, 8, 9]\n",
    "for i, j in zip(list_a, list_b):\n",
    "    print(i, j)"
   ]
  },
  {
   "cell_type": "markdown",
   "metadata": {},
   "source": [
    "Если списки неравной длины, то цикл закончится, когда закончится более короткий список:"
   ]
  },
  {
   "cell_type": "code",
   "execution_count": 11,
   "metadata": {},
   "outputs": [
    {
     "name": "stdout",
     "output_type": "stream",
     "text": [
      "1 5\n",
      "2 6\n",
      "3 7\n",
      "4 8\n",
      "5 9\n"
     ]
    }
   ],
   "source": [
    "list_a = [1, 2, 3, 4, 5, 6, 7, 8]\n",
    "list_b = [5, 6, 7, 8, 9]\n",
    "for i, j in zip(list_a, list_b):\n",
    "    print(i, j)"
   ]
  },
  {
   "cell_type": "markdown",
   "metadata": {},
   "source": [
    "Чтобы перебрать объекты попарно (первый и второй, второй и третий, третий и четвёртый, ...), какой должен быть первый список в `zip()`, а какой второй?"
   ]
  },
  {
   "cell_type": "code",
   "execution_count": 3,
   "metadata": {},
   "outputs": [
    {
     "name": "stdout",
     "output_type": "stream",
     "text": [
      "[0.76, 0.68, 0.5, 0.9500000000000002, 0.7899999999999996, 0.4600000000000004]\n"
     ]
    }
   ],
   "source": [
    "stakes = [0.1, 0.86, 1.54, 2.04, 2.99, 3.78, 4.24]\n",
    "# решение:\n",
    "distances = [j - i for i, j in zip(stakes, stakes[1:])]\n",
    "print(distances)"
   ]
  },
  {
   "cell_type": "markdown",
   "metadata": {},
   "source": [
    "Те же самые операции можно проводить и со строками.\n",
    "\n",
    "**Задание**: дана последовательность букв. Создайте новую строку, в которой будет каждая четвёртая буква из старой, начиная с четвёртой."
   ]
  },
  {
   "cell_type": "code",
   "execution_count": 5,
   "metadata": {},
   "outputs": [
    {
     "name": "stdout",
     "output_type": "stream",
     "text": [
      "helloworld\n"
     ]
    }
   ],
   "source": [
    "text = \"lorhmipeumdllorlitaoetcwnseotetrradlpisding\"\n",
    "# решение\n",
    "newtext = text[3::4]\n",
    "print(newtext)"
   ]
  },
  {
   "cell_type": "markdown",
   "metadata": {},
   "source": [
    "**Задание**: дан список строк. Постройте новый список, в котором будут все те же строки, но написанные задом наперёд."
   ]
  },
  {
   "cell_type": "code",
   "execution_count": 6,
   "metadata": {},
   "outputs": [
    {
     "name": "stdout",
     "output_type": "stream",
     "text": [
      "['variable', 'iteration', 'list', 'python']\n"
     ]
    }
   ],
   "source": [
    "words = [\"elbairav\", \"noitareti\", \"tsil\", \"nohtyp\"]\n",
    "# решение\n",
    "reversed_words = [w[::-1] for w in words]\n",
    "print(reversed_words)"
   ]
  },
  {
   "cell_type": "markdown",
   "metadata": {},
   "source": [
    "**Задание**: дана строка. Определите количество случаев, когда на двух соседних позициях стоят одинаковые символы."
   ]
  },
  {
   "cell_type": "code",
   "execution_count": 7,
   "metadata": {},
   "outputs": [
    {
     "name": "stdout",
     "output_type": "stream",
     "text": [
      "4\n"
     ]
    }
   ],
   "source": [
    "text = \"aecddaffedbbdfaccac\"\n",
    "answer = len([i for i, j in zip(text, text[1:]) if i == j])\n",
    "print(answer)"
   ]
  }
 ],
 "metadata": {
  "kernelspec": {
   "display_name": "Python 3",
   "language": "python",
   "name": "python3"
  },
  "language_info": {
   "codemirror_mode": {
    "name": "ipython",
    "version": 3
   },
   "file_extension": ".py",
   "mimetype": "text/x-python",
   "name": "python",
   "nbconvert_exporter": "python",
   "pygments_lexer": "ipython3",
   "version": "3.13.1"
  }
 },
 "nbformat": 4,
 "nbformat_minor": 2
}
