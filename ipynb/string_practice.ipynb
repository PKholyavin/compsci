{
  "cells": [
    {
      "cell_type": "markdown",
      "metadata": {
        "id": "bGOiXAIfQBjk"
      },
      "source": [
        "### Работа со строками"
      ]
    },
    {
      "cell_type": "markdown",
      "metadata": {
        "id": "8yBw6vr0QKZA"
      },
      "source": [
        "Задание 1. Напишите программу, которая принимает на вход строку и определяет, является ли она палиндромом. Используйте срезы."
      ]
    },
    {
      "cell_type": "code",
      "execution_count": null,
      "metadata": {
        "id": "Jq4j3-UMQIS3"
      },
      "outputs": [],
      "source": [
        "word = input()\n",
        "if word == word[::-1]:\n",
        "    print(f\"{word} is a palindrome\")\n",
        "else:\n",
        "    print(f\"{word} is not a palindrome\")"
      ]
    },
    {
      "cell_type": "markdown",
      "metadata": {
        "id": "R49gNom1QTPg"
      },
      "source": [
        "Задание 2. Напишите программу, которая принимает на вход две строки и определяет, являются ли они анаграммами друг друга. Используйте сортировку."
      ]
    },
    {
      "cell_type": "code",
      "execution_count": null,
      "metadata": {
        "id": "13XGqlk3P7_a"
      },
      "outputs": [],
      "source": [
        "word_1 = input()\n",
        "word_2 = input()\n",
        "if sorted(word_1) == sorted(word_2):\n",
        "    print(f\"{word_1} and {word_2} are anagams\")\n",
        "else:\n",
        "    print(f\"{word_1} and {word_2} are not anagams\")"
      ]
    },
    {
      "cell_type": "markdown",
      "metadata": {
        "id": "U86lu-XKQcnh"
      },
      "source": [
        "Задание 3*. Напишите программу, которая принимает на вход две строки и определяет, можно ли вторую составить из букв первой (необязательно всех). Используйте метод .count()."
      ]
    },
    {
      "cell_type": "code",
      "execution_count": 1,
      "metadata": {
        "id": "6CCHXA1mQreF"
      },
      "outputs": [
        {
          "name": "stdout",
          "output_type": "stream",
          "text": [
            "You can make тариф from электрификация\n"
          ]
        }
      ],
      "source": [
        "word_long = input()\n",
        "word_short = input()\n",
        "for letter in word_short:\n",
        "    if word_long.count(letter) < word_short.count(letter):\n",
        "        print(f\"You can't make {word_short} from {word_long}\")\n",
        "        break\n",
        "else:\n",
        "    print(f\"You can make {word_short} from {word_long}\")"
      ]
    },
    {
      "cell_type": "markdown",
      "metadata": {
        "id": "gA-92fKOQr0S"
      },
      "source": [
        "Задание 4. Дан результат распознавания рукописных чисел. Не все цифры распознались корректно:\n",
        "* Цифра 1 могла распознаться как символы `I`, `l`, `|`.\n",
        "* Цифра 0 могла распознаться как символ `O`.\n",
        "\n",
        "Определите сумму чисел. Используйте метод .replace()."
      ]
    },
    {
      "cell_type": "code",
      "execution_count": 2,
      "metadata": {
        "id": "hu5u3hFFRChb"
      },
      "outputs": [
        {
          "name": "stdout",
          "output_type": "stream",
          "text": [
            "3939\n"
          ]
        }
      ],
      "source": [
        "text = \"I23 lO 671 9O4 56| 8I2 348 5IO\"\n",
        "\n",
        "for d in \"Il|\":\n",
        "    text = text.replace(d, \"1\")\n",
        "text = text.replace(\"O\", \"0\")\n",
        "print(sum(int(i) for i in text.split()))"
      ]
    },
    {
      "cell_type": "markdown",
      "metadata": {
        "id": "lFqrR6RLRQwV"
      },
      "source": [
        "Задание 5. Дан текст с числами, разделёнными дефисами и пробелами. Написать код, который выводит все числа в возрастающем порядке. Используйте сортировку.\n"
      ]
    },
    {
      "cell_type": "code",
      "execution_count": 3,
      "metadata": {
        "id": "lGmk4EfQRsYd"
      },
      "outputs": [
        {
          "name": "stdout",
          "output_type": "stream",
          "text": [
            "[0, 1, 1, 1, 2, 2, 3, 3, 3, 4, 4, 5, 5, 6, 8, 8, 10, 12, 30, 31, 31, 32, 32, 32, 34, 34, 36, 43, 45, 54, 62, 123, 234, 342, 535, 998, 13789]\n"
          ]
        }
      ],
      "source": [
        "text = [\n",
        "    \"8-32 4-535-6 10-3 3 30-31-8 32-2 3 5\\n\",\n",
        "    \"342-12 13789 43 234 04-34 2-1-1-0\\n\",\n",
        "    \"32-5-31-45-1 34 36 54-123-62-998\\n\",\n",
        "]\n",
        "\n",
        "all_nums = []\n",
        "for line in text:\n",
        "    line = line.replace(\"-\", \" \").strip().split()\n",
        "    all_nums += [int(i) for i in line]\n",
        "print(sorted(all_nums))"
      ]
    },
    {
      "cell_type": "markdown",
      "metadata": {
        "id": "QcVPYEd-S2Wp"
      },
      "source": [
        "Задание 6. Дан текст на латинском алфавите. Провести с ним следующие изменения (каждое изменение производится с изначальным текстом):\n",
        "\n",
        "* привести весь текст к нижнему регистру, убрать точки и запятые, заменить все буквы \"o\" на цифры \"0\".\n",
        "* привести весь текст к верхнему регистру, заменить все буквы \"A\", \"I\" и \"E\" на цифры \"4\", \"1\" и \"3\" соответственно.\n",
        "* сделать так, чтобы каждое слово начиналось с заглавной буквы (используйте .split())\n",
        "* удвоить каждую гласную букву (используйте цикл)."
      ]
    },
    {
      "cell_type": "code",
      "execution_count": 4,
      "metadata": {
        "id": "NX549SlcSsMJ"
      },
      "outputs": [
        {
          "name": "stdout",
          "output_type": "stream",
          "text": [
            "l0rem ipsum d0l0r sit amet c0nsectetur adipiscing elit sed d0 eiusm0d temp0r incididunt ut lab0re et d0l0re magna aliqua ut enim ad minim veniam quis n0strud exercitati0n ullamc0 lab0ris nisi ut aliquip ex ea c0mm0d0 c0nsequat duis aute irure d0l0r in reprehenderit in v0luptate velit esse cillum d0l0re eu fugiat nulla pariatur excepteur sint 0ccaecat cupidatat n0n pr0ident sunt in culpa qui 0fficia deserunt m0llit anim id est lab0rum\n"
          ]
        }
      ],
      "source": [
        "text = \"Lorem ipsum dolor sit amet, consectetur adipiscing elit, sed do eiusmod tempor incididunt ut labore et dolore magna aliqua. Ut enim ad minim veniam, quis nostrud exercitation ullamco laboris nisi ut aliquip ex ea commodo consequat. Duis aute irure dolor in reprehenderit in voluptate velit esse cillum dolore eu fugiat nulla pariatur. Excepteur sint occaecat cupidatat non proident, sunt in culpa qui officia deserunt mollit anim id est laborum.\"\n",
        "\n",
        "textA = text.lower()\n",
        "for i in \",.\":\n",
        "    textA = textA.replace(i, \"\")\n",
        "textA = textA.replace(\"o\", \"0\")\n",
        "print(textA)"
      ]
    },
    {
      "cell_type": "code",
      "execution_count": 5,
      "metadata": {},
      "outputs": [
        {
          "name": "stdout",
          "output_type": "stream",
          "text": [
            "LOR3M 1PSUM DOLOR S1T 4M3T, CONS3CT3TUR 4D1P1SC1NG 3L1T, S3D DO 31USMOD T3MPOR 1NC1D1DUNT UT L4BOR3 3T DOLOR3 M4GN4 4L1QU4. UT 3N1M 4D M1N1M V3N14M, QU1S NOSTRUD 3X3RC1T4T1ON ULL4MCO L4BOR1S N1S1 UT 4L1QU1P 3X 34 COMMODO CONS3QU4T. DU1S 4UT3 1RUR3 DOLOR 1N R3PR3H3ND3R1T 1N VOLUPT4T3 V3L1T 3SS3 C1LLUM DOLOR3 3U FUG14T NULL4 P4R14TUR. 3XC3PT3UR S1NT OCC43C4T CUP1D4T4T NON PRO1D3NT, SUNT 1N CULP4 QU1 OFF1C14 D3S3RUNT MOLL1T 4N1M 1D 3ST L4BORUM.\n"
          ]
        }
      ],
      "source": [
        "textB = text.upper()\n",
        "for a, b in zip(\"AIE\", \"413\"):\n",
        "    textB = textB.replace(a, b)\n",
        "print(textB)"
      ]
    },
    {
      "cell_type": "code",
      "execution_count": 6,
      "metadata": {},
      "outputs": [
        {
          "name": "stdout",
          "output_type": "stream",
          "text": [
            "Lorem Ipsum Dolor Sit Amet, Consectetur Adipiscing Elit, Sed Do Eiusmod Tempor Incididunt Ut Labore Et Dolore Magna Aliqua. Ut Enim Ad Minim Veniam, Quis Nostrud Exercitation Ullamco Laboris Nisi Ut Aliquip Ex Ea Commodo Consequat. Duis Aute Irure Dolor In Reprehenderit In Voluptate Velit Esse Cillum Dolore Eu Fugiat Nulla Pariatur. Excepteur Sint Occaecat Cupidatat Non Proident, Sunt In Culpa Qui Officia Deserunt Mollit Anim Id Est Laborum.\n"
          ]
        }
      ],
      "source": [
        "wordsC = text.split()\n",
        "wordsC = [i.capitalize() for i in wordsC]\n",
        "textC = \" \".join(wordsC)\n",
        "print(textC)"
      ]
    },
    {
      "cell_type": "code",
      "execution_count": 7,
      "metadata": {},
      "outputs": [
        {
          "name": "stdout",
          "output_type": "stream",
          "text": [
            "Looreem iipsuum dooloor siit aameet, coonseecteetuur aadiipiisciing eeliit, seed doo eeiiuusmood teempoor iinciidiiduunt uut laabooree eet doolooree maagnaa aaliiquuaa. Ut eeniim aad miiniim veeniiaam, quuiis noostruud eexeerciitaatiioon uullaamcoo laabooriis niisii uut aaliiquuiip eex eeaa coommoodoo coonseequuaat. Duuiis aauutee iiruuree dooloor iin reepreeheendeeriit iin vooluuptaatee veeliit eessee ciilluum doolooree eeuu fuugiiaat nuullaa paariiaatuur. Exceepteeuur siint ooccaaeecaat cuupiidaataat noon prooiideent, suunt iin cuulpaa quuii ooffiiciiaa deeseeruunt moolliit aaniim iid eest laabooruum.\n"
          ]
        }
      ],
      "source": [
        "vowels = \"aeiouy\"\n",
        "textD = text\n",
        "for v in vowels:\n",
        "    textD = textD.replace(v, v + v)\n",
        "print(textD)"
      ]
    },
    {
      "cell_type": "markdown",
      "metadata": {},
      "source": [
        "### Домашнее задание"
      ]
    },
    {
      "cell_type": "markdown",
      "metadata": {
        "id": "_HVyWJXvS9vS"
      },
      "source": [
        "Задание 7. Дан текст. Разбейте текст на слова (убрав точки и запятые), найдите пять самых длинных слов и выведите на экран. Используйте срезы и сортировку."
      ]
    },
    {
      "cell_type": "code",
      "execution_count": null,
      "metadata": {
        "id": "7CWVsHZITS9i"
      },
      "outputs": [],
      "source": [
        "text = \"Lorem ipsum dolor sit amet, consectetur adipiscing elit, sed do eiusmod tempor incididunt ut labore et dolore magna aliqua. Ut enim ad minim veniam, quis nostrud exercitation ullamco laboris nisi ut aliquip ex ea commodo consequat. Duis aute irure dolor in reprehenderit in voluptate velit esse cillum dolore eu fugiat nulla pariatur. Excepteur sint occaecat cupidatat non proident, sunt in culpa qui officia deserunt mollit anim id est laborum.\""
      ]
    },
    {
      "cell_type": "markdown",
      "metadata": {
        "id": "McVv8vMQThp3"
      },
      "source": [
        "Задание 8. Напишите программу, которая принимает на вход слово на русском языке и заменяет в нём каждую букву на её номер в алфавите. Номера нужно вывести на экран, соединённые дефисом. Например: \"мама\" -> \"14-1-14-1\"\n",
        "\n",
        "Подсказка: создайте строку с алфавитом и используйте метод .index() или .find()."
      ]
    },
    {
      "cell_type": "code",
      "execution_count": null,
      "metadata": {
        "id": "VKw-yG7qTUdo"
      },
      "outputs": [],
      "source": []
    },
    {
      "cell_type": "markdown",
      "metadata": {
        "id": "CnHVFccAUEj2"
      },
      "source": [
        "Задание 9. Дан текст на русском языке. Определите количество слогов в каждом предложении (количество слогов определите по количеству гласных)."
      ]
    },
    {
      "cell_type": "code",
      "execution_count": null,
      "metadata": {
        "id": "MyoS3nYtUD_K"
      },
      "outputs": [],
      "source": [
        "text = \"Был тихий серый вечер. Дул ветер, слабый и теплый. Небо было покрыто тучами, сквозь которые иногда прорывались лучи заходящего солнца.\""
      ]
    }
  ],
  "metadata": {
    "colab": {
      "provenance": []
    },
    "kernelspec": {
      "display_name": "Python 3",
      "name": "python3"
    },
    "language_info": {
      "codemirror_mode": {
        "name": "ipython",
        "version": 3
      },
      "file_extension": ".py",
      "mimetype": "text/x-python",
      "name": "python",
      "nbconvert_exporter": "python",
      "pygments_lexer": "ipython3",
      "version": "3.13.1"
    }
  },
  "nbformat": 4,
  "nbformat_minor": 0
}
