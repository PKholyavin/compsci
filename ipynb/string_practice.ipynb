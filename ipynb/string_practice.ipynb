{
  "nbformat": 4,
  "nbformat_minor": 0,
  "metadata": {
    "colab": {
      "provenance": []
    },
    "kernelspec": {
      "name": "python3",
      "display_name": "Python 3"
    },
    "language_info": {
      "name": "python"
    }
  },
  "cells": [
    {
      "cell_type": "markdown",
      "source": [
        "### Работа со строками"
      ],
      "metadata": {
        "id": "bGOiXAIfQBjk"
      }
    },
    {
      "cell_type": "markdown",
      "source": [
        "Задание 1. Напишите программу, которая принимает на вход строку и определяет, является ли она палиндромом. Используйте срезы."
      ],
      "metadata": {
        "id": "8yBw6vr0QKZA"
      }
    },
    {
      "cell_type": "code",
      "source": [],
      "metadata": {
        "id": "Jq4j3-UMQIS3"
      },
      "execution_count": null,
      "outputs": []
    },
    {
      "cell_type": "markdown",
      "source": [
        "Задание 2. Напишите программу, которая принимает на вход две строки и определяет, являются ли они анаграммами друг друга. Используйте сортировку."
      ],
      "metadata": {
        "id": "R49gNom1QTPg"
      }
    },
    {
      "cell_type": "code",
      "execution_count": null,
      "metadata": {
        "id": "13XGqlk3P7_a"
      },
      "outputs": [],
      "source": []
    },
    {
      "cell_type": "markdown",
      "source": [
        "Задание 3*. Напишите программу, которая принимает на вход две строки и определяет, можно ли вторую составить из букв первой (необязательно всех). Используйте метод .count()."
      ],
      "metadata": {
        "id": "U86lu-XKQcnh"
      }
    },
    {
      "cell_type": "code",
      "source": [],
      "metadata": {
        "id": "6CCHXA1mQreF"
      },
      "execution_count": null,
      "outputs": []
    },
    {
      "cell_type": "markdown",
      "source": [
        "Задание 4. Дан результат распознавания рукописных чисел. Не все цифры распознались корректно:\n",
        "* Цифра 1 могла распознаться как символы `I`, `l`, `|`.\n",
        "* Цифра 0 могла распознаться как символ `O`.\n",
        "\n",
        "Определите сумму чисел. Используйте метод .replace()."
      ],
      "metadata": {
        "id": "gA-92fKOQr0S"
      }
    },
    {
      "cell_type": "code",
      "source": [
        "text = \"I23 lO 671 9O4 56| 8I2 348 5IO\""
      ],
      "metadata": {
        "id": "hu5u3hFFRChb"
      },
      "execution_count": null,
      "outputs": []
    },
    {
      "cell_type": "markdown",
      "source": [
        "Задание 5. Дан текст с числами, разделёнными дефисами и пробелами. Написать код, который выводит все числа в возрастающем порядке. Используйте сортировку.\n"
      ],
      "metadata": {
        "id": "lFqrR6RLRQwV"
      }
    },
    {
      "cell_type": "code",
      "source": [
        "text = [\n",
        "    \"8-32 4-535-6 10-3 3 30-31-8 32-2 3 5\\n\",\n",
        "    \"342-12 13789 43 234 04-34 2-1-1-0\\n\",\n",
        "    \"32-5-31-45-1 34 36 54-123-62-998\\n\",\n",
        "]"
      ],
      "metadata": {
        "id": "lGmk4EfQRsYd"
      },
      "execution_count": null,
      "outputs": []
    },
    {
      "cell_type": "markdown",
      "source": [
        "Задание 6. Дан текст на латинском алфавите. Провести с ним следующие изменения (каждое изменение производится с изначальным текстом):\n",
        "\n",
        "* привести весь текст к нижнему регистру, убрать точки и запятые, заменить все буквы \"o\" на цифры \"0\".\n",
        "* привести весь текст к верхнему регистру, заменить все буквы \"A\", \"E\" и \"I\" на цифры \"4\", \"1\" и \"3\" соответственно.\n",
        "* сделать так, чтобы каждое слово начиналось с заглавной буквы (используйте .split())\n",
        "* удвоить каждую гласную букву (используйте цикл)."
      ],
      "metadata": {
        "id": "QcVPYEd-S2Wp"
      }
    },
    {
      "cell_type": "code",
      "source": [
        "text = \"Lorem ipsum dolor sit amet, consectetur adipiscing elit, sed do eiusmod tempor incididunt ut labore et dolore magna aliqua. Ut enim ad minim veniam, quis nostrud exercitation ullamco laboris nisi ut aliquip ex ea commodo consequat. Duis aute irure dolor in reprehenderit in voluptate velit esse cillum dolore eu fugiat nulla pariatur. Excepteur sint occaecat cupidatat non proident, sunt in culpa qui officia deserunt mollit anim id est laborum.\""
      ],
      "metadata": {
        "id": "NX549SlcSsMJ"
      },
      "execution_count": 1,
      "outputs": []
    },
    {
      "cell_type": "markdown",
      "source": [
        "Задание 7. Дан текст. Разбейте текст на слова (убрав точки и запятые), найдите пять самых длинных слов и выведите на экран. Используйте срезы и сортировку."
      ],
      "metadata": {
        "id": "_HVyWJXvS9vS"
      }
    },
    {
      "cell_type": "code",
      "source": [
        "text = \"Lorem ipsum dolor sit amet, consectetur adipiscing elit, sed do eiusmod tempor incididunt ut labore et dolore magna aliqua. Ut enim ad minim veniam, quis nostrud exercitation ullamco laboris nisi ut aliquip ex ea commodo consequat. Duis aute irure dolor in reprehenderit in voluptate velit esse cillum dolore eu fugiat nulla pariatur. Excepteur sint occaecat cupidatat non proident, sunt in culpa qui officia deserunt mollit anim id est laborum.\""
      ],
      "metadata": {
        "id": "7CWVsHZITS9i"
      },
      "execution_count": null,
      "outputs": []
    },
    {
      "cell_type": "markdown",
      "source": [
        "Задание 8. Напишите программу, которая принимает на вход слово на русском языке и заменяет в нём каждую букву на её номер в алфавите. Номера нужно вывести на экран, соединённые дефисом. Например: \"мама\" -> \"14-1-14-1\"\n",
        "\n",
        "Подсказка: создайте строку с алфавитом и используйте метод .index() или .find()."
      ],
      "metadata": {
        "id": "McVv8vMQThp3"
      }
    },
    {
      "cell_type": "code",
      "source": [],
      "metadata": {
        "id": "VKw-yG7qTUdo"
      },
      "execution_count": null,
      "outputs": []
    },
    {
      "cell_type": "markdown",
      "source": [
        "Задание 9. Дан текст на русском языке. Определите количество слогов в каждом предложении (количество слогов определите по количеству гласных)."
      ],
      "metadata": {
        "id": "CnHVFccAUEj2"
      }
    },
    {
      "cell_type": "code",
      "source": [
        "text = \"Был тихий серый вечер. Дул ветер, слабый и теплый. Небо было покрыто тучами, сквозь которые иногда прорывались лучи заходящего солнца.\""
      ],
      "metadata": {
        "id": "MyoS3nYtUD_K"
      },
      "execution_count": null,
      "outputs": []
    }
  ]
}