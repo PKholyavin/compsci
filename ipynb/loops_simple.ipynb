{
 "cells": [
  {
   "cell_type": "markdown",
   "metadata": {},
   "source": [
    "### Цикл `for`"
   ]
  },
  {
   "cell_type": "markdown",
   "metadata": {},
   "source": [
    "`for` позволяет перебрать по очереди все элементы в последовательности. Всё то, что находится после `for` и написано с отступом (не забывайте про отступы!), будет выполняться один раз для каждого элемента последовательности. Один шаг цикла называется **итерацией**.\n",
    "\n",
    "*Примечание: в других языках такие циклы называются* `foreach`.\n",
    "\n",
    "После первой строчки цикла (перед началом отступов) обязательно двоеточие."
   ]
  },
  {
   "cell_type": "markdown",
   "metadata": {},
   "source": [
    "Самый простой способ задать последовательность &ndash; функция `range()`, которая выдаёт по очереди все целые числа от 0 до N **не включая!**\n",
    "\n",
    "Напечатаем все квадраты чисел от 0 до 9."
   ]
  },
  {
   "cell_type": "code",
   "execution_count": 6,
   "metadata": {},
   "outputs": [
    {
     "name": "stdout",
     "output_type": "stream",
     "text": [
      "0 0\n",
      "1 1\n",
      "2 4\n",
      "3 9\n",
      "4 16\n",
      "5 25\n",
      "6 36\n",
      "7 49\n",
      "8 64\n",
      "9 81\n",
      "done\n"
     ]
    }
   ],
   "source": [
    "for num in range(10):\n",
    "    print(num, num ** 2)\n",
    "    num = 11\n",
    "    # эта строчка ни на что не влияет!\n",
    "    # На следующей итерации num будет следующим числои по порядку\n",
    "print(\"done\")"
   ]
  },
  {
   "cell_type": "markdown",
   "metadata": {},
   "source": [
    "Напечатаем все квадраты чисел от 3 до 13."
   ]
  },
  {
   "cell_type": "code",
   "execution_count": 5,
   "metadata": {},
   "outputs": [
    {
     "name": "stdout",
     "output_type": "stream",
     "text": [
      "3 9\n",
      "4 16\n",
      "5 25\n",
      "6 36\n",
      "7 49\n",
      "8 64\n",
      "9 81\n",
      "10 100\n",
      "11 121\n",
      "12 144\n",
      "13 169\n"
     ]
    }
   ],
   "source": [
    "for num in range(3, 14):\n",
    "    print(num, num ** 2)"
   ]
  },
  {
   "cell_type": "markdown",
   "metadata": {},
   "source": [
    "Напечатаем все квадраты чисел от 3 до 23 с шагом 2 (каждое второе число)."
   ]
  },
  {
   "cell_type": "code",
   "execution_count": 4,
   "metadata": {},
   "outputs": [
    {
     "name": "stdout",
     "output_type": "stream",
     "text": [
      "3 9\n",
      "5 25\n",
      "7 49\n",
      "9 81\n",
      "11 121\n",
      "13 169\n",
      "15 225\n",
      "17 289\n",
      "19 361\n",
      "21 441\n",
      "23 529\n"
     ]
    }
   ],
   "source": [
    "for num in range(3, 24, 2):\n",
    "    print(num, num ** 2)"
   ]
  },
  {
   "cell_type": "markdown",
   "metadata": {},
   "source": [
    "Дана строка. Напечатаем отдельно каждый символ этой строки:"
   ]
  },
  {
   "cell_type": "code",
   "execution_count": null,
   "metadata": {},
   "outputs": [
    {
     "name": "stdout",
     "output_type": "stream",
     "text": [
      "a\n",
      "b\n",
      "c\n",
      "d\n",
      "e\n",
      "f\n"
     ]
    }
   ],
   "source": [
    "letters = \"abcdef\"\n",
    "for let in letters:\n",
    "    print(let)"
   ]
  },
  {
   "cell_type": "markdown",
   "metadata": {},
   "source": [
    "`str` &ndash; это iterable (итерируемый объект &ndash; по ним можно итерировать, то есть ходить циклом). Также к итерируемым объектам относятся списки (`list`)."
   ]
  },
  {
   "cell_type": "markdown",
   "metadata": {},
   "source": [
    "### Цикл `while`\n",
    "\n",
    "Цикл `while`, или цикл с предусловием, будет выполняться до тех пор, пока выполняется условие в его шапке. После условия обязательно двоеточие."
   ]
  },
  {
   "cell_type": "code",
   "execution_count": null,
   "metadata": {},
   "outputs": [
    {
     "name": "stdout",
     "output_type": "stream",
     "text": [
      "9\n",
      "8\n",
      "7\n",
      "6\n",
      "5\n",
      "4\n",
      "3\n",
      "2\n",
      "1\n",
      "0\n"
     ]
    }
   ],
   "source": [
    "num = 10\n",
    "while num > 0:\n",
    "    num -= 1\n",
    "    print(num)"
   ]
  },
  {
   "cell_type": "markdown",
   "metadata": {},
   "source": [
    "С помощью `while` легко случайно создать бесконечный цикл. Например:"
   ]
  },
  {
   "cell_type": "code",
   "execution_count": null,
   "metadata": {},
   "outputs": [],
   "source": [
    "num = 10\n",
    "while num > 0:\n",
    "    num += 1  # num всегда увеличивается и никогда не будет равно 0!\n",
    "    print(num)"
   ]
  },
  {
   "cell_type": "markdown",
   "metadata": {},
   "source": [
    "**Задания:**\n",
    "\n",
    "1. С помощью функции `range()` и цикла `for` найдите сумму всех чисел от 1 до 100."
   ]
  },
  {
   "cell_type": "code",
   "execution_count": 7,
   "metadata": {},
   "outputs": [
    {
     "name": "stdout",
     "output_type": "stream",
     "text": [
      "5050\n"
     ]
    }
   ],
   "source": [
    "result = 0\n",
    "for i in range(1, 101):\n",
    "    result += i\n",
    "\n",
    "print(result)"
   ]
  },
  {
   "cell_type": "markdown",
   "metadata": {},
   "source": [
    "2. Модифицируйте предыдущую программу, чтобы найти сумму всех чисел от 1 до 100, которые делятся на 3 или 7."
   ]
  },
  {
   "cell_type": "code",
   "execution_count": 8,
   "metadata": {},
   "outputs": [
    {
     "name": "stdout",
     "output_type": "stream",
     "text": [
      "2208\n"
     ]
    }
   ],
   "source": [
    "result = 0\n",
    "for i in range(1, 101):\n",
    "    if i % 3 == 0 or i % 7 == 0:\n",
    "        result += i\n",
    "\n",
    "print(result)"
   ]
  },
  {
   "cell_type": "markdown",
   "metadata": {},
   "source": [
    "3. Напишите программу, которая выводит таблицу умножения заданного числа. Пользователь вводит число n, программа должна вывести таблицу умножения этого числа от 1 до 10:\n",
    "\n",
    "```\n",
    "5 * 1 = 5\n",
    "5 * 2 = 10\n",
    "...\n",
    "\n",
    "```"
   ]
  },
  {
   "cell_type": "code",
   "execution_count": 9,
   "metadata": {},
   "outputs": [
    {
     "name": "stdout",
     "output_type": "stream",
     "text": [
      "4 * 1 = 4\n",
      "4 * 2 = 8\n",
      "4 * 3 = 12\n",
      "4 * 4 = 16\n",
      "4 * 5 = 20\n",
      "4 * 6 = 24\n",
      "4 * 7 = 28\n",
      "4 * 8 = 32\n",
      "4 * 9 = 36\n",
      "4 * 10 = 40\n"
     ]
    }
   ],
   "source": [
    "n = int(input(\"Введите число: \"))\n",
    "for i in range(1, 11):\n",
    "    print(n, \"*\", i, \"=\", n * i)"
   ]
  },
  {
   "cell_type": "markdown",
   "metadata": {},
   "source": [
    "4. Вывести на экран все числа от 1 до 100. Если число делится на 3, вместо него написать Fizz. Если число делится на 5, вместо него написать Buzz. Если число делится и на 3, и на 5, вместо него написать FizzBuzz. \n",
    "\n",
    "`a % 3 == 0` -> Fizz  \n",
    "`a % 5 == 0` -> Buzz  \n",
    "`a % 3 == 0 and a % 5 == 0` -> FizzBuzz  "
   ]
  },
  {
   "cell_type": "code",
   "execution_count": null,
   "metadata": {},
   "outputs": [],
   "source": []
  }
 ],
 "metadata": {
  "kernelspec": {
   "display_name": "Python 3",
   "language": "python",
   "name": "python3"
  },
  "language_info": {
   "codemirror_mode": {
    "name": "ipython",
    "version": 3
   },
   "file_extension": ".py",
   "mimetype": "text/x-python",
   "name": "python",
   "nbconvert_exporter": "python",
   "pygments_lexer": "ipython3",
   "version": "3.13.1"
  }
 },
 "nbformat": 4,
 "nbformat_minor": 2
}
