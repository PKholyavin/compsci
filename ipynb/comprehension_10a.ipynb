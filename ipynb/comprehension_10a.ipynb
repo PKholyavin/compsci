{
 "cells": [
  {
   "cell_type": "markdown",
   "metadata": {},
   "source": [
    "### Устный опрос\n",
    "\n",
    "Как напечатать все элементы списка, каждый на своей строчке? Выбрать все подходящие варианты."
   ]
  },
  {
   "cell_type": "code",
   "execution_count": null,
   "metadata": {},
   "outputs": [],
   "source": [
    "a = [\"1\", \"2\", \"3\", \"4\", \"5\"]\n",
    "for i in a:\n",
    "    print(a[i])"
   ]
  },
  {
   "cell_type": "code",
   "execution_count": null,
   "metadata": {},
   "outputs": [],
   "source": [
    "a = [\"1\", \"2\", \"3\", \"4\", \"5\"]\n",
    "for i in enumerate(a):\n",
    "    print(a[i])"
   ]
  },
  {
   "cell_type": "code",
   "execution_count": null,
   "metadata": {},
   "outputs": [],
   "source": [
    "a = [\"1\", \"2\", \"3\", \"4\", \"5\"]\n",
    "for i, el in enumerate(a):\n",
    "    print(el)"
   ]
  },
  {
   "cell_type": "code",
   "execution_count": null,
   "metadata": {},
   "outputs": [],
   "source": [
    "a = [\"1\", \"2\", \"3\", \"4\", \"5\"]\n",
    "for i in a:\n",
    "    print(i)"
   ]
  },
  {
   "cell_type": "code",
   "execution_count": null,
   "metadata": {},
   "outputs": [],
   "source": [
    "a = [\"1\", \"2\", \"3\", \"4\", \"5\"]\n",
    "for i in range(a):\n",
    "    print(a[i])"
   ]
  },
  {
   "cell_type": "markdown",
   "metadata": {},
   "source": [
    "### Управление циклами\n",
    "\n",
    "```break``` / ```else```\n",
    "\n",
    "`break` позволяет досрочно завершить цикл. Внутри цикла мы можем проверять, выполняется ли какое-то условие, и, если оно выполняется, завершить цикл. Например: дан список целых чисел. Переберём все числа по очереди и проверим, есть ли среди них тройки. Если есть, то цикл можно заканчивать, не доходя до конца.\n",
    "\n",
    "`else` будет выполняться, если цикл завершился штатно, без досрочного выхода."
   ]
  },
  {
   "cell_type": "code",
   "execution_count": null,
   "metadata": {},
   "outputs": [],
   "source": [
    "x = [1, 2, 3, 4, 5]\n",
    "for i in x:\n",
    "    if i == 3:\n",
    "        print(\"found three\")\n",
    "        break\n",
    "else:\n",
    "    print(\"no threes detected\")"
   ]
  },
  {
   "cell_type": "code",
   "execution_count": null,
   "metadata": {},
   "outputs": [],
   "source": [
    "x = [1, 2, 8, 4, 5]\n",
    "for i in x:\n",
    "    if i == 3:\n",
    "        print(\"found three\")\n",
    "        break\n",
    "else:\n",
    "    print(\"no threes detected\")"
   ]
  },
  {
   "cell_type": "markdown",
   "metadata": {},
   "source": [
    "Пример: можем задать бесконечный цикл (`while True`) и внутри него проверять, не выполняется ли какое-то условие."
   ]
  },
  {
   "cell_type": "code",
   "execution_count": null,
   "metadata": {},
   "outputs": [],
   "source": [
    "a = 20\n",
    "while True:\n",
    "    if a % 2 != 0:  # if a % 2:\n",
    "        break\n",
    "    a //= 2\n",
    "print(a)"
   ]
  },
  {
   "cell_type": "markdown",
   "metadata": {},
   "source": [
    "Эквивалентный код:"
   ]
  },
  {
   "cell_type": "code",
   "execution_count": null,
   "metadata": {},
   "outputs": [],
   "source": [
    "a = 20\n",
    "while a % 2 == 0:\n",
    "    a //= 2\n",
    "print(a)"
   ]
  },
  {
   "cell_type": "markdown",
   "metadata": {},
   "source": [
    "Напишите программу, которая принимает на вход произвольное количество чисел и вычисляет их среднее значение.\n",
    "\n",
    "* используйте бесконечный цикл\n",
    "* чтобы остановить ввод чисел, пусть пользователь введёт слово `\"stop\"`\n",
    "* в этом случае вы должны остановить цикл с помощью оператора `break`"
   ]
  },
  {
   "cell_type": "code",
   "execution_count": null,
   "metadata": {},
   "outputs": [],
   "source": []
  },
  {
   "cell_type": "markdown",
   "metadata": {},
   "source": [
    "Оператор `continue` позволяет завершить текущий шаг (итерацию цикла) и сразу перейти к следующему, не отрабатывая этот до конца. Например: дан список целых чисел. Выведем на экран квадраты всех, кроме тех, которые равны трём."
   ]
  },
  {
   "cell_type": "code",
   "execution_count": null,
   "metadata": {},
   "outputs": [],
   "source": [
    "x = [1, 2, 3, 4, 5]\n",
    "for i in x:\n",
    "    if i == 3: # guard clause\n",
    "        print(\"threes are weird\")\n",
    "        continue\n",
    "    print(\"square\", i ** 2)"
   ]
  },
  {
   "cell_type": "markdown",
   "metadata": {},
   "source": [
    "### Тернарный оператор\n",
    "\n",
    "Тернарный оператор позволяет присвоить в переменную одно или другое значение в зависимости от какого-то условия в одну строчку. Мы уже умеем делать это в пять строчек:"
   ]
  },
  {
   "cell_type": "code",
   "execution_count": null,
   "metadata": {},
   "outputs": [],
   "source": [
    "x = 0\n",
    "if x == 0:\n",
    "    y = 0\n",
    "else:\n",
    "    y = 1 / x\n",
    "print(y)"
   ]
  },
  {
   "cell_type": "markdown",
   "metadata": {},
   "source": [
    "А так выглядит тернарный оператор:"
   ]
  },
  {
   "cell_type": "code",
   "execution_count": null,
   "metadata": {},
   "outputs": [],
   "source": [
    "y = 0 if x == 0 else 1 / x\n",
    "print(y)"
   ]
  },
  {
   "cell_type": "markdown",
   "metadata": {},
   "source": [
    "###  List comprehension\n",
    "\n",
    "List comprehension &ndash; инструмент для генерации списков на основе цикла `for` (иногда его называют генератором списков или списковым включением)"
   ]
  },
  {
   "cell_type": "markdown",
   "metadata": {},
   "source": [
    "Синтаксис такой:\n",
    "\n",
    "`название переменной = [какое-то_выражение for переменная_итерации in итерируемый_объект]`\n",
    "\n",
    "Например: дан список `x`, содержащий целые числа. Создадим список `y`, каждый элемент которого будет равен соответствующему (по порядку) элементу `x` &ndash; то есть копию `x`. Обратите внимание, что списки разные (хотя они и равны) &ndash; они занимают разное место в памяти."
   ]
  },
  {
   "cell_type": "code",
   "execution_count": null,
   "metadata": {},
   "outputs": [],
   "source": [
    "x = [1, 2, 3, 4, 5]\n",
    "y = [i for i in x]\n",
    "print(y, x is y)"
   ]
  },
  {
   "cell_type": "markdown",
   "metadata": {},
   "source": [
    "Создадим список `y`, каждый элемент которого будет равен **квадрату** соответствующего (по порядку) элемента `x`."
   ]
  },
  {
   "cell_type": "code",
   "execution_count": null,
   "metadata": {},
   "outputs": [],
   "source": [
    "y = [i ** 2 for i in x]\n",
    "print(y)"
   ]
  },
  {
   "cell_type": "markdown",
   "metadata": {},
   "source": [
    "Теперь вместо списка `x` будем использовать функцию `range()`, которая, как мы помним, генерирует последовательности целых чисел. Теперь `y` будет содержать квадраты всех чисел от 0 до 10 (не включая)."
   ]
  },
  {
   "cell_type": "code",
   "execution_count": null,
   "metadata": {},
   "outputs": [],
   "source": [
    "y = [i ** 2 for i in range(10)]\n",
    "print(y)"
   ]
  },
  {
   "cell_type": "markdown",
   "metadata": {},
   "source": [
    "Мы можем из исходного списка отбирать не все элементы, а только те, которые удовлетворяют какому-то условию. Теперь в `y` будут квадраты не всех чисел, а только чётных."
   ]
  },
  {
   "cell_type": "code",
   "execution_count": null,
   "metadata": {},
   "outputs": [],
   "source": [
    "y = [i ** 2 for i in range(10) if i % 2 == 0]\n",
    "print(y)"
   ]
  },
  {
   "cell_type": "markdown",
   "metadata": {},
   "source": [
    "Выражение, которое показывает, как из элемента исходного списка сделать элемент нового, может включать тернарный оператор. Например: теперь в `y` будут квадраты, если число делится на три, а в противном случае &ndash; кубы."
   ]
  },
  {
   "cell_type": "code",
   "execution_count": null,
   "metadata": {},
   "outputs": [],
   "source": [
    "y = [i ** 2 if i % 3 == 0 else i ** 3 for i in range(10)]\n",
    "print(y)"
   ]
  },
  {
   "cell_type": "markdown",
   "metadata": {},
   "source": [
    "Можем совместить:\n",
    "\n",
    "Из `range()` отберём только чётные числа. Если они делятся на 3, возведём в квадрат, иначе &ndash; в куб."
   ]
  },
  {
   "cell_type": "code",
   "execution_count": null,
   "metadata": {},
   "outputs": [],
   "source": [
    "y = [i ** 2 if i % 3 == 0 else i ** 3 for i in range(10) if i % 2 == 0]\n",
    "print(y)"
   ]
  },
  {
   "cell_type": "markdown",
   "metadata": {},
   "source": [
    "### Вложенные циклы\n",
    "\n",
    "1) без list comprehension:\n",
    "\n",
    "Вопрос: сколько элементов будет в списке `y`?"
   ]
  },
  {
   "cell_type": "code",
   "execution_count": null,
   "metadata": {},
   "outputs": [],
   "source": [
    "y = []\n",
    "for j in range(1, 4):\n",
    "    for i in range(1, 4):\n",
    "        y.append(i * j)\n",
    "print(y)"
   ]
  },
  {
   "cell_type": "markdown",
   "metadata": {},
   "source": [
    "2. с list comprehension"
   ]
  },
  {
   "cell_type": "code",
   "execution_count": null,
   "metadata": {},
   "outputs": [],
   "source": [
    "y = [i * j for i in range(1, 4) for j in range(1, 4)]\n",
    "print(y)"
   ]
  },
  {
   "cell_type": "markdown",
   "metadata": {},
   "source": [
    "Порядок важен!\n",
    "\n",
    "В списке `big_list` содержится три списка, которые содержат целые числа (назовём это вложенными списками)."
   ]
  },
  {
   "cell_type": "code",
   "execution_count": null,
   "metadata": {},
   "outputs": [],
   "source": [
    "big_list = [[1, 2, 3], [4, 5, 6], [7, 8, 9]]\n",
    "y = [el ** 2 for sub_list in big_list for el in sub_list]\n",
    "print(y)"
   ]
  },
  {
   "cell_type": "code",
   "execution_count": null,
   "metadata": {},
   "outputs": [],
   "source": [
    "y = [[el ** 2 for el in sub_list] for sub_list in big_list]\n",
    "print(y)"
   ]
  },
  {
   "cell_type": "markdown",
   "metadata": {},
   "source": [
    "Разница между этими двумя фрагментами кода в том, что первый &ndash; это один сложный list comprehension с двумя циклами, а второй &ndash; два list comprehension, вложенные один в другой. Первый создаёт список целых чисел, второй &ndash; список списков."
   ]
  },
  {
   "cell_type": "markdown",
   "metadata": {},
   "source": [
    "**Задание для выполнения в классе**: \n",
    "1. Запишите код ниже в одну строку:"
   ]
  },
  {
   "cell_type": "code",
   "execution_count": null,
   "metadata": {},
   "outputs": [],
   "source": [
    "a = []\n",
    "for i in range(3, 20):\n",
    "    if i % 3 == 0:\n",
    "        continue\n",
    "    if i % 2 == 0:\n",
    "        a.append(i // 2)\n",
    "    else:\n",
    "        a.append(i * 2)\n",
    "print(a)"
   ]
  },
  {
   "cell_type": "code",
   "execution_count": null,
   "metadata": {},
   "outputs": [],
   "source": []
  },
  {
   "cell_type": "markdown",
   "metadata": {},
   "source": [
    "2. Дан список слов. Создать новый список, где каждым элементом будет длина слова из первого списка.\n",
    "\n",
    "а) С помощью цикла `for`"
   ]
  },
  {
   "cell_type": "code",
   "execution_count": null,
   "metadata": {},
   "outputs": [],
   "source": [
    "words = [\"apple\", \"banana\", \"orange\", \"pear\", \"pineapple\"]\n"
   ]
  },
  {
   "cell_type": "markdown",
   "metadata": {},
   "source": [
    "б) с помощью list comprehension"
   ]
  },
  {
   "cell_type": "code",
   "execution_count": null,
   "metadata": {},
   "outputs": [],
   "source": [
    "words = [\"apple\", \"banana\", \"orange\", \"pear\", \"pineapple\"]\n"
   ]
  },
  {
   "cell_type": "markdown",
   "metadata": {},
   "source": [
    "3. Дана переменная, содержащая фамилию, и список, содержащий имена. Создать новый список, где каждым элементом будет полное имя (имя и фамилия)."
   ]
  },
  {
   "cell_type": "code",
   "execution_count": null,
   "metadata": {},
   "outputs": [],
   "source": [
    "lastname = \"Smith\"\n",
    "firstnames = [\"John\", \"Mary\", \"Peter\", \"Aerith\", \"Bob\"]\n",
    "# не забудем поставить между фамилией и именем пробел\n"
   ]
  },
  {
   "cell_type": "markdown",
   "metadata": {},
   "source": [
    "4. Из списка полных имён создать новый, в котором будут только те, длина которых не превышает 10 символов."
   ]
  },
  {
   "cell_type": "code",
   "execution_count": null,
   "metadata": {},
   "outputs": [],
   "source": []
  },
  {
   "cell_type": "markdown",
   "metadata": {},
   "source": [
    "5. Используя цикл `for`, вычислить суммарную длину всех имён."
   ]
  },
  {
   "cell_type": "code",
   "execution_count": null,
   "metadata": {},
   "outputs": [],
   "source": []
  },
  {
   "cell_type": "markdown",
   "metadata": {},
   "source": [
    "6. Написать программу, которая принимает на вход через `input()` целое число `n` и выводит на экран \"ёлочку\" из звёздочек высотой `n`."
   ]
  },
  {
   "cell_type": "markdown",
   "metadata": {},
   "source": [
    "```\n",
    "         *         \n",
    "        ***        \n",
    "       *****       \n",
    "      *******      \n",
    "     *********     \n",
    "    ***********    \n",
    "   *************   \n",
    "  ***************  \n",
    " ***************** \n",
    "*******************\n",
    "```"
   ]
  },
  {
   "cell_type": "markdown",
   "metadata": {},
   "source": [
    "Подсказка: чтобы получить строку из `n` одинаковых символов, достаточно умножить строку с этим символом на `n`."
   ]
  },
  {
   "cell_type": "code",
   "execution_count": null,
   "metadata": {},
   "outputs": [],
   "source": [
    "foo = \"0\" * 5\n",
    "print(foo)"
   ]
  },
  {
   "cell_type": "code",
   "execution_count": null,
   "metadata": {},
   "outputs": [],
   "source": []
  },
  {
   "cell_type": "markdown",
   "metadata": {},
   "source": [
    "Посидите с ручкой и бумажкой и удостоверьтесь, что вы понимаете, почему количество пробелов и звёздочек в каждой строчке вычисляется именно по этим формулам. Не забудьте, что `range()` выдаёт числа, начиная с 0!"
   ]
  }
 ],
 "metadata": {
  "kernelspec": {
   "display_name": "Python 3",
   "language": "python",
   "name": "python3"
  },
  "language_info": {
   "codemirror_mode": {
    "name": "ipython",
    "version": 3
   },
   "file_extension": ".py",
   "mimetype": "text/x-python",
   "name": "python",
   "nbconvert_exporter": "python",
   "pygments_lexer": "ipython3",
   "version": "3.13.1"
  }
 },
 "nbformat": 4,
 "nbformat_minor": 2
}
